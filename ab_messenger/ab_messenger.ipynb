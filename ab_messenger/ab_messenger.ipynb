{
 "cells": [
  {
   "cell_type": "markdown",
   "id": "15ed69e8",
   "metadata": {},
   "source": [
    "# Анализ результатов А/А и А/В - тестов в мессенджере"
   ]
  },
  {
   "cell_type": "markdown",
   "id": "71d7bb1e",
   "metadata": {},
   "source": [
    "В мессенджере команда ML сделала некоторые новые алгоритмы рекомендаций новостей в ленте. Естественно, ожидается, что новые алгоритмы сделают пользователей счастливее, а продукт удобнее/приятнее в использовании. \n",
    "\n",
    "**Задача:**\n",
    "1. Проверить корректно ли работает наша система сплитования.\n",
    "2. Проверить гипотезу, что новый алгоритм приведет к увеличению CTR."
   ]
  },
  {
   "cell_type": "markdown",
   "id": "8ae45a59",
   "metadata": {},
   "source": [
    "## Библиотеки"
   ]
  },
  {
   "cell_type": "code",
   "execution_count": 1,
   "id": "2df71c80",
   "metadata": {},
   "outputs": [],
   "source": [
    "import pandahouse\n",
    "import pandas as pd\n",
    "import seaborn as sns\n",
    "import matplotlib.pyplot as plt\n",
    "import numpy as np\n",
    "from scipy import stats # статистика\n",
    "%matplotlib inline"
   ]
  },
  {
   "cell_type": "code",
   "execution_count": 2,
   "id": "705a07aa",
   "metadata": {},
   "outputs": [],
   "source": [
    "connection = {\n",
    "    'host': 'https://clickhouse.lab.karpov.courses',\n",
    "    'password': 'dpo_python_2020',\n",
    "    'user': 'student',\n",
    "    'database': 'simulator_20230720'\n",
    "}"
   ]
  },
  {
   "cell_type": "markdown",
   "id": "451c4f43",
   "metadata": {},
   "source": [
    "## АА-тест"
   ]
  },
  {
   "cell_type": "markdown",
   "id": "61ab7d6b",
   "metadata": {},
   "source": [
    "АА-тест проводился в период с `2023-06-23` по `2023-06-29`. Эксперементальные группы - 2 и 3. Выгрузим данные из базы."
   ]
  },
  {
   "cell_type": "code",
   "execution_count": 3,
   "id": "7b14414e",
   "metadata": {},
   "outputs": [],
   "source": [
    "q = \"\"\"\n",
    "SELECT exp_group, \n",
    "        user_id,\n",
    "        sum(action = 'like') as likes,\n",
    "        sum(action = 'view') as views,\n",
    "        likes/views as ctr\n",
    "FROM {db}.feed_actions \n",
    "WHERE toDate(time) >= '2023-06-23' and toDate(time) <= '2023-06-29'\n",
    "    and exp_group in (2,3)\n",
    "GROUP BY exp_group, user_id\n",
    "\"\"\"\n",
    "\n",
    "df = pandahouse.read_clickhouse(q, connection=connection)"
   ]
  },
  {
   "cell_type": "code",
   "execution_count": 4,
   "id": "8d2d768c",
   "metadata": {},
   "outputs": [
    {
     "data": {
      "text/html": [
       "<div>\n",
       "<style scoped>\n",
       "    .dataframe tbody tr th:only-of-type {\n",
       "        vertical-align: middle;\n",
       "    }\n",
       "\n",
       "    .dataframe tbody tr th {\n",
       "        vertical-align: top;\n",
       "    }\n",
       "\n",
       "    .dataframe thead th {\n",
       "        text-align: right;\n",
       "    }\n",
       "</style>\n",
       "<table border=\"1\" class=\"dataframe\">\n",
       "  <thead>\n",
       "    <tr style=\"text-align: right;\">\n",
       "      <th></th>\n",
       "      <th>exp_group</th>\n",
       "      <th>user_id</th>\n",
       "      <th>likes</th>\n",
       "      <th>views</th>\n",
       "      <th>ctr</th>\n",
       "    </tr>\n",
       "  </thead>\n",
       "  <tbody>\n",
       "    <tr>\n",
       "      <th>0</th>\n",
       "      <td>3</td>\n",
       "      <td>115383</td>\n",
       "      <td>38</td>\n",
       "      <td>248</td>\n",
       "      <td>0.153226</td>\n",
       "    </tr>\n",
       "    <tr>\n",
       "      <th>1</th>\n",
       "      <td>3</td>\n",
       "      <td>10326</td>\n",
       "      <td>24</td>\n",
       "      <td>132</td>\n",
       "      <td>0.181818</td>\n",
       "    </tr>\n",
       "    <tr>\n",
       "      <th>2</th>\n",
       "      <td>3</td>\n",
       "      <td>123580</td>\n",
       "      <td>25</td>\n",
       "      <td>122</td>\n",
       "      <td>0.204918</td>\n",
       "    </tr>\n",
       "    <tr>\n",
       "      <th>3</th>\n",
       "      <td>2</td>\n",
       "      <td>131473</td>\n",
       "      <td>19</td>\n",
       "      <td>98</td>\n",
       "      <td>0.193878</td>\n",
       "    </tr>\n",
       "    <tr>\n",
       "      <th>4</th>\n",
       "      <td>2</td>\n",
       "      <td>23985</td>\n",
       "      <td>12</td>\n",
       "      <td>44</td>\n",
       "      <td>0.272727</td>\n",
       "    </tr>\n",
       "  </tbody>\n",
       "</table>\n",
       "</div>"
      ],
      "text/plain": [
       "   exp_group  user_id  likes  views       ctr\n",
       "0          3   115383     38    248  0.153226\n",
       "1          3    10326     24    132  0.181818\n",
       "2          3   123580     25    122  0.204918\n",
       "3          2   131473     19     98  0.193878\n",
       "4          2    23985     12     44  0.272727"
      ]
     },
     "execution_count": 4,
     "metadata": {},
     "output_type": "execute_result"
    }
   ],
   "source": [
    "df.head()"
   ]
  },
  {
   "cell_type": "code",
   "execution_count": 5,
   "id": "aaf55b99",
   "metadata": {},
   "outputs": [],
   "source": [
    "group_A1 = df[df['exp_group'] == 2].copy()\n",
    "group_A2 = df[df['exp_group'] == 3].copy()"
   ]
  },
  {
   "cell_type": "markdown",
   "id": "be5581a6",
   "metadata": {},
   "source": [
    "Проведем симуляцию 10000 АА-тестов:"
   ]
  },
  {
   "cell_type": "code",
   "execution_count": 6,
   "id": "e30da1f6",
   "metadata": {},
   "outputs": [
    {
     "data": {
      "text/html": [
       "<div>\n",
       "<style scoped>\n",
       "    .dataframe tbody tr th:only-of-type {\n",
       "        vertical-align: middle;\n",
       "    }\n",
       "\n",
       "    .dataframe tbody tr th {\n",
       "        vertical-align: top;\n",
       "    }\n",
       "\n",
       "    .dataframe thead th {\n",
       "        text-align: right;\n",
       "    }\n",
       "</style>\n",
       "<table border=\"1\" class=\"dataframe\">\n",
       "  <thead>\n",
       "    <tr style=\"text-align: right;\">\n",
       "      <th></th>\n",
       "      <th>user_id</th>\n",
       "      <th>likes</th>\n",
       "      <th>views</th>\n",
       "      <th>ctr</th>\n",
       "    </tr>\n",
       "    <tr>\n",
       "      <th>exp_group</th>\n",
       "      <th></th>\n",
       "      <th></th>\n",
       "      <th></th>\n",
       "      <th></th>\n",
       "    </tr>\n",
       "  </thead>\n",
       "  <tbody>\n",
       "    <tr>\n",
       "      <th>2</th>\n",
       "      <td>8362</td>\n",
       "      <td>8362</td>\n",
       "      <td>8362</td>\n",
       "      <td>8362</td>\n",
       "    </tr>\n",
       "    <tr>\n",
       "      <th>3</th>\n",
       "      <td>8425</td>\n",
       "      <td>8425</td>\n",
       "      <td>8425</td>\n",
       "      <td>8425</td>\n",
       "    </tr>\n",
       "  </tbody>\n",
       "</table>\n",
       "</div>"
      ],
      "text/plain": [
       "           user_id  likes  views   ctr\n",
       "exp_group                             \n",
       "2             8362   8362   8362  8362\n",
       "3             8425   8425   8425  8425"
      ]
     },
     "execution_count": 6,
     "metadata": {},
     "output_type": "execute_result"
    }
   ],
   "source": [
    "df.groupby('exp_group').count()"
   ]
  },
  {
   "cell_type": "markdown",
   "id": "7bdac381",
   "metadata": {},
   "source": [
    "В группе 2 и 3 примерно одинаковое число пользователей. Построим гистограмму распределения ctr обеих групп."
   ]
  },
  {
   "cell_type": "code",
   "execution_count": 7,
   "id": "f8da7b8b",
   "metadata": {},
   "outputs": [
    {
     "data": {
      "image/png": "[encoded data removed]",
      "text/plain": [
       "<Figure size 842.4x595.44 with 1 Axes>"
      ]
     },
     "metadata": {},
     "output_type": "display_data"
    }
   ],
   "source": [
    "sns.set(rc={'figure.figsize':(11.7,8.27)})\n",
    "\n",
    "groups = sns.histplot(data = df, \n",
    "              x='ctr', \n",
    "              hue='exp_group', \n",
    "              palette = ['r', 'b'],\n",
    "              alpha=0.5,\n",
    "              kde=False)\n",
    "plt.xlabel('CTR')\n",
    "plt.ylabel('Частота')\n",
    "plt.title('Распределение CTR в двух группах')\n",
    "plt.show()"
   ]
  },
  {
   "cell_type": "markdown",
   "id": "8fbd14bd",
   "metadata": {},
   "source": [
    "Визуально распределения ctr двух групп похожи."
   ]
  },
  {
   "cell_type": "code",
   "execution_count": 8,
   "id": "94872f43",
   "metadata": {},
   "outputs": [],
   "source": [
    "#функция для проведения одного t-теста\n",
    "def run_aa_test_with_t_test(group_A1, group_A2):\n",
    "    group_A1_users = group_A1.sample(500, replace=False)\n",
    "    group_A2_users = group_A2.sample(500, replace=False)\n",
    "    ctr_A1 = group_A1_users['ctr'] \n",
    "    ctr_A2 = group_A2_users['ctr'] \n",
    "    p_value = stats.ttest_ind(ctr_A1,ctr_A2, equal_var=False)[1]\n",
    "    return p_value"
   ]
  },
  {
   "cell_type": "code",
   "execution_count": 9,
   "id": "d46f98fc",
   "metadata": {},
   "outputs": [],
   "source": [
    "# считаем p_values для 10 000 тестов\n",
    "num_simulations = 10000\n",
    "p_values = [run_aa_test_with_t_test(group_A1, group_A2) for _ in range(num_simulations)]"
   ]
  },
  {
   "cell_type": "code",
   "execution_count": 10,
   "id": "bfcedb5a",
   "metadata": {},
   "outputs": [
    {
     "data": {
      "image/png": "[encoded data removed]",
      "text/plain": [
       "<Figure size 576x432 with 1 Axes>"
      ]
     },
     "metadata": {},
     "output_type": "display_data"
    }
   ],
   "source": [
    "sns.set(rc={'figure.figsize':(8,6)})\n",
    "\n",
    "groups = sns.histplot(p_values, bins=10,\n",
    "              kde=False)\n",
    "plt.xlabel('p-value')\n",
    "plt.ylabel('Частота')\n",
    "plt.title('Гистограмма распределения 10000 p-values')\n",
    "plt.axvline(x=0.05, color='red', linestyle='--', label='p_value=0.05')\n",
    "plt.legend(loc='lower right')\n",
    "plt.grid(False)\n",
    "plt.show()"
   ]
  },
  {
   "cell_type": "markdown",
   "id": "3fcfbf04",
   "metadata": {},
   "source": [
    "Распределение p_value близко к равномерному."
   ]
  },
  {
   "cell_type": "code",
   "execution_count": 11,
   "id": "639b2912",
   "metadata": {},
   "outputs": [
    {
     "name": "stdout",
     "output_type": "stream",
     "text": [
      "Количество p_value меньше или равное 0,05: 4.8500000000000005 %\n"
     ]
    }
   ],
   "source": [
    "print('Количество p_value меньше или равное 0,05:', \\\n",
    "      sum(np.array(p_values) <  0.05)/len(p_values)*100, '%')"
   ]
  },
  {
   "cell_type": "markdown",
   "id": "20767176",
   "metadata": {},
   "source": [
    "### Вывод"
   ]
  },
  {
   "cell_type": "markdown",
   "id": "c8cf1afa",
   "metadata": {},
   "source": [
    "В результате 10 000 А/А- тестов p_value меньше или равно 0,05 не более, чем в 5% случаях. Таким образом, можно считать, что наша система сплитования работает корректно и различия между CTR групп может быть обусловлено случайными факторами.\n",
    "\n",
    "Данные результаты говорят в пользу того, что проведение дальнейших А/В-тестов с использованием этой системы сплитования будет надежным и достоверным способом оценки влияния изменений на поведение пользователей."
   ]
  },
  {
   "cell_type": "markdown",
   "id": "3d2b6311",
   "metadata": {},
   "source": [
    "## Анализ A/B - теста"
   ]
  },
  {
   "cell_type": "markdown",
   "id": "0d28715a",
   "metadata": {},
   "source": [
    "Эксперимент проходил с 2023-06-30 по 2023-07-06 включительно. \n",
    "\n",
    "Для эксперимента были задействованы 1 и 2 группы:\n",
    "\n",
    "- в группе **2** был использован один из **новых алгоритмов рекомендации постов** (рекомендации \"похожих на лайкнутые постов\") \n",
    "- группа **1** использовалась **в качестве контроля**. \n",
    "\n",
    "Основная гипотеза заключается в том, что новый алгоритм во 2-й группе приведет к увеличению CTR. \n"
   ]
  },
  {
   "cell_type": "code",
   "execution_count": 12,
   "id": "9d6f7e01",
   "metadata": {},
   "outputs": [],
   "source": [
    "# выгружаем рабочую таблицу\n",
    "q = \"\"\"\n",
    "SELECT exp_group, \n",
    "    user_id,\n",
    "    sum(action = 'like') as likes,\n",
    "    sum(action = 'view') as views,\n",
    "    likes/views as ctr\n",
    "FROM {db}.feed_actions \n",
    "WHERE toDate(time) between '2023-06-30' and '2023-07-06'\n",
    "    and exp_group in (1,2)\n",
    "GROUP BY exp_group, user_id\n",
    "\"\"\"\n",
    "\n",
    "df = pandahouse.read_clickhouse(q, connection=connection)\n",
    "group_A = df[df['exp_group'] == 1].copy()\n",
    "group_B = df[df['exp_group'] == 2].copy()"
   ]
  },
  {
   "cell_type": "code",
   "execution_count": 13,
   "id": "d364985e",
   "metadata": {},
   "outputs": [
    {
     "data": {
      "text/html": [
       "<div>\n",
       "<style scoped>\n",
       "    .dataframe tbody tr th:only-of-type {\n",
       "        vertical-align: middle;\n",
       "    }\n",
       "\n",
       "    .dataframe tbody tr th {\n",
       "        vertical-align: top;\n",
       "    }\n",
       "\n",
       "    .dataframe thead th {\n",
       "        text-align: right;\n",
       "    }\n",
       "</style>\n",
       "<table border=\"1\" class=\"dataframe\">\n",
       "  <thead>\n",
       "    <tr style=\"text-align: right;\">\n",
       "      <th></th>\n",
       "      <th>user_id</th>\n",
       "      <th>likes</th>\n",
       "      <th>views</th>\n",
       "      <th>ctr</th>\n",
       "    </tr>\n",
       "    <tr>\n",
       "      <th>exp_group</th>\n",
       "      <th></th>\n",
       "      <th></th>\n",
       "      <th></th>\n",
       "      <th></th>\n",
       "    </tr>\n",
       "  </thead>\n",
       "  <tbody>\n",
       "    <tr>\n",
       "      <th>1</th>\n",
       "      <td>10020</td>\n",
       "      <td>10020</td>\n",
       "      <td>10020</td>\n",
       "      <td>10020</td>\n",
       "    </tr>\n",
       "    <tr>\n",
       "      <th>2</th>\n",
       "      <td>9877</td>\n",
       "      <td>9877</td>\n",
       "      <td>9877</td>\n",
       "      <td>9877</td>\n",
       "    </tr>\n",
       "  </tbody>\n",
       "</table>\n",
       "</div>"
      ],
      "text/plain": [
       "           user_id  likes  views    ctr\n",
       "exp_group                              \n",
       "1            10020  10020  10020  10020\n",
       "2             9877   9877   9877   9877"
      ]
     },
     "execution_count": 13,
     "metadata": {},
     "output_type": "execute_result"
    }
   ],
   "source": [
    "df.groupby('exp_group').count()"
   ]
  },
  {
   "cell_type": "markdown",
   "id": "f439c96e",
   "metadata": {},
   "source": [
    "Группы поделены примерно на одинаковое число пользователей."
   ]
  },
  {
   "cell_type": "code",
   "execution_count": 14,
   "id": "1a4ab8f7",
   "metadata": {},
   "outputs": [
    {
     "data": {
      "image/png": "[encoded data removed]",
      "text/plain": [
       "<Figure size 842.4x595.44 with 1 Axes>"
      ]
     },
     "metadata": {},
     "output_type": "display_data"
    }
   ],
   "source": [
    "sns.set(rc={'figure.figsize':(11.7,8.27)})\n",
    "\n",
    "groups = sns.histplot(data = df, \n",
    "              x='ctr', \n",
    "              hue='exp_group', \n",
    "              palette = ['r', 'b'],\n",
    "              alpha=0.5,\n",
    "              kde=False)\n",
    "plt.xlabel('CTR')\n",
    "plt.ylabel('Частота')\n",
    "plt.title('Распределение CTR в двух группах')\n",
    "plt.show()"
   ]
  },
  {
   "cell_type": "code",
   "execution_count": 15,
   "id": "83fcb1ed",
   "metadata": {},
   "outputs": [
    {
     "data": {
      "text/plain": [
       "(0.2096041628394293, 0.20025051027061783)"
      ]
     },
     "execution_count": 15,
     "metadata": {},
     "output_type": "execute_result"
    }
   ],
   "source": [
    "#глобальные CTR\n",
    "group_A.likes.sum()/group_A.views.sum(), group_B.likes.sum()/group_B.views.sum()"
   ]
  },
  {
   "cell_type": "code",
   "execution_count": 16,
   "id": "e38866c3",
   "metadata": {},
   "outputs": [
    {
     "data": {
      "text/plain": [
       "(0.21677399412007345, 0.21610168932377813)"
      ]
     },
     "execution_count": 16,
     "metadata": {},
     "output_type": "execute_result"
    }
   ],
   "source": [
    "# среднее\n",
    "group_A.ctr.mean(), group_B.ctr.mean()"
   ]
  },
  {
   "cell_type": "code",
   "execution_count": 17,
   "id": "10d19ce9",
   "metadata": {},
   "outputs": [
    {
     "data": {
      "text/plain": [
       "(0.2058823529411764, 0.1532846715328467)"
      ]
     },
     "execution_count": 17,
     "metadata": {},
     "output_type": "execute_result"
    }
   ],
   "source": [
    "# медиана\n",
    "group_A.ctr.median(), group_B.ctr.median()"
   ]
  },
  {
   "cell_type": "markdown",
   "id": "b3817f1a",
   "metadata": {},
   "source": [
    "**Вывод:** Распределение 2 группы пользователей имеет два ярко выраженных пика. Возможно во 2 группу можно поделить на 2 подгруппы с разным поведением, характерным CTR. \n",
    "Таким образом, так как распределение CTR 2 группы достаточно сильно отличается от нормального, то более эффективным может быть тест Манна-Уитни, чем t-тест."
   ]
  },
  {
   "cell_type": "markdown",
   "id": "0887e416",
   "metadata": {},
   "source": [
    "###  t-тест"
   ]
  },
  {
   "cell_type": "code",
   "execution_count": 18,
   "id": "5c969047",
   "metadata": {},
   "outputs": [
    {
     "data": {
      "text/plain": [
       "Ttest_indResult(statistic=0.4051491913112757, pvalue=0.685373331140751)"
      ]
     },
     "execution_count": 18,
     "metadata": {},
     "output_type": "execute_result"
    }
   ],
   "source": [
    "result = stats.ttest_ind(group_A.ctr,\n",
    "                         group_B.ctr,\n",
    "                         equal_var=False)\n",
    "result"
   ]
  },
  {
   "cell_type": "code",
   "execution_count": 19,
   "id": "ebd48302",
   "metadata": {},
   "outputs": [
    {
     "name": "stdout",
     "output_type": "stream",
     "text": [
      "Статистически значимых различий в CTR пользователей между группами нет.\n"
     ]
    }
   ],
   "source": [
    "if result.pvalue <= 0.05:\n",
    "    print(\"Статистически значимые различия в CTR пользователей между группами есть.\")\n",
    "else:\n",
    "    print(\"Статистически значимых различий в CTR пользователей между группами нет.\") "
   ]
  },
  {
   "cell_type": "markdown",
   "id": "54d562ee",
   "metadata": {},
   "source": [
    "###  Тест Манна-Уитни:"
   ]
  },
  {
   "cell_type": "code",
   "execution_count": 20,
   "id": "e1297ca5",
   "metadata": {},
   "outputs": [
    {
     "data": {
      "text/plain": [
       "MannwhitneyuResult(statistic=55189913.0, pvalue=4.632205841806026e-45)"
      ]
     },
     "execution_count": 20,
     "metadata": {},
     "output_type": "execute_result"
    }
   ],
   "source": [
    "result = stats.mannwhitneyu(group_A.ctr, \n",
    "                   group_B.ctr,\n",
    "                   alternative = 'two-sided')\n",
    "result"
   ]
  },
  {
   "cell_type": "code",
   "execution_count": 21,
   "id": "29b9bd62",
   "metadata": {},
   "outputs": [
    {
     "name": "stdout",
     "output_type": "stream",
     "text": [
      "Статистически значимые различия в CTR пользователей между группами есть.\n"
     ]
    }
   ],
   "source": [
    "if result.pvalue <= 0.05:\n",
    "    print(\"Статистически значимые различия в CTR пользователей между группами есть.\")\n",
    "else:\n",
    "    print(\"Статистически значимых различий в CTR пользователей между группами нет.\") "
   ]
  },
  {
   "cell_type": "markdown",
   "id": "6f83fc1d",
   "metadata": {},
   "source": [
    "### Пуассоновский бутстреп для подсчета разницы в CTR"
   ]
  },
  {
   "cell_type": "code",
   "execution_count": 22,
   "id": "e292dade",
   "metadata": {},
   "outputs": [],
   "source": [
    "# функция подсчета глобального CTR для двух групп методом Пуассоновского бутстрепа\n",
    "def bootstrap(likes1, views1, likes2, views2, n_bootstrap=2000):\n",
    "\n",
    "    # из распределения Пуассона генерируем вес пользователя \n",
    "    poisson_bootstraps1 = stats.poisson(1).rvs(\n",
    "        (n_bootstrap, len(likes1))).astype(np.int64)\n",
    "\n",
    "    poisson_bootstraps2 = stats.poisson(1).rvs(\n",
    "            (n_bootstrap, len(likes2))).astype(np.int64)\n",
    "    # считаем глобальные CTR\n",
    "    globalCTR1 = (poisson_bootstraps1*likes1).sum(axis=1)/(poisson_bootstraps1*views1).sum(axis=1)\n",
    "    \n",
    "    globalCTR2 = (poisson_bootstraps2*likes2).sum(axis=1)/(poisson_bootstraps2*views2).sum(axis=1)\n",
    "\n",
    "    return globalCTR1, globalCTR2"
   ]
  },
  {
   "cell_type": "code",
   "execution_count": 23,
   "id": "67d857b2",
   "metadata": {},
   "outputs": [],
   "source": [
    "q = \"\"\"\n",
    "SELECT exp_group, \n",
    "    user_id,\n",
    "    sum(action = 'like') as likes,\n",
    "    sum(action = 'view') as views,\n",
    "    likes/views as ctr\n",
    "FROM {db}.feed_actions \n",
    "WHERE toDate(time) between '2023-06-30' and '2023-07-06'\n",
    "    and exp_group in (1,2)\n",
    "GROUP BY exp_group, user_id\n",
    "\"\"\"\n",
    "\n",
    "\n",
    "df = pandahouse.read_clickhouse(q, connection=connection)\n",
    "\n",
    "likes1 = df[df.exp_group == 1].likes.to_numpy()\n",
    "views1 = df[df.exp_group == 1].views.to_numpy()\n",
    "likes2 = df[df.exp_group == 2].likes.to_numpy()\n",
    "views2 = df[df.exp_group == 2].views.to_numpy()\n",
    "\n",
    "ctr1, ctr2 = bootstrap(likes1, views1, likes2, views2)"
   ]
  },
  {
   "cell_type": "code",
   "execution_count": 24,
   "id": "24cc185b",
   "metadata": {},
   "outputs": [
    {
     "data": {
      "image/png": "[encoded data removed]",
      "text/plain": [
       "<Figure size 842.4x595.44 with 1 Axes>"
      ]
     },
     "metadata": {},
     "output_type": "display_data"
    }
   ],
   "source": [
    "sns.histplot(ctr1, \n",
    "             kde = False, alpha=0.5, label='ctr1', color ='r')\n",
    "sns.histplot(ctr2,\n",
    "             kde = False, alpha=0.5, label='ctr2', color='b')\n",
    "\n",
    "plt.xlabel('CTR')\n",
    "plt.ylabel('Частота')\n",
    "plt.legend()\n",
    "plt.title('CTR полученным методом Пуассоновского бутстрепа')\n",
    "plt.show()"
   ]
  },
  {
   "cell_type": "code",
   "execution_count": 25,
   "id": "1b46eb4a",
   "metadata": {},
   "outputs": [
    {
     "data": {
      "image/png": "[encoded data removed]",
      "text/plain": [
       "<Figure size 842.4x595.44 with 1 Axes>"
      ]
     },
     "metadata": {},
     "output_type": "display_data"
    }
   ],
   "source": [
    "#Разница между глобальными CTR\n",
    "sns.histplot(ctr2 - ctr1)\n",
    "plt.xlabel('CTR2 - CTR1')\n",
    "plt.ylabel('Частота')\n",
    "plt.title('Распределение разницы между глобальными CTR2 и CTR1')\n",
    "plt.show()"
   ]
  },
  {
   "cell_type": "markdown",
   "id": "75ac0053",
   "metadata": {},
   "source": [
    "**Вывод:** Разница между глобальными CTR строго меньше нуля. Таким образом, с помощью бутсрепа мы выяснили, что группа 1 (контрольная) показала лучший результат по CTR, чем группа 2(рекомендации \"похожих на лайкнутые постов\")."
   ]
  },
  {
   "cell_type": "markdown",
   "id": "5003013e",
   "metadata": {},
   "source": [
    "### Бакетное преобразование"
   ]
  },
  {
   "cell_type": "code",
   "execution_count": 26,
   "id": "ee36e745",
   "metadata": {},
   "outputs": [],
   "source": [
    "q = \"\"\"\n",
    "\n",
    "SELECT exp_group, bucket,\n",
    "    sum(likes)/sum(views) as bucket_ctr,\n",
    "    quantileExact(0.9)(ctr) as ctr9\n",
    "FROM (SELECT exp_group, \n",
    "        xxHash64(user_id)%50 as bucket,\n",
    "        user_id,\n",
    "        sum(action = 'like') as likes,\n",
    "        sum(action = 'view') as views,\n",
    "        likes/views as ctr\n",
    "    FROM {db}.feed_actions \n",
    "    WHERE toDate(time) between '2023-06-30' and '2023-07-06'\n",
    "        and exp_group in (1,2)\n",
    "    GROUP BY exp_group, bucket, user_id)\n",
    "GROUP BY exp_group, bucket\n",
    "\"\"\"\n",
    "\n",
    "df = pandahouse.read_clickhouse(q, connection=connection)"
   ]
  },
  {
   "cell_type": "code",
   "execution_count": 27,
   "id": "fa021428",
   "metadata": {},
   "outputs": [
    {
     "name": "stdout",
     "output_type": "stream",
     "text": [
      "MannwhitneyuResult(statistic=1997.0, pvalue=2.657642780401009e-07)\n",
      "Статистически значимые различия в среднем побакетном CTR между группами есть.\n"
     ]
    }
   ],
   "source": [
    "result = stats.mannwhitneyu(df[df.exp_group == 1].bucket_ctr, \n",
    "                   df[df.exp_group == 2].bucket_ctr, \n",
    "                   alternative = 'two-sided')\n",
    "\n",
    "print(result)\n",
    "\n",
    "if result.pvalue <= 0.05:\n",
    "    print(\"Статистически значимые различия в среднем побакетном CTR между группами есть.\")\n",
    "else:\n",
    "    print(\"Статистически значимых различий в среднем побакетном CTR между группами нет.\") "
   ]
  },
  {
   "cell_type": "code",
   "execution_count": 28,
   "id": "55dba1c3",
   "metadata": {},
   "outputs": [
    {
     "data": {
      "image/png": "[encoded data removed]",
      "text/plain": [
       "<Figure size 842.4x595.44 with 1 Axes>"
      ]
     },
     "metadata": {},
     "output_type": "display_data"
    }
   ],
   "source": [
    "sns.set(rc={'figure.figsize':(11.7,8.27)})\n",
    "\n",
    "groups = sns.histplot(data = df, \n",
    "              x ='bucket_ctr', \n",
    "              hue ='exp_group', \n",
    "              palette = ['r', 'b'],\n",
    "              alpha= 0.5,\n",
    "              kde = False,\n",
    "              bins=15)\n",
    "plt.xlabel('bucket_ctr')\n",
    "plt.ylabel('Частота')\n",
    "plt.title('Распределение побакетного CTR в двух группах')\n",
    "plt.show()"
   ]
  },
  {
   "cell_type": "code",
   "execution_count": 29,
   "id": "4592db54",
   "metadata": {},
   "outputs": [
    {
     "data": {
      "image/png": "[encoded data removed]",
      "text/plain": [
       "<Figure size 842.4x595.44 with 1 Axes>"
      ]
     },
     "metadata": {},
     "output_type": "display_data"
    }
   ],
   "source": [
    "sns.set(rc={'figure.figsize':(11.7,8.27)})\n",
    "\n",
    "groups = sns.histplot(data = df, \n",
    "              x ='ctr9', \n",
    "              hue ='exp_group', \n",
    "              palette = ['r', 'b'],\n",
    "              alpha= 0.5,\n",
    "              kde = False,\n",
    "              bins=20)\n",
    "plt.xlabel('bucket_ctr')\n",
    "plt.ylabel('Частота')\n",
    "plt.title('Распределение побакетного 90 квантиля CTR в двух группах')\n",
    "plt.show()"
   ]
  },
  {
   "cell_type": "markdown",
   "id": "00943fe6",
   "metadata": {},
   "source": [
    "Проведем тест Манна-Уитни:\n"
   ]
  },
  {
   "cell_type": "code",
   "execution_count": 30,
   "id": "5729f867",
   "metadata": {},
   "outputs": [
    {
     "name": "stdout",
     "output_type": "stream",
     "text": [
      "MannwhitneyuResult(statistic=0.0, pvalue=6.7601631082665925e-18)\n",
      "Статистически значимые различия в среднем побакетном 90 квантиле CTR между группами есть.\n"
     ]
    }
   ],
   "source": [
    "result = stats.mannwhitneyu(df[df.exp_group == 1].ctr9, \n",
    "                   df[df.exp_group == 2].ctr9, \n",
    "                   alternative = 'two-sided')\n",
    "\n",
    "print(result)\n",
    "\n",
    "if result.pvalue < 0.05:\n",
    "    print(\"Статистически значимые различия в среднем побакетном 90 квантиле CTR между группами есть.\")\n",
    "else:\n",
    "    print(\"Статистически значимых различий в среднем побакетном 90 квантиле CTR между группами нет.\") "
   ]
  },
  {
   "cell_type": "markdown",
   "id": "fe527ff8",
   "metadata": {},
   "source": [
    "**Вывод:** Тест Манна-Уитни поверх бакетного преобразования показал значимые различия в CTR и 90 квантиле CTR."
   ]
  },
  {
   "cell_type": "markdown",
   "id": "0ac311d4",
   "metadata": {},
   "source": [
    "# Выводы:"
   ]
  },
  {
   "cell_type": "markdown",
   "id": "99ff7624",
   "metadata": {},
   "source": [
    "1. В результате 10 000 А/А- тестов p_value меньше или равно 0,05 не более, чем в 5% случаях. Данные результаты говорят в пользу того, что проведение дальнейших А/В-тестов с использованием этой системы сплитования будет надежным и достоверным способом оценки влияния изменений на поведение пользователей."
   ]
  },
  {
   "cell_type": "markdown",
   "id": "65879c95",
   "metadata": {},
   "source": [
    "2. Анализ результата А/В- теста:\n",
    "    * t-тест не показал статистически значимых различий в CTR двух групп.\n",
    "    * Тест Манна-Уитни показал статистически значимые различия в СТR.\n",
    "    * Пуассоновским бутстрепом получили, что разница между глобальными CTR строго меньше нуля. Таким образом, группа 1 (контрольная) показала лучший результат по CTR, чем группа 2 (рекомендации \"похожих на лайкнутые постов\").\n",
    "    * Тест Манна-Уитни поверх бакетного преобразования показал значимые различия в CTR и 90 квантиле CTR.\n",
    "    * Распределение CTR 2 группы пользователей имеет два ярко выраженных пика.\n",
    "\n",
    "\n",
    "*CTR второй группы ниже в сравнении с контрольной.* Возможные причины:\n",
    "- недоработка алгоритма рекомендаций: возможно, новый алгоритм рекомендаций \"похожих на лайкнутые посты\" требует оптимизации или учета дополнительных факторов, которые влияют на рекомендации;\n",
    "- отсутствием истории лайков у новых пользователей;\n",
    "- сравнение с уже существующим алгоритмом: группа 1 могла использовать определенный алгоритм рекомендаций, который уже хорошо справляется с задачей, поэтому новый алгоритм во второй группе не показал столь же высоких результатов.\n",
    "\n",
    "На основе результатов анализа А/В-теста и проведенных статистических тестов: **не рекомендуется раскатывать новый алгоритм рекомендаций \"похожих на лайкнутые посты\" в текущем виде на всех новых пользователей.**"
   ]
  }
 ],
 "metadata": {
  "kernelspec": {
   "display_name": "Python 3 (ipykernel)",
   "language": "python",
   "name": "python3"
  },
  "language_info": {
   "codemirror_mode": {
    "name": "ipython",
    "version": 3
   },
   "file_extension": ".py",
   "mimetype": "text/x-python",
   "name": "python",
   "nbconvert_exporter": "python",
   "pygments_lexer": "ipython3",
   "version": "3.9.7"
  },
  "toc": {
   "base_numbering": 1,
   "nav_menu": {},
   "number_sections": true,
   "sideBar": true,
   "skip_h1_title": false,
   "title_cell": "Table of Contents",
   "title_sidebar": "Contents",
   "toc_cell": false,
   "toc_position": {},
   "toc_section_display": true,
   "toc_window_display": true
  }
 },
 "nbformat": 4,
 "nbformat_minor": 5
}
