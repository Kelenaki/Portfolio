{
 "cells": [
  {
   "cell_type": "markdown",
   "id": "68396f64",
   "metadata": {},
   "source": [
    "# Анализ базы данных сервиса для чтения книг по подписке"
   ]
  },
  {
   "cell_type": "markdown",
   "id": "3aae730c",
   "metadata": {},
   "source": [
    "## Цели исследования"
   ]
  },
  {
   "cell_type": "markdown",
   "id": "03f38311",
   "metadata": {},
   "source": [
    "Коронавирус застал мир врасплох, изменив привычный порядок вещей. В\n",
    "свободное время жители городов больше не выходят на улицу, не посещают кафе\n",
    "и торговые центры. Зато стало больше времени для книг. Это заметили\n",
    "стартаперы — и бросились создавать приложения для тех, кто любит читать.\n",
    "Ваша компания решила быть на волне и купила крупный сервис для чтения книг\n",
    "по подписке. Ваша первая задача как аналитика — проанализировать базу\n",
    "данных.\n",
    "В ней — информация о книгах, издательствах, авторах, а также пользовательские\n",
    "обзоры книг. Эти данные помогут сформулировать ценностное предложение для\n",
    "нового продукта."
   ]
  },
  {
   "cell_type": "markdown",
   "id": "3eb7b53f",
   "metadata": {},
   "source": [
    "__Задачи:__\n",
    "1. Посчитать, сколько книг вышло после 1 января 2000 года.\n",
    "2. Для каждой книги посчитать количество обзоров и среднюю оценку.\n",
    "3. Определить издательство, которое выпустило наибольшее число книг толще 50 страниц.\n",
    "4. Определить автора с самой высокой средней оценкой книг — учитывать только книги с 50 и более оценками.\n",
    "5. Посчитать среднее количество обзоров от пользователей, которые поставили больше 50 оценок."
   ]
  },
  {
   "cell_type": "markdown",
   "id": "ad14c6d1",
   "metadata": {},
   "source": [
    "***Описание данных:***\n",
    "Таблица `books`\n",
    "Содержит данные о книгах:\n",
    "* `book_id` — идентификатор книги;\n",
    "* `author_id` — идентификатор автора;\n",
    "* `title` — название книги;\n",
    "* `num_pages` — количество страниц;\n",
    "* `publication_date` — дата публикации книги;\n",
    "* `publisher_id` — идентификатор издателя.\n",
    "\n",
    "\n",
    "Таблица `authors`\n",
    "Содержит данные об авторах:\n",
    "* `author_id` — идентификатор автора;\n",
    "* `author` — имя автора.\n",
    "\n",
    "Таблица `publishers`\n",
    "Содержит данные об издательствах:\n",
    "* `publisher_id` — идентификатор издательства;\n",
    "* `publisher` — название издательства;\n",
    "\n",
    "\n",
    "Таблица `ratings`\n",
    "Содержит данные о пользовательских оценках книг:\n",
    "* `rating_id` — идентификатор оценки;\n",
    "* `book_id` — идентификатор книги;\n",
    "* `username` — имя пользователя, оставившего оценку;\n",
    "* `rating` — оценка книги.\n",
    "\n",
    "Таблица `reviews`\n",
    "Содержит данные о пользовательских обзорах на книги:\n",
    "* `review_id` — идентификатор обзора;\n",
    "* `book_id` — идентификатор книги;\n",
    "* `username` — имя пользователя, написавшего обзор;\n",
    "* `text` — текст обзора."
   ]
  },
  {
   "cell_type": "markdown",
   "id": "ced3cee9",
   "metadata": {},
   "source": [
    "## Библиотеки, функции, подключение к базе данных"
   ]
  },
  {
   "cell_type": "code",
   "execution_count": 1,
   "id": "3997979d",
   "metadata": {},
   "outputs": [],
   "source": [
    "# импортируем библиотеки\n",
    "import pandas as pd\n",
    "pd.set_option('display.max_colwidth', None)\n",
    "pd.set_option('display.float_format', '{:,.2f}'.format)\n",
    "\n",
    "from sqlalchemy import create_engine"
   ]
  },
  {
   "cell_type": "code",
   "execution_count": 2,
   "id": "c0a79b6b",
   "metadata": {},
   "outputs": [],
   "source": [
    "#функция для выполнения sql-запроса\n",
    "def sql_result(query):\n",
    "    return pd.io.sql.read_sql(query, con = engine)"
   ]
  },
  {
   "cell_type": "code",
   "execution_count": 3,
   "id": "125b809e",
   "metadata": {},
   "outputs": [],
   "source": [
    "db_config = {'user': 'praktikum_student',\n",
    "             'pwd': 'Sdf4$2;d-d30pp', \n",
    "             'host': 'rc1b-wcoijxj3yxfsf3fs.mdb.yandexcloud.net',\n",
    "             'port': 6432, \n",
    "             'db': 'data-analyst-final-project-db'} \n",
    "\n",
    "connection_string = 'postgresql://{}:{}@{}:{}/{}'.format(db_config['user'],\n",
    "                                                         db_config['pwd'],\n",
    "                                                         db_config['host'],\n",
    "                                                         db_config['port'],\n",
    "                                                         db_config['db'])\n",
    "\n",
    "engine = create_engine(connection_string, connect_args={'sslmode':'require'}) "
   ]
  },
  {
   "cell_type": "markdown",
   "id": "7df8c2ca",
   "metadata": {},
   "source": [
    "## Исследование таблиц"
   ]
  },
  {
   "cell_type": "code",
   "execution_count": 4,
   "id": "30045081",
   "metadata": {},
   "outputs": [],
   "source": [
    "tables = ['books', 'authors', 'publishers', 'ratings', 'reviews']"
   ]
  },
  {
   "cell_type": "code",
   "execution_count": 5,
   "id": "076972fd",
   "metadata": {},
   "outputs": [
    {
     "name": "stdout",
     "output_type": "stream",
     "text": [
      "\u001b[1m Таблица books :\n"
     ]
    },
    {
     "data": {
      "text/html": [
       "<div>\n",
       "<style scoped>\n",
       "    .dataframe tbody tr th:only-of-type {\n",
       "        vertical-align: middle;\n",
       "    }\n",
       "\n",
       "    .dataframe tbody tr th {\n",
       "        vertical-align: top;\n",
       "    }\n",
       "\n",
       "    .dataframe thead th {\n",
       "        text-align: right;\n",
       "    }\n",
       "</style>\n",
       "<table border=\"1\" class=\"dataframe\">\n",
       "  <thead>\n",
       "    <tr style=\"text-align: right;\">\n",
       "      <th></th>\n",
       "      <th>book_id</th>\n",
       "      <th>author_id</th>\n",
       "      <th>title</th>\n",
       "      <th>num_pages</th>\n",
       "      <th>publication_date</th>\n",
       "      <th>publisher_id</th>\n",
       "    </tr>\n",
       "  </thead>\n",
       "  <tbody>\n",
       "    <tr>\n",
       "      <th>0</th>\n",
       "      <td>1</td>\n",
       "      <td>546</td>\n",
       "      <td>'Salem's Lot</td>\n",
       "      <td>594</td>\n",
       "      <td>2005-11-01</td>\n",
       "      <td>93</td>\n",
       "    </tr>\n",
       "    <tr>\n",
       "      <th>1</th>\n",
       "      <td>2</td>\n",
       "      <td>465</td>\n",
       "      <td>1 000 Places to See Before You Die</td>\n",
       "      <td>992</td>\n",
       "      <td>2003-05-22</td>\n",
       "      <td>336</td>\n",
       "    </tr>\n",
       "    <tr>\n",
       "      <th>2</th>\n",
       "      <td>3</td>\n",
       "      <td>407</td>\n",
       "      <td>13 Little Blue Envelopes (Little Blue Envelope  #1)</td>\n",
       "      <td>322</td>\n",
       "      <td>2010-12-21</td>\n",
       "      <td>135</td>\n",
       "    </tr>\n",
       "    <tr>\n",
       "      <th>3</th>\n",
       "      <td>4</td>\n",
       "      <td>82</td>\n",
       "      <td>1491: New Revelations of the Americas Before Columbus</td>\n",
       "      <td>541</td>\n",
       "      <td>2006-10-10</td>\n",
       "      <td>309</td>\n",
       "    </tr>\n",
       "    <tr>\n",
       "      <th>4</th>\n",
       "      <td>5</td>\n",
       "      <td>125</td>\n",
       "      <td>1776</td>\n",
       "      <td>386</td>\n",
       "      <td>2006-07-04</td>\n",
       "      <td>268</td>\n",
       "    </tr>\n",
       "  </tbody>\n",
       "</table>\n",
       "</div>"
      ],
      "text/plain": [
       "   book_id  author_id                                                  title  \\\n",
       "0        1        546                                           'Salem's Lot   \n",
       "1        2        465                     1 000 Places to See Before You Die   \n",
       "2        3        407    13 Little Blue Envelopes (Little Blue Envelope  #1)   \n",
       "3        4         82  1491: New Revelations of the Americas Before Columbus   \n",
       "4        5        125                                                   1776   \n",
       "\n",
       "   num_pages publication_date  publisher_id  \n",
       "0        594       2005-11-01            93  \n",
       "1        992       2003-05-22           336  \n",
       "2        322       2010-12-21           135  \n",
       "3        541       2006-10-10           309  \n",
       "4        386       2006-07-04           268  "
      ]
     },
     "metadata": {},
     "output_type": "display_data"
    },
    {
     "name": "stdout",
     "output_type": "stream",
     "text": [
      "\n",
      "\u001b[1m Таблица authors :\n"
     ]
    },
    {
     "data": {
      "text/html": [
       "<div>\n",
       "<style scoped>\n",
       "    .dataframe tbody tr th:only-of-type {\n",
       "        vertical-align: middle;\n",
       "    }\n",
       "\n",
       "    .dataframe tbody tr th {\n",
       "        vertical-align: top;\n",
       "    }\n",
       "\n",
       "    .dataframe thead th {\n",
       "        text-align: right;\n",
       "    }\n",
       "</style>\n",
       "<table border=\"1\" class=\"dataframe\">\n",
       "  <thead>\n",
       "    <tr style=\"text-align: right;\">\n",
       "      <th></th>\n",
       "      <th>author_id</th>\n",
       "      <th>author</th>\n",
       "    </tr>\n",
       "  </thead>\n",
       "  <tbody>\n",
       "    <tr>\n",
       "      <th>0</th>\n",
       "      <td>1</td>\n",
       "      <td>A.S. Byatt</td>\n",
       "    </tr>\n",
       "    <tr>\n",
       "      <th>1</th>\n",
       "      <td>2</td>\n",
       "      <td>Aesop/Laura Harris/Laura Gibbs</td>\n",
       "    </tr>\n",
       "    <tr>\n",
       "      <th>2</th>\n",
       "      <td>3</td>\n",
       "      <td>Agatha Christie</td>\n",
       "    </tr>\n",
       "    <tr>\n",
       "      <th>3</th>\n",
       "      <td>4</td>\n",
       "      <td>Alan Brennert</td>\n",
       "    </tr>\n",
       "    <tr>\n",
       "      <th>4</th>\n",
       "      <td>5</td>\n",
       "      <td>Alan Moore/David   Lloyd</td>\n",
       "    </tr>\n",
       "  </tbody>\n",
       "</table>\n",
       "</div>"
      ],
      "text/plain": [
       "   author_id                          author\n",
       "0          1                      A.S. Byatt\n",
       "1          2  Aesop/Laura Harris/Laura Gibbs\n",
       "2          3                 Agatha Christie\n",
       "3          4                   Alan Brennert\n",
       "4          5        Alan Moore/David   Lloyd"
      ]
     },
     "metadata": {},
     "output_type": "display_data"
    },
    {
     "name": "stdout",
     "output_type": "stream",
     "text": [
      "\n",
      "\u001b[1m Таблица publishers :\n"
     ]
    },
    {
     "data": {
      "text/html": [
       "<div>\n",
       "<style scoped>\n",
       "    .dataframe tbody tr th:only-of-type {\n",
       "        vertical-align: middle;\n",
       "    }\n",
       "\n",
       "    .dataframe tbody tr th {\n",
       "        vertical-align: top;\n",
       "    }\n",
       "\n",
       "    .dataframe thead th {\n",
       "        text-align: right;\n",
       "    }\n",
       "</style>\n",
       "<table border=\"1\" class=\"dataframe\">\n",
       "  <thead>\n",
       "    <tr style=\"text-align: right;\">\n",
       "      <th></th>\n",
       "      <th>publisher_id</th>\n",
       "      <th>publisher</th>\n",
       "    </tr>\n",
       "  </thead>\n",
       "  <tbody>\n",
       "    <tr>\n",
       "      <th>0</th>\n",
       "      <td>1</td>\n",
       "      <td>Ace</td>\n",
       "    </tr>\n",
       "    <tr>\n",
       "      <th>1</th>\n",
       "      <td>2</td>\n",
       "      <td>Ace Book</td>\n",
       "    </tr>\n",
       "    <tr>\n",
       "      <th>2</th>\n",
       "      <td>3</td>\n",
       "      <td>Ace Books</td>\n",
       "    </tr>\n",
       "    <tr>\n",
       "      <th>3</th>\n",
       "      <td>4</td>\n",
       "      <td>Ace Hardcover</td>\n",
       "    </tr>\n",
       "    <tr>\n",
       "      <th>4</th>\n",
       "      <td>5</td>\n",
       "      <td>Addison Wesley Publishing Company</td>\n",
       "    </tr>\n",
       "  </tbody>\n",
       "</table>\n",
       "</div>"
      ],
      "text/plain": [
       "   publisher_id                          publisher\n",
       "0             1                                Ace\n",
       "1             2                           Ace Book\n",
       "2             3                          Ace Books\n",
       "3             4                      Ace Hardcover\n",
       "4             5  Addison Wesley Publishing Company"
      ]
     },
     "metadata": {},
     "output_type": "display_data"
    },
    {
     "name": "stdout",
     "output_type": "stream",
     "text": [
      "\n",
      "\u001b[1m Таблица ratings :\n"
     ]
    },
    {
     "data": {
      "text/html": [
       "<div>\n",
       "<style scoped>\n",
       "    .dataframe tbody tr th:only-of-type {\n",
       "        vertical-align: middle;\n",
       "    }\n",
       "\n",
       "    .dataframe tbody tr th {\n",
       "        vertical-align: top;\n",
       "    }\n",
       "\n",
       "    .dataframe thead th {\n",
       "        text-align: right;\n",
       "    }\n",
       "</style>\n",
       "<table border=\"1\" class=\"dataframe\">\n",
       "  <thead>\n",
       "    <tr style=\"text-align: right;\">\n",
       "      <th></th>\n",
       "      <th>rating_id</th>\n",
       "      <th>book_id</th>\n",
       "      <th>username</th>\n",
       "      <th>rating</th>\n",
       "    </tr>\n",
       "  </thead>\n",
       "  <tbody>\n",
       "    <tr>\n",
       "      <th>0</th>\n",
       "      <td>1</td>\n",
       "      <td>1</td>\n",
       "      <td>ryanfranco</td>\n",
       "      <td>4</td>\n",
       "    </tr>\n",
       "    <tr>\n",
       "      <th>1</th>\n",
       "      <td>2</td>\n",
       "      <td>1</td>\n",
       "      <td>grantpatricia</td>\n",
       "      <td>2</td>\n",
       "    </tr>\n",
       "    <tr>\n",
       "      <th>2</th>\n",
       "      <td>3</td>\n",
       "      <td>1</td>\n",
       "      <td>brandtandrea</td>\n",
       "      <td>5</td>\n",
       "    </tr>\n",
       "    <tr>\n",
       "      <th>3</th>\n",
       "      <td>4</td>\n",
       "      <td>2</td>\n",
       "      <td>lorichen</td>\n",
       "      <td>3</td>\n",
       "    </tr>\n",
       "    <tr>\n",
       "      <th>4</th>\n",
       "      <td>5</td>\n",
       "      <td>2</td>\n",
       "      <td>mariokeller</td>\n",
       "      <td>2</td>\n",
       "    </tr>\n",
       "  </tbody>\n",
       "</table>\n",
       "</div>"
      ],
      "text/plain": [
       "   rating_id  book_id       username  rating\n",
       "0          1        1     ryanfranco       4\n",
       "1          2        1  grantpatricia       2\n",
       "2          3        1   brandtandrea       5\n",
       "3          4        2       lorichen       3\n",
       "4          5        2    mariokeller       2"
      ]
     },
     "metadata": {},
     "output_type": "display_data"
    },
    {
     "name": "stdout",
     "output_type": "stream",
     "text": [
      "\n",
      "\u001b[1m Таблица reviews :\n"
     ]
    },
    {
     "data": {
      "text/html": [
       "<div>\n",
       "<style scoped>\n",
       "    .dataframe tbody tr th:only-of-type {\n",
       "        vertical-align: middle;\n",
       "    }\n",
       "\n",
       "    .dataframe tbody tr th {\n",
       "        vertical-align: top;\n",
       "    }\n",
       "\n",
       "    .dataframe thead th {\n",
       "        text-align: right;\n",
       "    }\n",
       "</style>\n",
       "<table border=\"1\" class=\"dataframe\">\n",
       "  <thead>\n",
       "    <tr style=\"text-align: right;\">\n",
       "      <th></th>\n",
       "      <th>review_id</th>\n",
       "      <th>book_id</th>\n",
       "      <th>username</th>\n",
       "      <th>text</th>\n",
       "    </tr>\n",
       "  </thead>\n",
       "  <tbody>\n",
       "    <tr>\n",
       "      <th>0</th>\n",
       "      <td>1</td>\n",
       "      <td>1</td>\n",
       "      <td>brandtandrea</td>\n",
       "      <td>Mention society tell send professor analysis. Over provide race technology continue these.</td>\n",
       "    </tr>\n",
       "    <tr>\n",
       "      <th>1</th>\n",
       "      <td>2</td>\n",
       "      <td>1</td>\n",
       "      <td>ryanfranco</td>\n",
       "      <td>Foot glass pretty audience hit themselves. Among admit investment argue security.</td>\n",
       "    </tr>\n",
       "    <tr>\n",
       "      <th>2</th>\n",
       "      <td>3</td>\n",
       "      <td>2</td>\n",
       "      <td>lorichen</td>\n",
       "      <td>Listen treat keep worry. Miss husband tax but person sport treatment industry. Kitchen decision deep the. Social party body the.</td>\n",
       "    </tr>\n",
       "    <tr>\n",
       "      <th>3</th>\n",
       "      <td>4</td>\n",
       "      <td>3</td>\n",
       "      <td>johnsonamanda</td>\n",
       "      <td>Finally month interesting blue could nature cultural bit. Prepare beat finish grow that smile teach. Dream me play near.</td>\n",
       "    </tr>\n",
       "    <tr>\n",
       "      <th>4</th>\n",
       "      <td>5</td>\n",
       "      <td>3</td>\n",
       "      <td>scotttamara</td>\n",
       "      <td>Nation purpose heavy give wait song will. List dinner another whole positive radio fast. Music staff many green.</td>\n",
       "    </tr>\n",
       "  </tbody>\n",
       "</table>\n",
       "</div>"
      ],
      "text/plain": [
       "   review_id  book_id       username  \\\n",
       "0          1        1   brandtandrea   \n",
       "1          2        1     ryanfranco   \n",
       "2          3        2       lorichen   \n",
       "3          4        3  johnsonamanda   \n",
       "4          5        3    scotttamara   \n",
       "\n",
       "                                                                                                                               text  \n",
       "0                                        Mention society tell send professor analysis. Over provide race technology continue these.  \n",
       "1                                                 Foot glass pretty audience hit themselves. Among admit investment argue security.  \n",
       "2  Listen treat keep worry. Miss husband tax but person sport treatment industry. Kitchen decision deep the. Social party body the.  \n",
       "3          Finally month interesting blue could nature cultural bit. Prepare beat finish grow that smile teach. Dream me play near.  \n",
       "4                  Nation purpose heavy give wait song will. List dinner another whole positive radio fast. Music staff many green.  "
      ]
     },
     "metadata": {},
     "output_type": "display_data"
    },
    {
     "name": "stdout",
     "output_type": "stream",
     "text": [
      "\n"
     ]
    }
   ],
   "source": [
    "for i in tables:\n",
    "    print('\\033[1m','Таблица', i, ':')\n",
    "    query = '''\n",
    "    SELECT *\n",
    "    FROM {}\n",
    "    LIMIT 5\n",
    "    ''' .format(i)\n",
    "    display(sql_result(query))\n",
    "    print()"
   ]
  },
  {
   "cell_type": "code",
   "execution_count": 6,
   "id": "1dcdf539",
   "metadata": {},
   "outputs": [
    {
     "name": "stdout",
     "output_type": "stream",
     "text": [
      "\u001b[1m Таблица books : \u001b[0m\n",
      "<class 'pandas.core.frame.DataFrame'>\n",
      "RangeIndex: 1000 entries, 0 to 999\n",
      "Data columns (total 6 columns):\n",
      " #   Column            Non-Null Count  Dtype \n",
      "---  ------            --------------  ----- \n",
      " 0   book_id           1000 non-null   int64 \n",
      " 1   author_id         1000 non-null   int64 \n",
      " 2   title             1000 non-null   object\n",
      " 3   num_pages         1000 non-null   int64 \n",
      " 4   publication_date  1000 non-null   object\n",
      " 5   publisher_id      1000 non-null   int64 \n",
      "dtypes: int64(4), object(2)\n",
      "memory usage: 47.0+ KB\n"
     ]
    },
    {
     "data": {
      "text/plain": [
       "None"
      ]
     },
     "metadata": {},
     "output_type": "display_data"
    },
    {
     "name": "stdout",
     "output_type": "stream",
     "text": [
      "\n",
      "\u001b[1m Таблица authors : \u001b[0m\n",
      "<class 'pandas.core.frame.DataFrame'>\n",
      "RangeIndex: 636 entries, 0 to 635\n",
      "Data columns (total 2 columns):\n",
      " #   Column     Non-Null Count  Dtype \n",
      "---  ------     --------------  ----- \n",
      " 0   author_id  636 non-null    int64 \n",
      " 1   author     636 non-null    object\n",
      "dtypes: int64(1), object(1)\n",
      "memory usage: 10.1+ KB\n"
     ]
    },
    {
     "data": {
      "text/plain": [
       "None"
      ]
     },
     "metadata": {},
     "output_type": "display_data"
    },
    {
     "name": "stdout",
     "output_type": "stream",
     "text": [
      "\n",
      "\u001b[1m Таблица publishers : \u001b[0m\n",
      "<class 'pandas.core.frame.DataFrame'>\n",
      "RangeIndex: 340 entries, 0 to 339\n",
      "Data columns (total 2 columns):\n",
      " #   Column        Non-Null Count  Dtype \n",
      "---  ------        --------------  ----- \n",
      " 0   publisher_id  340 non-null    int64 \n",
      " 1   publisher     340 non-null    object\n",
      "dtypes: int64(1), object(1)\n",
      "memory usage: 5.4+ KB\n"
     ]
    },
    {
     "data": {
      "text/plain": [
       "None"
      ]
     },
     "metadata": {},
     "output_type": "display_data"
    },
    {
     "name": "stdout",
     "output_type": "stream",
     "text": [
      "\n",
      "\u001b[1m Таблица ratings : \u001b[0m\n",
      "<class 'pandas.core.frame.DataFrame'>\n",
      "RangeIndex: 6456 entries, 0 to 6455\n",
      "Data columns (total 4 columns):\n",
      " #   Column     Non-Null Count  Dtype \n",
      "---  ------     --------------  ----- \n",
      " 0   rating_id  6456 non-null   int64 \n",
      " 1   book_id    6456 non-null   int64 \n",
      " 2   username   6456 non-null   object\n",
      " 3   rating     6456 non-null   int64 \n",
      "dtypes: int64(3), object(1)\n",
      "memory usage: 201.9+ KB\n"
     ]
    },
    {
     "data": {
      "text/plain": [
       "None"
      ]
     },
     "metadata": {},
     "output_type": "display_data"
    },
    {
     "name": "stdout",
     "output_type": "stream",
     "text": [
      "\n",
      "\u001b[1m Таблица reviews : \u001b[0m\n",
      "<class 'pandas.core.frame.DataFrame'>\n",
      "RangeIndex: 2793 entries, 0 to 2792\n",
      "Data columns (total 4 columns):\n",
      " #   Column     Non-Null Count  Dtype \n",
      "---  ------     --------------  ----- \n",
      " 0   review_id  2793 non-null   int64 \n",
      " 1   book_id    2793 non-null   int64 \n",
      " 2   username   2793 non-null   object\n",
      " 3   text       2793 non-null   object\n",
      "dtypes: int64(2), object(2)\n",
      "memory usage: 87.4+ KB\n"
     ]
    },
    {
     "data": {
      "text/plain": [
       "None"
      ]
     },
     "metadata": {},
     "output_type": "display_data"
    },
    {
     "name": "stdout",
     "output_type": "stream",
     "text": [
      "\n"
     ]
    }
   ],
   "source": [
    "for i in tables:\n",
    "    print('\\033[1m','Таблица', i, ':','\\033[0m')\n",
    "    query = '''\n",
    "    SELECT *\n",
    "    FROM {}\n",
    "    ''' .format(i)\n",
    "    display(sql_result(query).info())\n",
    "    print()"
   ]
  },
  {
   "cell_type": "markdown",
   "id": "a3b773af",
   "metadata": {},
   "source": [
    "### Вывод"
   ]
  },
  {
   "cell_type": "markdown",
   "id": "466f7817",
   "metadata": {},
   "source": [
    "Произведен предпосмотр данных, предобработка в рамках проекта не производилась:\n",
    "- пропуски в данных не обнаружены.\n",
    "- предварительно данных достаточно для проведения анализа."
   ]
  },
  {
   "cell_type": "markdown",
   "id": "45aa9248",
   "metadata": {},
   "source": [
    "## Задачи:"
   ]
  },
  {
   "cell_type": "markdown",
   "id": "47f09fa5",
   "metadata": {},
   "source": [
    "### Книги, которые вышли после 1 января 2000 года"
   ]
  },
  {
   "cell_type": "code",
   "execution_count": 7,
   "id": "32825b1e",
   "metadata": {},
   "outputs": [
    {
     "data": {
      "text/html": [
       "<div>\n",
       "<style scoped>\n",
       "    .dataframe tbody tr th:only-of-type {\n",
       "        vertical-align: middle;\n",
       "    }\n",
       "\n",
       "    .dataframe tbody tr th {\n",
       "        vertical-align: top;\n",
       "    }\n",
       "\n",
       "    .dataframe thead th {\n",
       "        text-align: right;\n",
       "    }\n",
       "</style>\n",
       "<table border=\"1\" class=\"dataframe\">\n",
       "  <thead>\n",
       "    <tr style=\"text-align: right;\">\n",
       "      <th></th>\n",
       "      <th>books_count</th>\n",
       "    </tr>\n",
       "  </thead>\n",
       "  <tbody>\n",
       "    <tr>\n",
       "      <th>0</th>\n",
       "      <td>821</td>\n",
       "    </tr>\n",
       "  </tbody>\n",
       "</table>\n",
       "</div>"
      ],
      "text/plain": [
       "   books_count\n",
       "0          821"
      ]
     },
     "execution_count": 7,
     "metadata": {},
     "output_type": "execute_result"
    }
   ],
   "source": [
    "query = '''\n",
    "SELECT count(book_id) books_count\n",
    "FROM books\n",
    "WHERE publication_date >= '2000-01-01'\n",
    "''' \n",
    "sql_result(query) "
   ]
  },
  {
   "cell_type": "markdown",
   "id": "696cc981",
   "metadata": {},
   "source": [
    "#### Вывод"
   ]
  },
  {
   "cell_type": "markdown",
   "id": "772a486b",
   "metadata": {},
   "source": [
    "С 1 января 2000 года вышла 821 книга."
   ]
  },
  {
   "cell_type": "markdown",
   "id": "86ae43e4",
   "metadata": {},
   "source": [
    "### Количество обзоров и среднюю оценку для каждой книги"
   ]
  },
  {
   "cell_type": "code",
   "execution_count": 8,
   "id": "c8db8d6a",
   "metadata": {},
   "outputs": [
    {
     "data": {
      "text/html": [
       "<div>\n",
       "<style scoped>\n",
       "    .dataframe tbody tr th:only-of-type {\n",
       "        vertical-align: middle;\n",
       "    }\n",
       "\n",
       "    .dataframe tbody tr th {\n",
       "        vertical-align: top;\n",
       "    }\n",
       "\n",
       "    .dataframe thead th {\n",
       "        text-align: right;\n",
       "    }\n",
       "</style>\n",
       "<table border=\"1\" class=\"dataframe\">\n",
       "  <thead>\n",
       "    <tr style=\"text-align: right;\">\n",
       "      <th></th>\n",
       "      <th>title</th>\n",
       "      <th>avg_rating</th>\n",
       "      <th>reviews_cnt</th>\n",
       "    </tr>\n",
       "  </thead>\n",
       "  <tbody>\n",
       "    <tr>\n",
       "      <th>0</th>\n",
       "      <td>The Cat in the Hat and Other Dr. Seuss Favorites</td>\n",
       "      <td>5.00</td>\n",
       "      <td>NaN</td>\n",
       "    </tr>\n",
       "    <tr>\n",
       "      <th>1</th>\n",
       "      <td>Essential Tales and Poems</td>\n",
       "      <td>4.00</td>\n",
       "      <td>NaN</td>\n",
       "    </tr>\n",
       "    <tr>\n",
       "      <th>2</th>\n",
       "      <td>Leonardo's Notebooks</td>\n",
       "      <td>4.00</td>\n",
       "      <td>NaN</td>\n",
       "    </tr>\n",
       "    <tr>\n",
       "      <th>3</th>\n",
       "      <td>Disney's Beauty and the Beast (A Little Golden Book)</td>\n",
       "      <td>4.00</td>\n",
       "      <td>NaN</td>\n",
       "    </tr>\n",
       "    <tr>\n",
       "      <th>4</th>\n",
       "      <td>Anne Rice's The Vampire Lestat: A Graphic Novel</td>\n",
       "      <td>3.67</td>\n",
       "      <td>NaN</td>\n",
       "    </tr>\n",
       "    <tr>\n",
       "      <th>5</th>\n",
       "      <td>The Natural Way to Draw</td>\n",
       "      <td>3.00</td>\n",
       "      <td>NaN</td>\n",
       "    </tr>\n",
       "    <tr>\n",
       "      <th>6</th>\n",
       "      <td>Twilight (Twilight  #1)</td>\n",
       "      <td>3.66</td>\n",
       "      <td>7.00</td>\n",
       "    </tr>\n",
       "    <tr>\n",
       "      <th>7</th>\n",
       "      <td>Harry Potter and the Prisoner of Azkaban (Harry Potter  #3)</td>\n",
       "      <td>4.41</td>\n",
       "      <td>6.00</td>\n",
       "    </tr>\n",
       "    <tr>\n",
       "      <th>8</th>\n",
       "      <td>Harry Potter and the Chamber of Secrets (Harry Potter  #2)</td>\n",
       "      <td>4.29</td>\n",
       "      <td>6.00</td>\n",
       "    </tr>\n",
       "    <tr>\n",
       "      <th>9</th>\n",
       "      <td>The Book Thief</td>\n",
       "      <td>4.26</td>\n",
       "      <td>6.00</td>\n",
       "    </tr>\n",
       "    <tr>\n",
       "      <th>10</th>\n",
       "      <td>The Glass Castle</td>\n",
       "      <td>4.21</td>\n",
       "      <td>6.00</td>\n",
       "    </tr>\n",
       "    <tr>\n",
       "      <th>11</th>\n",
       "      <td>Outlander (Outlander  #1)</td>\n",
       "      <td>4.12</td>\n",
       "      <td>6.00</td>\n",
       "    </tr>\n",
       "    <tr>\n",
       "      <th>12</th>\n",
       "      <td>The Hobbit  or There and Back Again</td>\n",
       "      <td>4.12</td>\n",
       "      <td>6.00</td>\n",
       "    </tr>\n",
       "    <tr>\n",
       "      <th>13</th>\n",
       "      <td>The Curious Incident of the Dog in the Night-Time</td>\n",
       "      <td>4.08</td>\n",
       "      <td>6.00</td>\n",
       "    </tr>\n",
       "    <tr>\n",
       "      <th>14</th>\n",
       "      <td>The Lightning Thief (Percy Jackson and the Olympians  #1)</td>\n",
       "      <td>4.08</td>\n",
       "      <td>6.00</td>\n",
       "    </tr>\n",
       "  </tbody>\n",
       "</table>\n",
       "</div>"
      ],
      "text/plain": [
       "                                                          title  avg_rating  \\\n",
       "0              The Cat in the Hat and Other Dr. Seuss Favorites        5.00   \n",
       "1                                     Essential Tales and Poems        4.00   \n",
       "2                                          Leonardo's Notebooks        4.00   \n",
       "3          Disney's Beauty and the Beast (A Little Golden Book)        4.00   \n",
       "4               Anne Rice's The Vampire Lestat: A Graphic Novel        3.67   \n",
       "5                                       The Natural Way to Draw        3.00   \n",
       "6                                       Twilight (Twilight  #1)        3.66   \n",
       "7   Harry Potter and the Prisoner of Azkaban (Harry Potter  #3)        4.41   \n",
       "8    Harry Potter and the Chamber of Secrets (Harry Potter  #2)        4.29   \n",
       "9                                                The Book Thief        4.26   \n",
       "10                                             The Glass Castle        4.21   \n",
       "11                                    Outlander (Outlander  #1)        4.12   \n",
       "12                          The Hobbit  or There and Back Again        4.12   \n",
       "13            The Curious Incident of the Dog in the Night-Time        4.08   \n",
       "14    The Lightning Thief (Percy Jackson and the Olympians  #1)        4.08   \n",
       "\n",
       "    reviews_cnt  \n",
       "0           NaN  \n",
       "1           NaN  \n",
       "2           NaN  \n",
       "3           NaN  \n",
       "4           NaN  \n",
       "5           NaN  \n",
       "6          7.00  \n",
       "7          6.00  \n",
       "8          6.00  \n",
       "9          6.00  \n",
       "10         6.00  \n",
       "11         6.00  \n",
       "12         6.00  \n",
       "13         6.00  \n",
       "14         6.00  "
      ]
     },
     "execution_count": 8,
     "metadata": {},
     "output_type": "execute_result"
    }
   ],
   "source": [
    "query = '''\n",
    "WITH \n",
    "review as (\n",
    "          SELECT book_id,\n",
    "                 count(review_id) reviews_cnt\n",
    "          FROM reviews\n",
    "          GROUP BY book_id),\n",
    "rating as (\n",
    "            SELECT book_id,\n",
    "                   avg(rating) as avg_rating\n",
    "            FROM ratings\n",
    "            GROUP BY book_id)\n",
    "SELECT title,\n",
    "       rt.avg_rating,\n",
    "       rv.reviews_cnt\n",
    "FROM books b\n",
    "LEFT JOIN rating rt ON b.book_id=rt.book_id\n",
    "LEFT JOIN review rv ON b.book_id=rv.book_id\n",
    "ORDER BY  3 desc, 2 desc\n",
    "LIMIT 15\n",
    "''' \n",
    "sql_result(query)"
   ]
  },
  {
   "cell_type": "markdown",
   "id": "50b51d76",
   "metadata": {},
   "source": [
    "####  Проверка"
   ]
  },
  {
   "cell_type": "code",
   "execution_count": 9,
   "id": "f019346d",
   "metadata": {},
   "outputs": [
    {
     "name": "stdout",
     "output_type": "stream",
     "text": [
      "Количество ревью в изначальной таблице:\n"
     ]
    },
    {
     "data": {
      "text/html": [
       "<div>\n",
       "<style scoped>\n",
       "    .dataframe tbody tr th:only-of-type {\n",
       "        vertical-align: middle;\n",
       "    }\n",
       "\n",
       "    .dataframe tbody tr th {\n",
       "        vertical-align: top;\n",
       "    }\n",
       "\n",
       "    .dataframe thead th {\n",
       "        text-align: right;\n",
       "    }\n",
       "</style>\n",
       "<table border=\"1\" class=\"dataframe\">\n",
       "  <thead>\n",
       "    <tr style=\"text-align: right;\">\n",
       "      <th></th>\n",
       "      <th>reviews_orig</th>\n",
       "    </tr>\n",
       "  </thead>\n",
       "  <tbody>\n",
       "    <tr>\n",
       "      <th>0</th>\n",
       "      <td>2793</td>\n",
       "    </tr>\n",
       "  </tbody>\n",
       "</table>\n",
       "</div>"
      ],
      "text/plain": [
       "   reviews_orig\n",
       "0          2793"
      ]
     },
     "metadata": {},
     "output_type": "display_data"
    },
    {
     "name": "stdout",
     "output_type": "stream",
     "text": [
      "Количество ревью в агрегированной таблице:\n"
     ]
    },
    {
     "data": {
      "text/html": [
       "<div>\n",
       "<style scoped>\n",
       "    .dataframe tbody tr th:only-of-type {\n",
       "        vertical-align: middle;\n",
       "    }\n",
       "\n",
       "    .dataframe tbody tr th {\n",
       "        vertical-align: top;\n",
       "    }\n",
       "\n",
       "    .dataframe thead th {\n",
       "        text-align: right;\n",
       "    }\n",
       "</style>\n",
       "<table border=\"1\" class=\"dataframe\">\n",
       "  <thead>\n",
       "    <tr style=\"text-align: right;\">\n",
       "      <th></th>\n",
       "      <th>reviews_aggr</th>\n",
       "    </tr>\n",
       "  </thead>\n",
       "  <tbody>\n",
       "    <tr>\n",
       "      <th>0</th>\n",
       "      <td>2,793.00</td>\n",
       "    </tr>\n",
       "  </tbody>\n",
       "</table>\n",
       "</div>"
      ],
      "text/plain": [
       "   reviews_aggr\n",
       "0      2,793.00"
      ]
     },
     "execution_count": 9,
     "metadata": {},
     "output_type": "execute_result"
    }
   ],
   "source": [
    "# Количество ревью в базовой таблице\n",
    "query = '''\n",
    "SELECT count(review_id) as reviews_orig\n",
    "FROM reviews \n",
    "    \n",
    "''' \n",
    "print('Количество ревью в изначальной таблице:')\n",
    "display(sql_result(query))\n",
    "\n",
    "# Количество ревью в агрегированной таблице\n",
    "query = '''\n",
    "\n",
    "WITH \n",
    "review as (\n",
    "          SELECT book_id,\n",
    "                 count(review_id) reviews_cnt\n",
    "          FROM reviews\n",
    "          GROUP BY book_id),\n",
    "rating as (\n",
    "            SELECT book_id,\n",
    "                   avg(rating) as avg_rating\n",
    "            FROM ratings\n",
    "            GROUP BY book_id)\n",
    "SELECT sum(rv.reviews_cnt) as reviews_aggr\n",
    "FROM books b\n",
    "LEFT JOIN rating rt ON b.book_id=rt.book_id\n",
    "LEFT JOIN review rv ON b.book_id=rv.book_id\n",
    "\n",
    "''' \n",
    "print('Количество ревью в агрегированной таблице:')\n",
    "sql_result(query)"
   ]
  },
  {
   "cell_type": "code",
   "execution_count": 10,
   "id": "d4fa8b5e",
   "metadata": {},
   "outputs": [
    {
     "name": "stdout",
     "output_type": "stream",
     "text": [
      "Сумма средних рэйтингов книг в изначальной таблице:\n"
     ]
    },
    {
     "data": {
      "text/html": [
       "<div>\n",
       "<style scoped>\n",
       "    .dataframe tbody tr th:only-of-type {\n",
       "        vertical-align: middle;\n",
       "    }\n",
       "\n",
       "    .dataframe tbody tr th {\n",
       "        vertical-align: top;\n",
       "    }\n",
       "\n",
       "    .dataframe thead th {\n",
       "        text-align: right;\n",
       "    }\n",
       "</style>\n",
       "<table border=\"1\" class=\"dataframe\">\n",
       "  <thead>\n",
       "    <tr style=\"text-align: right;\">\n",
       "      <th></th>\n",
       "      <th>avg_rating_orig</th>\n",
       "    </tr>\n",
       "  </thead>\n",
       "  <tbody>\n",
       "    <tr>\n",
       "      <th>0</th>\n",
       "      <td>3,898.97</td>\n",
       "    </tr>\n",
       "  </tbody>\n",
       "</table>\n",
       "</div>"
      ],
      "text/plain": [
       "   avg_rating_orig\n",
       "0         3,898.97"
      ]
     },
     "metadata": {},
     "output_type": "display_data"
    },
    {
     "name": "stdout",
     "output_type": "stream",
     "text": [
      "Сумма средних рэйтингов книг в агрегированной таблице:\n"
     ]
    },
    {
     "data": {
      "text/html": [
       "<div>\n",
       "<style scoped>\n",
       "    .dataframe tbody tr th:only-of-type {\n",
       "        vertical-align: middle;\n",
       "    }\n",
       "\n",
       "    .dataframe tbody tr th {\n",
       "        vertical-align: top;\n",
       "    }\n",
       "\n",
       "    .dataframe thead th {\n",
       "        text-align: right;\n",
       "    }\n",
       "</style>\n",
       "<table border=\"1\" class=\"dataframe\">\n",
       "  <thead>\n",
       "    <tr style=\"text-align: right;\">\n",
       "      <th></th>\n",
       "      <th>avg_rating_aggr</th>\n",
       "    </tr>\n",
       "  </thead>\n",
       "  <tbody>\n",
       "    <tr>\n",
       "      <th>0</th>\n",
       "      <td>3,898.97</td>\n",
       "    </tr>\n",
       "  </tbody>\n",
       "</table>\n",
       "</div>"
      ],
      "text/plain": [
       "   avg_rating_aggr\n",
       "0         3,898.97"
      ]
     },
     "execution_count": 10,
     "metadata": {},
     "output_type": "execute_result"
    }
   ],
   "source": [
    "# Сумма средних рэйтингов книг в базовой таблице\n",
    "query = '''\n",
    "SELECT sum(avg_rating) as avg_rating_orig\n",
    "FROM (SELECT book_id,\n",
    "            avg(rating) as avg_rating\n",
    "     FROM ratings\n",
    "     GROUP BY book_id) foo\n",
    "    \n",
    "''' \n",
    "print('Сумма средних рэйтингов книг в изначальной таблице:')\n",
    "display(sql_result(query))\n",
    "\n",
    "# Сумма средних рэйтингов книг в агрегированной таблице\n",
    "query = '''\n",
    "\n",
    "WITH \n",
    "review as (\n",
    "          SELECT book_id,\n",
    "                 count(review_id) reviews_cnt\n",
    "          FROM reviews\n",
    "          GROUP BY book_id),\n",
    "rating as (\n",
    "            SELECT book_id,\n",
    "                   avg(rating) as avg_rating\n",
    "            FROM ratings\n",
    "            GROUP BY book_id)\n",
    "\n",
    "SELECT sum(rt.avg_rating) avg_rating_aggr\n",
    "FROM books b\n",
    "LEFT JOIN rating rt ON b.book_id=rt.book_id\n",
    "LEFT JOIN review rv ON b.book_id=rv.book_id\n",
    "\n",
    "''' \n",
    "print('Сумма средних рэйтингов книг в агрегированной таблице:')\n",
    "sql_result(query)"
   ]
  },
  {
   "cell_type": "markdown",
   "id": "34c77b65",
   "metadata": {},
   "source": [
    "#### Вывод"
   ]
  },
  {
   "cell_type": "markdown",
   "id": "7536cea3",
   "metadata": {},
   "source": [
    "1. Наибольшее количество обзоров у\n",
    "    * `Twilight (Twilight №1)` (Сумерки, 1 книга) - 7 шт.\n",
    "    * `Harry Potter`(Гарри Поттер, 2 и 3 книги) - 6 шт.\n",
    "    \n",
    "2. У шести книг из тысячи нет ни одного отзыва.\n",
    "3. У более популярных книг средняя оценка зрителей как правило ниже, чем у не популярных книг."
   ]
  },
  {
   "cell_type": "markdown",
   "id": "d9393226",
   "metadata": {},
   "source": [
    "### Издательство, которое выпустило наибольшее число книг толще 50 страниц."
   ]
  },
  {
   "cell_type": "code",
   "execution_count": 11,
   "id": "7c9c9db6",
   "metadata": {},
   "outputs": [
    {
     "data": {
      "text/html": [
       "<div>\n",
       "<style scoped>\n",
       "    .dataframe tbody tr th:only-of-type {\n",
       "        vertical-align: middle;\n",
       "    }\n",
       "\n",
       "    .dataframe tbody tr th {\n",
       "        vertical-align: top;\n",
       "    }\n",
       "\n",
       "    .dataframe thead th {\n",
       "        text-align: right;\n",
       "    }\n",
       "</style>\n",
       "<table border=\"1\" class=\"dataframe\">\n",
       "  <thead>\n",
       "    <tr style=\"text-align: right;\">\n",
       "      <th></th>\n",
       "      <th>publisher</th>\n",
       "    </tr>\n",
       "  </thead>\n",
       "  <tbody>\n",
       "    <tr>\n",
       "      <th>0</th>\n",
       "      <td>Penguin Books</td>\n",
       "    </tr>\n",
       "  </tbody>\n",
       "</table>\n",
       "</div>"
      ],
      "text/plain": [
       "       publisher\n",
       "0  Penguin Books"
      ]
     },
     "execution_count": 11,
     "metadata": {},
     "output_type": "execute_result"
    }
   ],
   "source": [
    "query = '''\n",
    "SELECT publisher\n",
    "FROM publishers\n",
    "WHERE publisher_id = (\n",
    "                      SELECT publisher_id\n",
    "                      FROM books WHERE num_pages > 50\n",
    "                      GROUP BY 1\n",
    "                      ORDER BY count(book_id) DESC\n",
    "                      LIMIT 1)\n",
    "''' \n",
    "sql_result(query) "
   ]
  },
  {
   "cell_type": "markdown",
   "id": "9353e2b1",
   "metadata": {},
   "source": [
    "#### Вывод"
   ]
  },
  {
   "cell_type": "markdown",
   "id": "b3ac19ed",
   "metadata": {},
   "source": [
    "Наибольшее число книг толще 50 страниц выпустило издательство `Penguin Books`."
   ]
  },
  {
   "cell_type": "markdown",
   "id": "fadddbe4",
   "metadata": {},
   "source": [
    "### Автор с самой высокой средней оценкой книг (учитываем только книги с 50 и более оценками)"
   ]
  },
  {
   "cell_type": "code",
   "execution_count": 12,
   "id": "1fb27a48",
   "metadata": {},
   "outputs": [
    {
     "data": {
      "text/html": [
       "<div>\n",
       "<style scoped>\n",
       "    .dataframe tbody tr th:only-of-type {\n",
       "        vertical-align: middle;\n",
       "    }\n",
       "\n",
       "    .dataframe tbody tr th {\n",
       "        vertical-align: top;\n",
       "    }\n",
       "\n",
       "    .dataframe thead th {\n",
       "        text-align: right;\n",
       "    }\n",
       "</style>\n",
       "<table border=\"1\" class=\"dataframe\">\n",
       "  <thead>\n",
       "    <tr style=\"text-align: right;\">\n",
       "      <th></th>\n",
       "      <th>author</th>\n",
       "      <th>max_rating</th>\n",
       "    </tr>\n",
       "  </thead>\n",
       "  <tbody>\n",
       "    <tr>\n",
       "      <th>0</th>\n",
       "      <td>J.K. Rowling/Mary GrandPré</td>\n",
       "      <td>4.28</td>\n",
       "    </tr>\n",
       "    <tr>\n",
       "      <th>1</th>\n",
       "      <td>Markus Zusak/Cao Xuân Việt Khương</td>\n",
       "      <td>4.26</td>\n",
       "    </tr>\n",
       "    <tr>\n",
       "      <th>2</th>\n",
       "      <td>J.R.R. Tolkien</td>\n",
       "      <td>4.26</td>\n",
       "    </tr>\n",
       "    <tr>\n",
       "      <th>3</th>\n",
       "      <td>Louisa May Alcott</td>\n",
       "      <td>4.19</td>\n",
       "    </tr>\n",
       "    <tr>\n",
       "      <th>4</th>\n",
       "      <td>Rick Riordan</td>\n",
       "      <td>4.08</td>\n",
       "    </tr>\n",
       "  </tbody>\n",
       "</table>\n",
       "</div>"
      ],
      "text/plain": [
       "                              author  max_rating\n",
       "0         J.K. Rowling/Mary GrandPré        4.28\n",
       "1  Markus Zusak/Cao Xuân Việt Khương        4.26\n",
       "2                     J.R.R. Tolkien        4.26\n",
       "3                  Louisa May Alcott        4.19\n",
       "4                       Rick Riordan        4.08"
      ]
     },
     "execution_count": 12,
     "metadata": {},
     "output_type": "execute_result"
    }
   ],
   "source": [
    "query = '''\n",
    "SELECT author,\n",
    "       avg(avg_rating) AS max_rating\n",
    "FROM\n",
    "  (SELECT avg(r.rating) AS avg_rating,\n",
    "          a.author\n",
    "   FROM ratings AS r\n",
    "   JOIN books b ON r.book_id = b.book_id\n",
    "   JOIN authors a ON b.author_id = a.author_id\n",
    "   GROUP BY a.author,\n",
    "            r.book_id\n",
    "   HAVING count(r.rating_id) >= 50) AS top_author\n",
    "GROUP BY author\n",
    "ORDER BY max_rating DESC\n",
    "LIMIT 5\n",
    "\n",
    "''' \n",
    "sql_result(query) "
   ]
  },
  {
   "cell_type": "markdown",
   "id": "a648f800",
   "metadata": {},
   "source": [
    "#### Вывод"
   ]
  },
  {
   "cell_type": "markdown",
   "id": "60cdb2c2",
   "metadata": {},
   "source": [
    "Самая высокая средняя оценка книг у `J.K. Rowling/Mary GrandPré\t` - автора и иллюстратора серии книг о Гарри Поттере."
   ]
  },
  {
   "cell_type": "markdown",
   "id": "5ca91098",
   "metadata": {},
   "source": [
    "### Среднее количество обзоров от пользователей, которые поставили больше 50 оценок"
   ]
  },
  {
   "cell_type": "code",
   "execution_count": 13,
   "id": "6f124ef4",
   "metadata": {
    "scrolled": true
   },
   "outputs": [
    {
     "data": {
      "text/html": [
       "<div>\n",
       "<style scoped>\n",
       "    .dataframe tbody tr th:only-of-type {\n",
       "        vertical-align: middle;\n",
       "    }\n",
       "\n",
       "    .dataframe tbody tr th {\n",
       "        vertical-align: top;\n",
       "    }\n",
       "\n",
       "    .dataframe thead th {\n",
       "        text-align: right;\n",
       "    }\n",
       "</style>\n",
       "<table border=\"1\" class=\"dataframe\">\n",
       "  <thead>\n",
       "    <tr style=\"text-align: right;\">\n",
       "      <th></th>\n",
       "      <th>avg_review</th>\n",
       "    </tr>\n",
       "  </thead>\n",
       "  <tbody>\n",
       "    <tr>\n",
       "      <th>0</th>\n",
       "      <td>24.33</td>\n",
       "    </tr>\n",
       "  </tbody>\n",
       "</table>\n",
       "</div>"
      ],
      "text/plain": [
       "   avg_review\n",
       "0       24.33"
      ]
     },
     "execution_count": 13,
     "metadata": {},
     "output_type": "execute_result"
    }
   ],
   "source": [
    "query = '''\n",
    "WITH top_user AS\n",
    "  (SELECT username\n",
    "   FROM ratings\n",
    "   GROUP BY username\n",
    "   HAVING count(rating_id) > 50),\n",
    "     avg_review AS\n",
    "  (SELECT username,\n",
    "          count(review_id) AS review_cnt\n",
    "   FROM reviews\n",
    "   GROUP BY username)\n",
    "SELECT avg(a.review_cnt) AS avg_review\n",
    "FROM top_user AS top\n",
    "JOIN avg_review AS a ON top.username = a.username\n",
    "\n",
    "''' \n",
    "sql_result(query) "
   ]
  },
  {
   "cell_type": "markdown",
   "id": "bacc20bc",
   "metadata": {},
   "source": [
    "#### Вывод"
   ]
  },
  {
   "cell_type": "markdown",
   "id": "cfc35705",
   "metadata": {},
   "source": [
    "У пользователей, которые поставили более 50 оценок, в среднем 24 обзора. Таким образом, активные пользователи практически в 50% случаев ставят не только оценку, но и оставляют отзыв на книгу. "
   ]
  },
  {
   "cell_type": "markdown",
   "id": "eecaab4f",
   "metadata": {},
   "source": [
    "## Вывод"
   ]
  },
  {
   "cell_type": "markdown",
   "id": "d3db3a69",
   "metadata": {},
   "source": [
    "В ходе анализа базы данных сервиса для чтения книг по подписке получена следующая информация:\n",
    "1. С 1 января 2000 года вышла 821 книга.\n",
    "2. Для каждой книги подсчитаны количество обзоров и средняя оценка:\n",
    "     - Наибольшее количество обзоров у\n",
    "        * `Twilight (Twilight #1)` (Сумерки, 1 книга) - 7 шт.;\n",
    "        * `Harry Potter`(Гарри Поттер, 2 и 3 книги) - 6 шт.\n",
    "     - У шести книг из тысячи нет ни одного отзыва.\n",
    "     - У более популярных книг средняя оценка зрителей как правило ниже, чем у не популярных книг.\n",
    "3. Наибольшее число книг толще 50 страниц выпустило издательство `Penguin Books`.\n",
    "4. Самая высокая средняя оценка книг у `J.K. Rowling/Mary GrandPré\t` - автора и иллюстратора серии книг о Гарри Поттере.\n",
    "5. У пользователей, которые поставили более 50 оценок, в среднем 24 обзора. Таким образом, активные пользователи практически в 50% случаев ставят не только оценку, но и оставляют отзыв на книгу."
   ]
  }
 ],
 "metadata": {
  "ExecuteTimeLog": [
   {
    "duration": 514,
    "start_time": "2022-06-26T17:04:18.249Z"
   },
   {
    "duration": 3,
    "start_time": "2022-06-26T17:04:18.764Z"
   },
   {
    "duration": 9398,
    "start_time": "2022-06-26T17:04:18.768Z"
   },
   {
    "duration": 3,
    "start_time": "2022-06-26T17:04:28.168Z"
   },
   {
    "duration": 120,
    "start_time": "2022-06-26T17:04:28.173Z"
   },
   {
    "duration": 9,
    "start_time": "2022-06-26T17:04:28.294Z"
   },
   {
    "duration": 29,
    "start_time": "2022-06-26T17:04:28.305Z"
   },
   {
    "duration": 20,
    "start_time": "2022-06-26T17:04:28.336Z"
   },
   {
    "duration": 10,
    "start_time": "2022-06-26T17:04:28.358Z"
   },
   {
    "duration": 14,
    "start_time": "2022-06-26T17:04:28.369Z"
   },
   {
    "duration": 11,
    "start_time": "2022-06-26T17:04:28.384Z"
   },
   {
    "duration": 544,
    "start_time": "2022-06-26T21:10:48.066Z"
   },
   {
    "duration": 3,
    "start_time": "2022-06-26T21:10:48.612Z"
   },
   {
    "duration": 9506,
    "start_time": "2022-06-26T21:10:48.616Z"
   },
   {
    "duration": 6,
    "start_time": "2022-06-26T21:10:58.125Z"
   },
   {
    "duration": 702,
    "start_time": "2022-06-26T21:10:58.133Z"
   },
   {
    "duration": 68,
    "start_time": "2022-06-26T21:10:58.837Z"
   },
   {
    "duration": 103,
    "start_time": "2022-06-26T21:10:58.906Z"
   },
   {
    "duration": 78,
    "start_time": "2022-06-26T21:10:59.011Z"
   },
   {
    "duration": 73,
    "start_time": "2022-06-26T21:10:59.090Z"
   },
   {
    "duration": 76,
    "start_time": "2022-06-26T21:10:59.166Z"
   },
   {
    "duration": 79,
    "start_time": "2022-06-26T21:10:59.244Z"
   },
   {
    "duration": 49,
    "start_time": "2022-06-27T07:07:29.837Z"
   },
   {
    "duration": 499,
    "start_time": "2022-06-27T07:07:34.671Z"
   },
   {
    "duration": 2,
    "start_time": "2022-06-27T07:07:35.172Z"
   },
   {
    "duration": 7996,
    "start_time": "2022-06-27T07:07:35.176Z"
   },
   {
    "duration": 3,
    "start_time": "2022-06-27T07:07:43.174Z"
   },
   {
    "duration": 634,
    "start_time": "2022-06-27T07:07:43.178Z"
   },
   {
    "duration": 42,
    "start_time": "2022-06-27T07:07:43.814Z"
   },
   {
    "duration": 8,
    "start_time": "2022-06-27T07:08:20.983Z"
   },
   {
    "duration": 7,
    "start_time": "2022-06-27T07:08:51.189Z"
   },
   {
    "duration": 492,
    "start_time": "2022-06-27T07:15:37.111Z"
   },
   {
    "duration": 485,
    "start_time": "2022-06-27T07:16:31.615Z"
   },
   {
    "duration": 46,
    "start_time": "2022-06-27T07:20:33.836Z"
   },
   {
    "duration": 101,
    "start_time": "2022-06-27T07:20:39.989Z"
   },
   {
    "duration": 108,
    "start_time": "2022-06-27T07:20:45.444Z"
   },
   {
    "duration": 89,
    "start_time": "2022-06-27T07:21:09.543Z"
   },
   {
    "duration": 108,
    "start_time": "2022-06-27T07:21:35.563Z"
   },
   {
    "duration": 101,
    "start_time": "2022-06-27T07:22:06.440Z"
   },
   {
    "duration": 228,
    "start_time": "2022-06-27T07:24:04.989Z"
   },
   {
    "duration": 264,
    "start_time": "2022-06-27T07:24:43.541Z"
   },
   {
    "duration": 77,
    "start_time": "2022-06-27T07:35:37.592Z"
   },
   {
    "duration": 164,
    "start_time": "2022-06-27T07:38:10.948Z"
   },
   {
    "duration": 6,
    "start_time": "2022-06-27T07:38:18.828Z"
   },
   {
    "duration": 22,
    "start_time": "2022-06-27T07:38:18.839Z"
   },
   {
    "duration": 14,
    "start_time": "2022-06-27T07:38:18.863Z"
   },
   {
    "duration": 11,
    "start_time": "2022-06-27T07:38:18.880Z"
   },
   {
    "duration": 552,
    "start_time": "2022-06-27T07:38:18.893Z"
   },
   {
    "duration": 448,
    "start_time": "2022-06-27T07:38:19.446Z"
   },
   {
    "duration": 73,
    "start_time": "2022-06-27T07:38:19.896Z"
   },
   {
    "duration": 107,
    "start_time": "2022-06-27T07:38:22.396Z"
   },
   {
    "duration": 168,
    "start_time": "2022-06-27T07:38:24.691Z"
   },
   {
    "duration": 75,
    "start_time": "2022-06-27T07:38:36.139Z"
   },
   {
    "duration": 77,
    "start_time": "2022-06-27T07:38:48.035Z"
   },
   {
    "duration": 122,
    "start_time": "2022-06-27T07:39:54.597Z"
   },
   {
    "duration": 88,
    "start_time": "2022-06-27T07:39:59.717Z"
   },
   {
    "duration": 84,
    "start_time": "2022-06-27T07:40:16.879Z"
   },
   {
    "duration": 130,
    "start_time": "2022-06-27T07:40:58.071Z"
   },
   {
    "duration": 82,
    "start_time": "2022-06-27T07:41:44.238Z"
   },
   {
    "duration": 91,
    "start_time": "2022-06-27T07:42:40.915Z"
   },
   {
    "duration": 336,
    "start_time": "2022-06-27T07:44:48.340Z"
   },
   {
    "duration": 76,
    "start_time": "2022-06-27T07:45:10.117Z"
   },
   {
    "duration": 90,
    "start_time": "2022-06-27T07:46:50.551Z"
   },
   {
    "duration": 100,
    "start_time": "2022-06-27T07:49:02.719Z"
   },
   {
    "duration": 109,
    "start_time": "2022-06-27T07:49:16.072Z"
   },
   {
    "duration": 88,
    "start_time": "2022-06-27T07:58:58.885Z"
   },
   {
    "duration": 95,
    "start_time": "2022-06-27T07:59:32.716Z"
   },
   {
    "duration": 93,
    "start_time": "2022-06-27T08:00:18.586Z"
   },
   {
    "duration": 92,
    "start_time": "2022-06-27T08:22:59.565Z"
   },
   {
    "duration": 223,
    "start_time": "2022-06-27T08:25:20.485Z"
   },
   {
    "duration": 101,
    "start_time": "2022-06-27T08:25:27.872Z"
   },
   {
    "duration": 150,
    "start_time": "2022-06-27T08:26:08.919Z"
   },
   {
    "duration": 95,
    "start_time": "2022-06-27T08:26:13.708Z"
   },
   {
    "duration": 106,
    "start_time": "2022-06-27T08:26:26.878Z"
   },
   {
    "duration": 69,
    "start_time": "2022-06-27T08:28:25.937Z"
   },
   {
    "duration": 83,
    "start_time": "2022-06-27T08:29:12.894Z"
   },
   {
    "duration": 136,
    "start_time": "2022-06-27T08:36:44.282Z"
   },
   {
    "duration": 159,
    "start_time": "2022-06-27T08:37:10.036Z"
   },
   {
    "duration": 205,
    "start_time": "2022-06-27T08:37:32.770Z"
   },
   {
    "duration": 160,
    "start_time": "2022-06-27T08:37:48.816Z"
   },
   {
    "duration": 108,
    "start_time": "2022-06-27T08:38:01.779Z"
   },
   {
    "duration": 123,
    "start_time": "2022-06-27T08:38:09.385Z"
   },
   {
    "duration": 85,
    "start_time": "2022-06-27T08:39:08.280Z"
   },
   {
    "duration": 103,
    "start_time": "2022-06-27T08:39:48.589Z"
   },
   {
    "duration": 128,
    "start_time": "2022-06-27T08:40:42.532Z"
   },
   {
    "duration": 114,
    "start_time": "2022-06-27T08:41:00.072Z"
   },
   {
    "duration": 114,
    "start_time": "2022-06-27T08:41:24.135Z"
   },
   {
    "duration": 120,
    "start_time": "2022-06-27T08:41:43.396Z"
   },
   {
    "duration": 111,
    "start_time": "2022-06-27T08:41:51.097Z"
   },
   {
    "duration": 211,
    "start_time": "2022-06-27T08:45:52.978Z"
   },
   {
    "duration": 152,
    "start_time": "2022-06-27T08:46:09.303Z"
   },
   {
    "duration": 112,
    "start_time": "2022-06-27T08:46:22.101Z"
   },
   {
    "duration": 123,
    "start_time": "2022-06-27T08:46:27.350Z"
   },
   {
    "duration": 96,
    "start_time": "2022-06-27T08:49:42.511Z"
   },
   {
    "duration": 239,
    "start_time": "2022-06-27T08:54:39.968Z"
   },
   {
    "duration": 279,
    "start_time": "2022-06-27T08:55:51.275Z"
   },
   {
    "duration": 209,
    "start_time": "2022-06-27T09:06:15.680Z"
   },
   {
    "duration": 81,
    "start_time": "2022-06-27T09:06:43.824Z"
   },
   {
    "duration": 67,
    "start_time": "2022-06-27T09:08:34.170Z"
   },
   {
    "duration": 217,
    "start_time": "2022-06-27T09:08:44.247Z"
   },
   {
    "duration": 152,
    "start_time": "2022-06-27T09:09:26.078Z"
   },
   {
    "duration": 250,
    "start_time": "2022-06-27T09:10:17.890Z"
   },
   {
    "duration": 236,
    "start_time": "2022-06-27T09:12:37.059Z"
   },
   {
    "duration": 230,
    "start_time": "2022-06-27T09:12:47.155Z"
   },
   {
    "duration": 231,
    "start_time": "2022-06-27T09:13:07.474Z"
   },
   {
    "duration": 95,
    "start_time": "2022-06-27T09:38:24.019Z"
   },
   {
    "duration": 99,
    "start_time": "2022-06-27T09:39:33.495Z"
   },
   {
    "duration": 100,
    "start_time": "2022-06-27T09:44:54.218Z"
   },
   {
    "duration": 104,
    "start_time": "2022-06-27T09:45:26.869Z"
   },
   {
    "duration": 98,
    "start_time": "2022-06-27T09:46:14.490Z"
   },
   {
    "duration": 157,
    "start_time": "2022-06-27T09:46:18.107Z"
   },
   {
    "duration": 104,
    "start_time": "2022-06-27T09:46:22.146Z"
   },
   {
    "duration": 104,
    "start_time": "2022-06-27T09:46:33.951Z"
   },
   {
    "duration": 72,
    "start_time": "2022-06-27T09:46:42.238Z"
   },
   {
    "duration": 81,
    "start_time": "2022-06-27T09:48:11.013Z"
   },
   {
    "duration": 244,
    "start_time": "2022-06-27T09:48:36.608Z"
   },
   {
    "duration": 453,
    "start_time": "2022-06-27T09:49:04.489Z"
   },
   {
    "duration": 73,
    "start_time": "2022-06-27T10:29:42.348Z"
   },
   {
    "duration": 95,
    "start_time": "2022-06-27T10:29:54.799Z"
   },
   {
    "duration": 102,
    "start_time": "2022-06-27T10:30:20.168Z"
   },
   {
    "duration": 98,
    "start_time": "2022-06-27T10:30:29.957Z"
   },
   {
    "duration": 98,
    "start_time": "2022-06-27T10:30:52.803Z"
   },
   {
    "duration": 177,
    "start_time": "2022-06-27T10:32:16.950Z"
   },
   {
    "duration": 145,
    "start_time": "2022-06-27T10:32:22.213Z"
   },
   {
    "duration": 140,
    "start_time": "2022-06-27T10:32:55.355Z"
   },
   {
    "duration": 144,
    "start_time": "2022-06-27T10:33:22.406Z"
   },
   {
    "duration": 110,
    "start_time": "2022-06-27T10:34:33.640Z"
   },
   {
    "duration": 112,
    "start_time": "2022-06-27T10:35:00.862Z"
   },
   {
    "duration": 8,
    "start_time": "2022-06-27T10:35:33.661Z"
   },
   {
    "duration": 6,
    "start_time": "2022-06-27T10:35:39.848Z"
   },
   {
    "duration": 123,
    "start_time": "2022-06-27T10:36:50.087Z"
   },
   {
    "duration": 18,
    "start_time": "2022-06-27T10:37:04.724Z"
   },
   {
    "duration": 126,
    "start_time": "2022-06-27T10:37:18.880Z"
   },
   {
    "duration": 10,
    "start_time": "2022-06-27T10:37:22.344Z"
   },
   {
    "duration": 7,
    "start_time": "2022-06-27T10:37:58.652Z"
   },
   {
    "duration": 5,
    "start_time": "2022-06-27T10:38:33.298Z"
   },
   {
    "duration": 138,
    "start_time": "2022-06-27T10:41:06.964Z"
   },
   {
    "duration": 139,
    "start_time": "2022-06-27T10:42:06.404Z"
   },
   {
    "duration": 136,
    "start_time": "2022-06-27T10:46:37.518Z"
   },
   {
    "duration": 129,
    "start_time": "2022-06-27T10:47:56.278Z"
   },
   {
    "duration": 139,
    "start_time": "2022-06-27T10:48:10.444Z"
   },
   {
    "duration": 137,
    "start_time": "2022-06-27T10:48:50.851Z"
   },
   {
    "duration": 139,
    "start_time": "2022-06-27T10:49:08.443Z"
   },
   {
    "duration": 73,
    "start_time": "2022-06-27T10:49:49.025Z"
   },
   {
    "duration": 76,
    "start_time": "2022-06-27T10:58:59.909Z"
   },
   {
    "duration": 84,
    "start_time": "2022-06-27T10:59:17.765Z"
   },
   {
    "duration": 569,
    "start_time": "2022-06-27T11:01:37.085Z"
   },
   {
    "duration": 5,
    "start_time": "2022-06-27T11:01:37.657Z"
   },
   {
    "duration": 7978,
    "start_time": "2022-06-27T11:01:37.663Z"
   },
   {
    "duration": 3,
    "start_time": "2022-06-27T11:01:45.643Z"
   },
   {
    "duration": 644,
    "start_time": "2022-06-27T11:01:45.647Z"
   },
   {
    "duration": 535,
    "start_time": "2022-06-27T11:01:46.294Z"
   },
   {
    "duration": 82,
    "start_time": "2022-06-27T11:01:46.831Z"
   },
   {
    "duration": 105,
    "start_time": "2022-06-27T11:01:46.915Z"
   },
   {
    "duration": 171,
    "start_time": "2022-06-27T11:01:47.021Z"
   },
   {
    "duration": 176,
    "start_time": "2022-06-27T11:01:47.195Z"
   },
   {
    "duration": 85,
    "start_time": "2022-06-27T11:01:47.372Z"
   },
   {
    "duration": 97,
    "start_time": "2022-06-27T11:01:47.459Z"
   },
   {
    "duration": 87,
    "start_time": "2022-06-27T11:01:47.558Z"
   },
   {
    "duration": 600,
    "start_time": "2022-06-27T11:06:50.147Z"
   },
   {
    "duration": 4,
    "start_time": "2022-06-27T11:06:50.749Z"
   },
   {
    "duration": 6515,
    "start_time": "2022-06-27T11:06:50.755Z"
   },
   {
    "duration": 3,
    "start_time": "2022-06-27T11:06:57.273Z"
   },
   {
    "duration": 578,
    "start_time": "2022-06-27T11:06:57.279Z"
   },
   {
    "duration": 490,
    "start_time": "2022-06-27T11:06:57.858Z"
   },
   {
    "duration": 71,
    "start_time": "2022-06-27T11:06:58.349Z"
   },
   {
    "duration": 87,
    "start_time": "2022-06-27T11:06:58.422Z"
   },
   {
    "duration": 156,
    "start_time": "2022-06-27T11:06:58.512Z"
   },
   {
    "duration": 150,
    "start_time": "2022-06-27T11:06:58.670Z"
   },
   {
    "duration": 76,
    "start_time": "2022-06-27T11:06:58.822Z"
   },
   {
    "duration": 86,
    "start_time": "2022-06-27T11:06:58.900Z"
   },
   {
    "duration": 99,
    "start_time": "2022-06-27T11:06:58.988Z"
   },
   {
    "duration": 609,
    "start_time": "2022-06-27T20:13:58.166Z"
   },
   {
    "duration": 3,
    "start_time": "2022-06-27T20:13:58.778Z"
   },
   {
    "duration": 14604,
    "start_time": "2022-06-27T20:13:58.790Z"
   },
   {
    "duration": 3,
    "start_time": "2022-06-27T20:14:13.395Z"
   },
   {
    "duration": 201,
    "start_time": "2022-06-27T20:14:13.401Z"
   },
   {
    "duration": 187,
    "start_time": "2022-06-27T20:14:13.604Z"
   },
   {
    "duration": 11,
    "start_time": "2022-06-27T20:14:13.793Z"
   },
   {
    "duration": 17,
    "start_time": "2022-06-27T20:14:13.806Z"
   },
   {
    "duration": 61,
    "start_time": "2022-06-27T20:14:13.829Z"
   },
   {
    "duration": 27,
    "start_time": "2022-06-27T20:14:13.892Z"
   },
   {
    "duration": 65,
    "start_time": "2022-06-27T20:14:13.921Z"
   },
   {
    "duration": 18,
    "start_time": "2022-06-27T20:14:13.988Z"
   },
   {
    "duration": 14,
    "start_time": "2022-06-27T20:14:14.008Z"
   }
  ],
  "kernelspec": {
   "display_name": "Python 3 (ipykernel)",
   "language": "python",
   "name": "python3"
  },
  "language_info": {
   "codemirror_mode": {
    "name": "ipython",
    "version": 3
   },
   "file_extension": ".py",
   "mimetype": "text/x-python",
   "name": "python",
   "nbconvert_exporter": "python",
   "pygments_lexer": "ipython3",
   "version": "3.9.7"
  },
  "toc": {
   "base_numbering": 1,
   "nav_menu": {},
   "number_sections": true,
   "sideBar": true,
   "skip_h1_title": true,
   "title_cell": "Table of Contents",
   "title_sidebar": "Contents",
   "toc_cell": false,
   "toc_position": {
    "height": "calc(100% - 180px)",
    "left": "10px",
    "top": "150px",
    "width": "255.594px"
   },
   "toc_section_display": true,
   "toc_window_display": false
  }
 },
 "nbformat": 4,
 "nbformat_minor": 5
}
