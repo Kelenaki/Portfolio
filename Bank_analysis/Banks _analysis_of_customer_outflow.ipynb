{
 "cells": [
  {
   "cell_type": "markdown",
   "metadata": {},
   "source": [
    "# Банки — Анализ оттока клиентов"
   ]
  },
  {
   "cell_type": "markdown",
   "metadata": {},
   "source": [
    "Датасет содержит данные о клиентах банка «Метанпром». \n",
    "Банк располагается в Ярославле и областных городах: Ростов Великий и Рыбинск.\n",
    "\n",
    "**Задача**:\n",
    "1. Проанализировать клиентов банка.\n",
    "2. Выделить портрет клиентов, которые склонны уходить из банка.\n",
    "3. Проверить гипотезы о различии в балансе и доходе клиентов, которые ушли и которые остались.\n",
    "4. Сделать на основании полученных данных предложения об удержании клиентов."
   ]
  },
  {
   "cell_type": "markdown",
   "metadata": {},
   "source": [
    "**Описание датасета**\n",
    "\n",
    "* `userid` — идентификатор пользователя,\n",
    "* `score` — баллы кредитного скоринга,\n",
    "* `City` — город,\n",
    "* `Gender` — пол,\n",
    "* `Age` — возраст,\n",
    "* `Objects` — количество объектов в собственности,\n",
    "* `Balance` — баланс на счёте,\n",
    "* `Products` — количество продуктов, которыми пользуется клиент,\n",
    "* `CreditCard` — есть ли кредитная карта,\n",
    "* `Loyalty` — активный клиент,\n",
    "* `estimated_salary` — заработная плата клиента,\n",
    "* `Churn` — ушёл или нет."
   ]
  },
  {
   "cell_type": "markdown",
   "metadata": {},
   "source": [
    "## Библиотеки, функции"
   ]
  },
  {
   "cell_type": "code",
   "execution_count": 1,
   "metadata": {},
   "outputs": [],
   "source": [
    "import pandas as pd\n",
    "pd.set_option('display.float_format', '{:,.2f}'.format)\n",
    "\n",
    "import scipy.stats as st\n",
    "\n",
    "import matplotlib.pyplot as plt\n",
    "%matplotlib inline\n",
    "import seaborn as sns\n",
    "\n",
    "import warnings\n",
    "warnings.filterwarnings(\"ignore\")"
   ]
  },
  {
   "cell_type": "code",
   "execution_count": 2,
   "metadata": {},
   "outputs": [],
   "source": [
    "# функция обзора основных данных файлов\n",
    "def overview(data):\n",
    "    print('\\033[1m'+'Первые 5 строк таблицы')\n",
    "    display(data.head(5).T)\n",
    "    print()\n",
    "    print('\\033[1m'+'Случайные 5 строк таблицы')\n",
    "    display(data.sample(5).T)\n",
    "    print()\n",
    "    print('\\033[1m'+ 'Общая информация:'+'\\033[0m')\n",
    "    print()\n",
    "    display(data.info())\n",
    "    print('\\033[1m'+'Доля пропусков в данных:'+'\\033[0m')\n",
    "    print()\n",
    "    display(round((data).isna().mean()*100,2))"
   ]
  },
  {
   "cell_type": "code",
   "execution_count": 3,
   "metadata": {},
   "outputs": [],
   "source": [
    "# функция для подсчета количества пропусков Balance в зависимости от столбца датасета, \n",
    "# сгруппированного по уникальным значениям.\n",
    "def balance_null(df,columns):\n",
    "    for i in columns:\n",
    "        print('Доля пропущенных значений в столбце', i)\n",
    "        df_temp =df.groupby(i)['balance', 'userid'].count().rename(columns={'balance': 'count_null', 'userid':'total'})\n",
    "        df_temp['balance_nul'] = (df_temp['total'] - df_temp['count_null']) /df_temp['total']\n",
    "        display(df_temp.style.format({'balance_nul':'{:.0%}'}))"
   ]
  },
  {
   "cell_type": "markdown",
   "metadata": {},
   "source": [
    "## Предобработка данных"
   ]
  },
  {
   "cell_type": "code",
   "execution_count": 4,
   "metadata": {},
   "outputs": [],
   "source": [
    "try:\n",
    "    df = pd.read_csv('bank_dataset.csv')\n",
    "except:\n",
    "    df = pd.read_csv('/datasets/bank_dataset.csv')"
   ]
  },
  {
   "cell_type": "code",
   "execution_count": 5,
   "metadata": {},
   "outputs": [
    {
     "name": "stdout",
     "output_type": "stream",
     "text": [
      "\u001b[1mПервые 5 строк таблицы\n"
     ]
    },
    {
     "data": {
      "text/html": [
       "<div>\n",
       "<style scoped>\n",
       "    .dataframe tbody tr th:only-of-type {\n",
       "        vertical-align: middle;\n",
       "    }\n",
       "\n",
       "    .dataframe tbody tr th {\n",
       "        vertical-align: top;\n",
       "    }\n",
       "\n",
       "    .dataframe thead th {\n",
       "        text-align: right;\n",
       "    }\n",
       "</style>\n",
       "<table border=\"1\" class=\"dataframe\">\n",
       "  <thead>\n",
       "    <tr style=\"text-align: right;\">\n",
       "      <th></th>\n",
       "      <th>0</th>\n",
       "      <th>1</th>\n",
       "      <th>2</th>\n",
       "      <th>3</th>\n",
       "      <th>4</th>\n",
       "    </tr>\n",
       "  </thead>\n",
       "  <tbody>\n",
       "    <tr>\n",
       "      <th>userid</th>\n",
       "      <td>15677338</td>\n",
       "      <td>15690047</td>\n",
       "      <td>15662040</td>\n",
       "      <td>15744090</td>\n",
       "      <td>15780624</td>\n",
       "    </tr>\n",
       "    <tr>\n",
       "      <th>score</th>\n",
       "      <td>619</td>\n",
       "      <td>608</td>\n",
       "      <td>502</td>\n",
       "      <td>699</td>\n",
       "      <td>850</td>\n",
       "    </tr>\n",
       "    <tr>\n",
       "      <th>City</th>\n",
       "      <td>Ярославль</td>\n",
       "      <td>Рыбинск</td>\n",
       "      <td>Ярославль</td>\n",
       "      <td>Ярославль</td>\n",
       "      <td>Рыбинск</td>\n",
       "    </tr>\n",
       "    <tr>\n",
       "      <th>Gender</th>\n",
       "      <td>Ж</td>\n",
       "      <td>Ж</td>\n",
       "      <td>Ж</td>\n",
       "      <td>Ж</td>\n",
       "      <td>Ж</td>\n",
       "    </tr>\n",
       "    <tr>\n",
       "      <th>Age</th>\n",
       "      <td>42</td>\n",
       "      <td>41</td>\n",
       "      <td>42</td>\n",
       "      <td>39</td>\n",
       "      <td>43</td>\n",
       "    </tr>\n",
       "    <tr>\n",
       "      <th>Objects</th>\n",
       "      <td>2</td>\n",
       "      <td>1</td>\n",
       "      <td>8</td>\n",
       "      <td>1</td>\n",
       "      <td>2</td>\n",
       "    </tr>\n",
       "    <tr>\n",
       "      <th>Balance</th>\n",
       "      <td>NaN</td>\n",
       "      <td>83,807.86</td>\n",
       "      <td>159,660.80</td>\n",
       "      <td>NaN</td>\n",
       "      <td>125,510.82</td>\n",
       "    </tr>\n",
       "    <tr>\n",
       "      <th>Products</th>\n",
       "      <td>1</td>\n",
       "      <td>1</td>\n",
       "      <td>3</td>\n",
       "      <td>2</td>\n",
       "      <td>1</td>\n",
       "    </tr>\n",
       "    <tr>\n",
       "      <th>CreditCard</th>\n",
       "      <td>1</td>\n",
       "      <td>0</td>\n",
       "      <td>1</td>\n",
       "      <td>0</td>\n",
       "      <td>1</td>\n",
       "    </tr>\n",
       "    <tr>\n",
       "      <th>Loyalty</th>\n",
       "      <td>1</td>\n",
       "      <td>1</td>\n",
       "      <td>0</td>\n",
       "      <td>0</td>\n",
       "      <td>1</td>\n",
       "    </tr>\n",
       "    <tr>\n",
       "      <th>estimated_salary</th>\n",
       "      <td>101,348.88</td>\n",
       "      <td>112,542.58</td>\n",
       "      <td>113,931.57</td>\n",
       "      <td>93,826.63</td>\n",
       "      <td>79,084.10</td>\n",
       "    </tr>\n",
       "    <tr>\n",
       "      <th>Churn</th>\n",
       "      <td>1</td>\n",
       "      <td>0</td>\n",
       "      <td>1</td>\n",
       "      <td>0</td>\n",
       "      <td>0</td>\n",
       "    </tr>\n",
       "  </tbody>\n",
       "</table>\n",
       "</div>"
      ],
      "text/plain": [
       "                          0          1          2          3          4\n",
       "userid             15677338   15690047   15662040   15744090   15780624\n",
       "score                   619        608        502        699        850\n",
       "City              Ярославль    Рыбинск  Ярославль  Ярославль    Рыбинск\n",
       "Gender                    Ж          Ж          Ж          Ж          Ж\n",
       "Age                      42         41         42         39         43\n",
       "Objects                   2          1          8          1          2\n",
       "Balance                 NaN  83,807.86 159,660.80        NaN 125,510.82\n",
       "Products                  1          1          3          2          1\n",
       "CreditCard                1          0          1          0          1\n",
       "Loyalty                   1          1          0          0          1\n",
       "estimated_salary 101,348.88 112,542.58 113,931.57  93,826.63  79,084.10\n",
       "Churn                     1          0          1          0          0"
      ]
     },
     "metadata": {},
     "output_type": "display_data"
    },
    {
     "name": "stdout",
     "output_type": "stream",
     "text": [
      "\n",
      "\u001b[1mСлучайные 5 строк таблицы\n"
     ]
    },
    {
     "data": {
      "text/html": [
       "<div>\n",
       "<style scoped>\n",
       "    .dataframe tbody tr th:only-of-type {\n",
       "        vertical-align: middle;\n",
       "    }\n",
       "\n",
       "    .dataframe tbody tr th {\n",
       "        vertical-align: top;\n",
       "    }\n",
       "\n",
       "    .dataframe thead th {\n",
       "        text-align: right;\n",
       "    }\n",
       "</style>\n",
       "<table border=\"1\" class=\"dataframe\">\n",
       "  <thead>\n",
       "    <tr style=\"text-align: right;\">\n",
       "      <th></th>\n",
       "      <th>5287</th>\n",
       "      <th>3124</th>\n",
       "      <th>3817</th>\n",
       "      <th>2009</th>\n",
       "      <th>6131</th>\n",
       "    </tr>\n",
       "  </thead>\n",
       "  <tbody>\n",
       "    <tr>\n",
       "      <th>userid</th>\n",
       "      <td>15845814</td>\n",
       "      <td>15837960</td>\n",
       "      <td>15766987</td>\n",
       "      <td>15775653</td>\n",
       "      <td>15792137</td>\n",
       "    </tr>\n",
       "    <tr>\n",
       "      <th>score</th>\n",
       "      <td>635</td>\n",
       "      <td>760</td>\n",
       "      <td>682</td>\n",
       "      <td>729</td>\n",
       "      <td>686</td>\n",
       "    </tr>\n",
       "    <tr>\n",
       "      <th>City</th>\n",
       "      <td>Рыбинск</td>\n",
       "      <td>Ярославль</td>\n",
       "      <td>Ростов Великий</td>\n",
       "      <td>Ростов Великий</td>\n",
       "      <td>Ярославль</td>\n",
       "    </tr>\n",
       "    <tr>\n",
       "      <th>Gender</th>\n",
       "      <td>Ж</td>\n",
       "      <td>М</td>\n",
       "      <td>Ж</td>\n",
       "      <td>М</td>\n",
       "      <td>М</td>\n",
       "    </tr>\n",
       "    <tr>\n",
       "      <th>Age</th>\n",
       "      <td>38</td>\n",
       "      <td>39</td>\n",
       "      <td>29</td>\n",
       "      <td>46</td>\n",
       "      <td>60</td>\n",
       "    </tr>\n",
       "    <tr>\n",
       "      <th>Objects</th>\n",
       "      <td>1</td>\n",
       "      <td>6</td>\n",
       "      <td>6</td>\n",
       "      <td>5</td>\n",
       "      <td>9</td>\n",
       "    </tr>\n",
       "    <tr>\n",
       "      <th>Balance</th>\n",
       "      <td>NaN</td>\n",
       "      <td>178,585.46</td>\n",
       "      <td>101,012.77</td>\n",
       "      <td>117,837.43</td>\n",
       "      <td>NaN</td>\n",
       "    </tr>\n",
       "    <tr>\n",
       "      <th>Products</th>\n",
       "      <td>2</td>\n",
       "      <td>1</td>\n",
       "      <td>1</td>\n",
       "      <td>1</td>\n",
       "      <td>3</td>\n",
       "    </tr>\n",
       "    <tr>\n",
       "      <th>CreditCard</th>\n",
       "      <td>1</td>\n",
       "      <td>1</td>\n",
       "      <td>0</td>\n",
       "      <td>1</td>\n",
       "      <td>1</td>\n",
       "    </tr>\n",
       "    <tr>\n",
       "      <th>Loyalty</th>\n",
       "      <td>0</td>\n",
       "      <td>0</td>\n",
       "      <td>0</td>\n",
       "      <td>0</td>\n",
       "      <td>1</td>\n",
       "    </tr>\n",
       "    <tr>\n",
       "      <th>estimated_salary</th>\n",
       "      <td>90,605.05</td>\n",
       "      <td>67,131.30</td>\n",
       "      <td>32,589.89</td>\n",
       "      <td>104,016.61</td>\n",
       "      <td>75,246.21</td>\n",
       "    </tr>\n",
       "    <tr>\n",
       "      <th>Churn</th>\n",
       "      <td>0</td>\n",
       "      <td>1</td>\n",
       "      <td>1</td>\n",
       "      <td>1</td>\n",
       "      <td>1</td>\n",
       "    </tr>\n",
       "  </tbody>\n",
       "</table>\n",
       "</div>"
      ],
      "text/plain": [
       "                      5287       3124            3817            2009  \\\n",
       "userid            15845814   15837960        15766987        15775653   \n",
       "score                  635        760             682             729   \n",
       "City               Рыбинск  Ярославль  Ростов Великий  Ростов Великий   \n",
       "Gender                   Ж          М               Ж               М   \n",
       "Age                     38         39              29              46   \n",
       "Objects                  1          6               6               5   \n",
       "Balance                NaN 178,585.46      101,012.77      117,837.43   \n",
       "Products                 2          1               1               1   \n",
       "CreditCard               1          1               0               1   \n",
       "Loyalty                  0          0               0               0   \n",
       "estimated_salary 90,605.05  67,131.30       32,589.89      104,016.61   \n",
       "Churn                    0          1               1               1   \n",
       "\n",
       "                       6131  \n",
       "userid             15792137  \n",
       "score                   686  \n",
       "City              Ярославль  \n",
       "Gender                    М  \n",
       "Age                      60  \n",
       "Objects                   9  \n",
       "Balance                 NaN  \n",
       "Products                  3  \n",
       "CreditCard                1  \n",
       "Loyalty                   1  \n",
       "estimated_salary  75,246.21  \n",
       "Churn                     1  "
      ]
     },
     "metadata": {},
     "output_type": "display_data"
    },
    {
     "name": "stdout",
     "output_type": "stream",
     "text": [
      "\n",
      "\u001b[1mОбщая информация:\u001b[0m\n",
      "\n",
      "<class 'pandas.core.frame.DataFrame'>\n",
      "RangeIndex: 10000 entries, 0 to 9999\n",
      "Data columns (total 12 columns):\n",
      " #   Column            Non-Null Count  Dtype  \n",
      "---  ------            --------------  -----  \n",
      " 0   userid            10000 non-null  int64  \n",
      " 1   score             10000 non-null  int64  \n",
      " 2   City              10000 non-null  object \n",
      " 3   Gender            10000 non-null  object \n",
      " 4   Age               10000 non-null  int64  \n",
      " 5   Objects           10000 non-null  int64  \n",
      " 6   Balance           6383 non-null   float64\n",
      " 7   Products          10000 non-null  int64  \n",
      " 8   CreditCard        10000 non-null  int64  \n",
      " 9   Loyalty           10000 non-null  int64  \n",
      " 10  estimated_salary  10000 non-null  float64\n",
      " 11  Churn             10000 non-null  int64  \n",
      "dtypes: float64(2), int64(8), object(2)\n",
      "memory usage: 937.6+ KB\n"
     ]
    },
    {
     "data": {
      "text/plain": [
       "None"
      ]
     },
     "metadata": {},
     "output_type": "display_data"
    },
    {
     "name": "stdout",
     "output_type": "stream",
     "text": [
      "\u001b[1mДоля пропусков в данных:\u001b[0m\n",
      "\n"
     ]
    },
    {
     "data": {
      "text/plain": [
       "userid              0.00\n",
       "score               0.00\n",
       "City                0.00\n",
       "Gender              0.00\n",
       "Age                 0.00\n",
       "Objects             0.00\n",
       "Balance            36.17\n",
       "Products            0.00\n",
       "CreditCard          0.00\n",
       "Loyalty             0.00\n",
       "estimated_salary    0.00\n",
       "Churn               0.00\n",
       "dtype: float64"
      ]
     },
     "metadata": {},
     "output_type": "display_data"
    }
   ],
   "source": [
    "overview(df)"
   ]
  },
  {
   "cell_type": "code",
   "execution_count": 6,
   "metadata": {},
   "outputs": [],
   "source": [
    "df.columns = df.columns.str.lower()"
   ]
  },
  {
   "cell_type": "code",
   "execution_count": 7,
   "metadata": {},
   "outputs": [
    {
     "data": {
      "text/html": [
       "<div>\n",
       "<style scoped>\n",
       "    .dataframe tbody tr th:only-of-type {\n",
       "        vertical-align: middle;\n",
       "    }\n",
       "\n",
       "    .dataframe tbody tr th {\n",
       "        vertical-align: top;\n",
       "    }\n",
       "\n",
       "    .dataframe thead th {\n",
       "        text-align: right;\n",
       "    }\n",
       "</style>\n",
       "<table border=\"1\" class=\"dataframe\">\n",
       "  <thead>\n",
       "    <tr style=\"text-align: right;\">\n",
       "      <th></th>\n",
       "      <th>userid</th>\n",
       "      <th>score</th>\n",
       "      <th>city</th>\n",
       "      <th>gender</th>\n",
       "      <th>age</th>\n",
       "      <th>objects</th>\n",
       "      <th>balance</th>\n",
       "      <th>products</th>\n",
       "      <th>creditcard</th>\n",
       "      <th>loyalty</th>\n",
       "      <th>estimated_salary</th>\n",
       "      <th>churn</th>\n",
       "    </tr>\n",
       "  </thead>\n",
       "  <tbody>\n",
       "  </tbody>\n",
       "</table>\n",
       "</div>"
      ],
      "text/plain": [
       "Empty DataFrame\n",
       "Columns: [userid, score, city, gender, age, objects, balance, products, creditcard, loyalty, estimated_salary, churn]\n",
       "Index: []"
      ]
     },
     "metadata": {},
     "output_type": "display_data"
    }
   ],
   "source": [
    "display(df[df.duplicated()])"
   ]
  },
  {
   "cell_type": "markdown",
   "metadata": {},
   "source": [
    "Явных дубликатов не выявлено."
   ]
  },
  {
   "cell_type": "markdown",
   "metadata": {},
   "source": [
    "**Проанализируем причины возникновения пропусков в столбце `balance` и примем решение о заполнении пропусков**"
   ]
  },
  {
   "cell_type": "code",
   "execution_count": 8,
   "metadata": {},
   "outputs": [
    {
     "data": {
      "text/html": [
       "<style  type=\"text/css\" >\n",
       "#T_9c2b4_row0_col0,#T_9c2b4_row0_col1,#T_9c2b4_row0_col2,#T_9c2b4_row0_col3,#T_9c2b4_row0_col4,#T_9c2b4_row0_col5,#T_9c2b4_row0_col6,#T_9c2b4_row0_col7,#T_9c2b4_row0_col8,#T_9c2b4_row0_col9{\n",
       "            background-color:  #f7fbff;\n",
       "            color:  #000000;\n",
       "        }</style><table id=\"T_9c2b4_\" ><thead>    <tr>        <th class=\"blank level0\" ></th>        <th class=\"col_heading level0 col0\" >userid</th>        <th class=\"col_heading level0 col1\" >score</th>        <th class=\"col_heading level0 col2\" >age</th>        <th class=\"col_heading level0 col3\" >objects</th>        <th class=\"col_heading level0 col4\" >balance</th>        <th class=\"col_heading level0 col5\" >products</th>        <th class=\"col_heading level0 col6\" >creditcard</th>        <th class=\"col_heading level0 col7\" >loyalty</th>        <th class=\"col_heading level0 col8\" >estimated_salary</th>        <th class=\"col_heading level0 col9\" >churn</th>    </tr></thead><tbody>\n",
       "                <tr>\n",
       "                        <th id=\"T_9c2b4_level0_row0\" class=\"row_heading level0 row0\" >0</th>\n",
       "                        <td id=\"T_9c2b4_row0_col0\" class=\"data row0 col0\" >-1%</td>\n",
       "                        <td id=\"T_9c2b4_row0_col1\" class=\"data row0 col1\" >-0%</td>\n",
       "                        <td id=\"T_9c2b4_row0_col2\" class=\"data row0 col2\" >-1%</td>\n",
       "                        <td id=\"T_9c2b4_row0_col3\" class=\"data row0 col3\" >1%</td>\n",
       "                        <td id=\"T_9c2b4_row0_col4\" class=\"data row0 col4\" >100%</td>\n",
       "                        <td id=\"T_9c2b4_row0_col5\" class=\"data row0 col5\" >-0%</td>\n",
       "                        <td id=\"T_9c2b4_row0_col6\" class=\"data row0 col6\" >1%</td>\n",
       "                        <td id=\"T_9c2b4_row0_col7\" class=\"data row0 col7\" >-2%</td>\n",
       "                        <td id=\"T_9c2b4_row0_col8\" class=\"data row0 col8\" >-0%</td>\n",
       "                        <td id=\"T_9c2b4_row0_col9\" class=\"data row0 col9\" >2%</td>\n",
       "            </tr>\n",
       "    </tbody></table>"
      ],
      "text/plain": [
       "<pandas.io.formats.style.Styler at 0x1930a1ced90>"
      ]
     },
     "execution_count": 8,
     "metadata": {},
     "output_type": "execute_result"
    }
   ],
   "source": [
    "df.corrwith(df['balance'], axis=0, method='pearson')\\\n",
    "    .to_frame().T.style.format('{:.0%}').background_gradient(cmap='Blues')"
   ]
  },
  {
   "cell_type": "markdown",
   "metadata": {},
   "source": [
    "Выраженной линейной зависимости баланса и других признаков не выявлено.\n",
    "\n",
    "Посмотрим количество пропущенных значений в столбце `balance` в разбивке по признакам, которые имеют небольшое количество уникальных значений, чтобы можно увидеть какие-либо закономерности. В столбцах с очень большим количеством уникальных значений выборка будет не репрезентативна, так как на каждое уникальное значение будет приходится немного пользователей, и сложно будет корректно установить взаимосвязь."
   ]
  },
  {
   "cell_type": "code",
   "execution_count": 9,
   "metadata": {},
   "outputs": [
    {
     "name": "stdout",
     "output_type": "stream",
     "text": [
      "Доля пропущенных значений в столбце city\n"
     ]
    },
    {
     "data": {
      "text/html": [
       "<style  type=\"text/css\" >\n",
       "</style><table id=\"T_caaf5_\" ><thead>    <tr>        <th class=\"blank level0\" ></th>        <th class=\"col_heading level0 col0\" >count_null</th>        <th class=\"col_heading level0 col1\" >total</th>        <th class=\"col_heading level0 col2\" >balance_nul</th>    </tr>    <tr>        <th class=\"index_name level0\" >city</th>        <th class=\"blank\" ></th>        <th class=\"blank\" ></th>        <th class=\"blank\" ></th>    </tr></thead><tbody>\n",
       "                <tr>\n",
       "                        <th id=\"T_caaf5_level0_row0\" class=\"row_heading level0 row0\" >Ростов Великий</th>\n",
       "                        <td id=\"T_caaf5_row0_col0\" class=\"data row0 col0\" >2509</td>\n",
       "                        <td id=\"T_caaf5_row0_col1\" class=\"data row0 col1\" >2509</td>\n",
       "                        <td id=\"T_caaf5_row0_col2\" class=\"data row0 col2\" >0%</td>\n",
       "            </tr>\n",
       "            <tr>\n",
       "                        <th id=\"T_caaf5_level0_row1\" class=\"row_heading level0 row1\" >Рыбинск</th>\n",
       "                        <td id=\"T_caaf5_row1_col0\" class=\"data row1 col0\" >1278</td>\n",
       "                        <td id=\"T_caaf5_row1_col1\" class=\"data row1 col1\" >2477</td>\n",
       "                        <td id=\"T_caaf5_row1_col2\" class=\"data row1 col2\" >48%</td>\n",
       "            </tr>\n",
       "            <tr>\n",
       "                        <th id=\"T_caaf5_level0_row2\" class=\"row_heading level0 row2\" >Ярославль</th>\n",
       "                        <td id=\"T_caaf5_row2_col0\" class=\"data row2 col0\" >2596</td>\n",
       "                        <td id=\"T_caaf5_row2_col1\" class=\"data row2 col1\" >5014</td>\n",
       "                        <td id=\"T_caaf5_row2_col2\" class=\"data row2 col2\" >48%</td>\n",
       "            </tr>\n",
       "    </tbody></table>"
      ],
      "text/plain": [
       "<pandas.io.formats.style.Styler at 0x1930a1ec1c0>"
      ]
     },
     "metadata": {},
     "output_type": "display_data"
    },
    {
     "name": "stdout",
     "output_type": "stream",
     "text": [
      "Доля пропущенных значений в столбце gender\n"
     ]
    },
    {
     "data": {
      "text/html": [
       "<style  type=\"text/css\" >\n",
       "</style><table id=\"T_e331a_\" ><thead>    <tr>        <th class=\"blank level0\" ></th>        <th class=\"col_heading level0 col0\" >count_null</th>        <th class=\"col_heading level0 col1\" >total</th>        <th class=\"col_heading level0 col2\" >balance_nul</th>    </tr>    <tr>        <th class=\"index_name level0\" >gender</th>        <th class=\"blank\" ></th>        <th class=\"blank\" ></th>        <th class=\"blank\" ></th>    </tr></thead><tbody>\n",
       "                <tr>\n",
       "                        <th id=\"T_e331a_level0_row0\" class=\"row_heading level0 row0\" >Ж</th>\n",
       "                        <td id=\"T_e331a_row0_col0\" class=\"data row0 col0\" >2889</td>\n",
       "                        <td id=\"T_e331a_row0_col1\" class=\"data row0 col1\" >4543</td>\n",
       "                        <td id=\"T_e331a_row0_col2\" class=\"data row0 col2\" >36%</td>\n",
       "            </tr>\n",
       "            <tr>\n",
       "                        <th id=\"T_e331a_level0_row1\" class=\"row_heading level0 row1\" >М</th>\n",
       "                        <td id=\"T_e331a_row1_col0\" class=\"data row1 col0\" >3494</td>\n",
       "                        <td id=\"T_e331a_row1_col1\" class=\"data row1 col1\" >5457</td>\n",
       "                        <td id=\"T_e331a_row1_col2\" class=\"data row1 col2\" >36%</td>\n",
       "            </tr>\n",
       "    </tbody></table>"
      ],
      "text/plain": [
       "<pandas.io.formats.style.Styler at 0x1930c31c7f0>"
      ]
     },
     "metadata": {},
     "output_type": "display_data"
    },
    {
     "name": "stdout",
     "output_type": "stream",
     "text": [
      "Доля пропущенных значений в столбце objects\n"
     ]
    },
    {
     "data": {
      "text/html": [
       "<style  type=\"text/css\" >\n",
       "</style><table id=\"T_aa16b_\" ><thead>    <tr>        <th class=\"blank level0\" ></th>        <th class=\"col_heading level0 col0\" >count_null</th>        <th class=\"col_heading level0 col1\" >total</th>        <th class=\"col_heading level0 col2\" >balance_nul</th>    </tr>    <tr>        <th class=\"index_name level0\" >objects</th>        <th class=\"blank\" ></th>        <th class=\"blank\" ></th>        <th class=\"blank\" ></th>    </tr></thead><tbody>\n",
       "                <tr>\n",
       "                        <th id=\"T_aa16b_level0_row0\" class=\"row_heading level0 row0\" >0</th>\n",
       "                        <td id=\"T_aa16b_row0_col0\" class=\"data row0 col0\" >276</td>\n",
       "                        <td id=\"T_aa16b_row0_col1\" class=\"data row0 col1\" >413</td>\n",
       "                        <td id=\"T_aa16b_row0_col2\" class=\"data row0 col2\" >33%</td>\n",
       "            </tr>\n",
       "            <tr>\n",
       "                        <th id=\"T_aa16b_level0_row1\" class=\"row_heading level0 row1\" >1</th>\n",
       "                        <td id=\"T_aa16b_row1_col0\" class=\"data row1 col0\" >686</td>\n",
       "                        <td id=\"T_aa16b_row1_col1\" class=\"data row1 col1\" >1035</td>\n",
       "                        <td id=\"T_aa16b_row1_col2\" class=\"data row1 col2\" >34%</td>\n",
       "            </tr>\n",
       "            <tr>\n",
       "                        <th id=\"T_aa16b_level0_row2\" class=\"row_heading level0 row2\" >2</th>\n",
       "                        <td id=\"T_aa16b_row2_col0\" class=\"data row2 col0\" >666</td>\n",
       "                        <td id=\"T_aa16b_row2_col1\" class=\"data row2 col1\" >1048</td>\n",
       "                        <td id=\"T_aa16b_row2_col2\" class=\"data row2 col2\" >36%</td>\n",
       "            </tr>\n",
       "            <tr>\n",
       "                        <th id=\"T_aa16b_level0_row3\" class=\"row_heading level0 row3\" >3</th>\n",
       "                        <td id=\"T_aa16b_row3_col0\" class=\"data row3 col0\" >657</td>\n",
       "                        <td id=\"T_aa16b_row3_col1\" class=\"data row3 col1\" >1009</td>\n",
       "                        <td id=\"T_aa16b_row3_col2\" class=\"data row3 col2\" >35%</td>\n",
       "            </tr>\n",
       "            <tr>\n",
       "                        <th id=\"T_aa16b_level0_row4\" class=\"row_heading level0 row4\" >4</th>\n",
       "                        <td id=\"T_aa16b_row4_col0\" class=\"data row4 col0\" >620</td>\n",
       "                        <td id=\"T_aa16b_row4_col1\" class=\"data row4 col1\" >989</td>\n",
       "                        <td id=\"T_aa16b_row4_col2\" class=\"data row4 col2\" >37%</td>\n",
       "            </tr>\n",
       "            <tr>\n",
       "                        <th id=\"T_aa16b_level0_row5\" class=\"row_heading level0 row5\" >5</th>\n",
       "                        <td id=\"T_aa16b_row5_col0\" class=\"data row5 col0\" >638</td>\n",
       "                        <td id=\"T_aa16b_row5_col1\" class=\"data row5 col1\" >1012</td>\n",
       "                        <td id=\"T_aa16b_row5_col2\" class=\"data row5 col2\" >37%</td>\n",
       "            </tr>\n",
       "            <tr>\n",
       "                        <th id=\"T_aa16b_level0_row6\" class=\"row_heading level0 row6\" >6</th>\n",
       "                        <td id=\"T_aa16b_row6_col0\" class=\"data row6 col0\" >600</td>\n",
       "                        <td id=\"T_aa16b_row6_col1\" class=\"data row6 col1\" >967</td>\n",
       "                        <td id=\"T_aa16b_row6_col2\" class=\"data row6 col2\" >38%</td>\n",
       "            </tr>\n",
       "            <tr>\n",
       "                        <th id=\"T_aa16b_level0_row7\" class=\"row_heading level0 row7\" >7</th>\n",
       "                        <td id=\"T_aa16b_row7_col0\" class=\"data row7 col0\" >642</td>\n",
       "                        <td id=\"T_aa16b_row7_col1\" class=\"data row7 col1\" >1028</td>\n",
       "                        <td id=\"T_aa16b_row7_col2\" class=\"data row7 col2\" >38%</td>\n",
       "            </tr>\n",
       "            <tr>\n",
       "                        <th id=\"T_aa16b_level0_row8\" class=\"row_heading level0 row8\" >8</th>\n",
       "                        <td id=\"T_aa16b_row8_col0\" class=\"data row8 col0\" >662</td>\n",
       "                        <td id=\"T_aa16b_row8_col1\" class=\"data row8 col1\" >1025</td>\n",
       "                        <td id=\"T_aa16b_row8_col2\" class=\"data row8 col2\" >35%</td>\n",
       "            </tr>\n",
       "            <tr>\n",
       "                        <th id=\"T_aa16b_level0_row9\" class=\"row_heading level0 row9\" >9</th>\n",
       "                        <td id=\"T_aa16b_row9_col0\" class=\"data row9 col0\" >624</td>\n",
       "                        <td id=\"T_aa16b_row9_col1\" class=\"data row9 col1\" >984</td>\n",
       "                        <td id=\"T_aa16b_row9_col2\" class=\"data row9 col2\" >37%</td>\n",
       "            </tr>\n",
       "            <tr>\n",
       "                        <th id=\"T_aa16b_level0_row10\" class=\"row_heading level0 row10\" >10</th>\n",
       "                        <td id=\"T_aa16b_row10_col0\" class=\"data row10 col0\" >312</td>\n",
       "                        <td id=\"T_aa16b_row10_col1\" class=\"data row10 col1\" >490</td>\n",
       "                        <td id=\"T_aa16b_row10_col2\" class=\"data row10 col2\" >36%</td>\n",
       "            </tr>\n",
       "    </tbody></table>"
      ],
      "text/plain": [
       "<pandas.io.formats.style.Styler at 0x1930c31cd60>"
      ]
     },
     "metadata": {},
     "output_type": "display_data"
    },
    {
     "name": "stdout",
     "output_type": "stream",
     "text": [
      "Доля пропущенных значений в столбце products\n"
     ]
    },
    {
     "data": {
      "text/html": [
       "<style  type=\"text/css\" >\n",
       "</style><table id=\"T_d36bd_\" ><thead>    <tr>        <th class=\"blank level0\" ></th>        <th class=\"col_heading level0 col0\" >count_null</th>        <th class=\"col_heading level0 col1\" >total</th>        <th class=\"col_heading level0 col2\" >balance_nul</th>    </tr>    <tr>        <th class=\"index_name level0\" >products</th>        <th class=\"blank\" ></th>        <th class=\"blank\" ></th>        <th class=\"blank\" ></th>    </tr></thead><tbody>\n",
       "                <tr>\n",
       "                        <th id=\"T_d36bd_level0_row0\" class=\"row_heading level0 row0\" >1</th>\n",
       "                        <td id=\"T_d36bd_row0_col0\" class=\"data row0 col0\" >4179</td>\n",
       "                        <td id=\"T_d36bd_row0_col1\" class=\"data row0 col1\" >5084</td>\n",
       "                        <td id=\"T_d36bd_row0_col2\" class=\"data row0 col2\" >18%</td>\n",
       "            </tr>\n",
       "            <tr>\n",
       "                        <th id=\"T_d36bd_level0_row1\" class=\"row_heading level0 row1\" >2</th>\n",
       "                        <td id=\"T_d36bd_row1_col0\" class=\"data row1 col0\" >1990</td>\n",
       "                        <td id=\"T_d36bd_row1_col1\" class=\"data row1 col1\" >4590</td>\n",
       "                        <td id=\"T_d36bd_row1_col2\" class=\"data row1 col2\" >57%</td>\n",
       "            </tr>\n",
       "            <tr>\n",
       "                        <th id=\"T_d36bd_level0_row2\" class=\"row_heading level0 row2\" >3</th>\n",
       "                        <td id=\"T_d36bd_row2_col0\" class=\"data row2 col0\" >168</td>\n",
       "                        <td id=\"T_d36bd_row2_col1\" class=\"data row2 col1\" >266</td>\n",
       "                        <td id=\"T_d36bd_row2_col2\" class=\"data row2 col2\" >37%</td>\n",
       "            </tr>\n",
       "            <tr>\n",
       "                        <th id=\"T_d36bd_level0_row3\" class=\"row_heading level0 row3\" >4</th>\n",
       "                        <td id=\"T_d36bd_row3_col0\" class=\"data row3 col0\" >46</td>\n",
       "                        <td id=\"T_d36bd_row3_col1\" class=\"data row3 col1\" >60</td>\n",
       "                        <td id=\"T_d36bd_row3_col2\" class=\"data row3 col2\" >23%</td>\n",
       "            </tr>\n",
       "    </tbody></table>"
      ],
      "text/plain": [
       "<pandas.io.formats.style.Styler at 0x1937f335dc0>"
      ]
     },
     "metadata": {},
     "output_type": "display_data"
    },
    {
     "name": "stdout",
     "output_type": "stream",
     "text": [
      "Доля пропущенных значений в столбце creditcard\n"
     ]
    },
    {
     "data": {
      "text/html": [
       "<style  type=\"text/css\" >\n",
       "</style><table id=\"T_4d945_\" ><thead>    <tr>        <th class=\"blank level0\" ></th>        <th class=\"col_heading level0 col0\" >count_null</th>        <th class=\"col_heading level0 col1\" >total</th>        <th class=\"col_heading level0 col2\" >balance_nul</th>    </tr>    <tr>        <th class=\"index_name level0\" >creditcard</th>        <th class=\"blank\" ></th>        <th class=\"blank\" ></th>        <th class=\"blank\" ></th>    </tr></thead><tbody>\n",
       "                <tr>\n",
       "                        <th id=\"T_4d945_level0_row0\" class=\"row_heading level0 row0\" >0</th>\n",
       "                        <td id=\"T_4d945_row0_col0\" class=\"data row0 col0\" >1920</td>\n",
       "                        <td id=\"T_4d945_row0_col1\" class=\"data row0 col1\" >2945</td>\n",
       "                        <td id=\"T_4d945_row0_col2\" class=\"data row0 col2\" >35%</td>\n",
       "            </tr>\n",
       "            <tr>\n",
       "                        <th id=\"T_4d945_level0_row1\" class=\"row_heading level0 row1\" >1</th>\n",
       "                        <td id=\"T_4d945_row1_col0\" class=\"data row1 col0\" >4463</td>\n",
       "                        <td id=\"T_4d945_row1_col1\" class=\"data row1 col1\" >7055</td>\n",
       "                        <td id=\"T_4d945_row1_col2\" class=\"data row1 col2\" >37%</td>\n",
       "            </tr>\n",
       "    </tbody></table>"
      ],
      "text/plain": [
       "<pandas.io.formats.style.Styler at 0x1930c31c5e0>"
      ]
     },
     "metadata": {},
     "output_type": "display_data"
    },
    {
     "name": "stdout",
     "output_type": "stream",
     "text": [
      "Доля пропущенных значений в столбце loyalty\n"
     ]
    },
    {
     "data": {
      "text/html": [
       "<style  type=\"text/css\" >\n",
       "</style><table id=\"T_7e9b0_\" ><thead>    <tr>        <th class=\"blank level0\" ></th>        <th class=\"col_heading level0 col0\" >count_null</th>        <th class=\"col_heading level0 col1\" >total</th>        <th class=\"col_heading level0 col2\" >balance_nul</th>    </tr>    <tr>        <th class=\"index_name level0\" >loyalty</th>        <th class=\"blank\" ></th>        <th class=\"blank\" ></th>        <th class=\"blank\" ></th>    </tr></thead><tbody>\n",
       "                <tr>\n",
       "                        <th id=\"T_7e9b0_level0_row0\" class=\"row_heading level0 row0\" >0</th>\n",
       "                        <td id=\"T_7e9b0_row0_col0\" class=\"data row0 col0\" >3105</td>\n",
       "                        <td id=\"T_7e9b0_row0_col1\" class=\"data row0 col1\" >4849</td>\n",
       "                        <td id=\"T_7e9b0_row0_col2\" class=\"data row0 col2\" >36%</td>\n",
       "            </tr>\n",
       "            <tr>\n",
       "                        <th id=\"T_7e9b0_level0_row1\" class=\"row_heading level0 row1\" >1</th>\n",
       "                        <td id=\"T_7e9b0_row1_col0\" class=\"data row1 col0\" >3278</td>\n",
       "                        <td id=\"T_7e9b0_row1_col1\" class=\"data row1 col1\" >5151</td>\n",
       "                        <td id=\"T_7e9b0_row1_col2\" class=\"data row1 col2\" >36%</td>\n",
       "            </tr>\n",
       "    </tbody></table>"
      ],
      "text/plain": [
       "<pandas.io.formats.style.Styler at 0x1930c31cb20>"
      ]
     },
     "metadata": {},
     "output_type": "display_data"
    },
    {
     "name": "stdout",
     "output_type": "stream",
     "text": [
      "Доля пропущенных значений в столбце churn\n"
     ]
    },
    {
     "data": {
      "text/html": [
       "<style  type=\"text/css\" >\n",
       "</style><table id=\"T_7d885_\" ><thead>    <tr>        <th class=\"blank level0\" ></th>        <th class=\"col_heading level0 col0\" >count_null</th>        <th class=\"col_heading level0 col1\" >total</th>        <th class=\"col_heading level0 col2\" >balance_nul</th>    </tr>    <tr>        <th class=\"index_name level0\" >churn</th>        <th class=\"blank\" ></th>        <th class=\"blank\" ></th>        <th class=\"blank\" ></th>    </tr></thead><tbody>\n",
       "                <tr>\n",
       "                        <th id=\"T_7d885_level0_row0\" class=\"row_heading level0 row0\" >0</th>\n",
       "                        <td id=\"T_7d885_row0_col0\" class=\"data row0 col0\" >4846</td>\n",
       "                        <td id=\"T_7d885_row0_col1\" class=\"data row0 col1\" >7963</td>\n",
       "                        <td id=\"T_7d885_row0_col2\" class=\"data row0 col2\" >39%</td>\n",
       "            </tr>\n",
       "            <tr>\n",
       "                        <th id=\"T_7d885_level0_row1\" class=\"row_heading level0 row1\" >1</th>\n",
       "                        <td id=\"T_7d885_row1_col0\" class=\"data row1 col0\" >1537</td>\n",
       "                        <td id=\"T_7d885_row1_col1\" class=\"data row1 col1\" >2037</td>\n",
       "                        <td id=\"T_7d885_row1_col2\" class=\"data row1 col2\" >25%</td>\n",
       "            </tr>\n",
       "    </tbody></table>"
      ],
      "text/plain": [
       "<pandas.io.formats.style.Styler at 0x1930c31c160>"
      ]
     },
     "metadata": {},
     "output_type": "display_data"
    }
   ],
   "source": [
    "# столбцы с небольшим количеством уникальных значений\n",
    "col = ['city', 'gender', 'objects',\n",
    "       'products', 'creditcard', 'loyalty', 'churn']\n",
    "balance_null(df,col)"
   ]
  },
  {
   "cell_type": "markdown",
   "metadata": {},
   "source": [
    "**Пропуски в данных столбца `Balance` могут быть связаны:**\n",
    "1. С проблемами/ ошибками выгрузки/ввода данных в системе г.Ярославль и г. Рыбинск. Доля пропусков в данных 48%. Такой проблемы нет в данных г. Ростов Великий. Возможно, проблема связана с техническим сбоем, и нужно передать информацию бэк-офису о выявленной проблеме выгрузки данных. \n",
    "2. Также, возможно, с технической стороной вопроса ввода данных клиентов с 2-3 продуктами. У клиентов с 2 продуктами доля пропусков составляет 57%.\n",
    "\n",
    "Таким образом, не вижу целесообразности заполнять пропуски в данных столбца `Balance`, так как нет четкой взаимосвязи с другими столбцами, а заполнение средним или медианой приведет к большому количеству выбросов и, следовательно, к некорректным выводам."
   ]
  },
  {
   "cell_type": "code",
   "execution_count": 10,
   "metadata": {},
   "outputs": [
    {
     "data": {
      "text/html": [
       "<div>\n",
       "<style scoped>\n",
       "    .dataframe tbody tr th:only-of-type {\n",
       "        vertical-align: middle;\n",
       "    }\n",
       "\n",
       "    .dataframe tbody tr th {\n",
       "        vertical-align: top;\n",
       "    }\n",
       "\n",
       "    .dataframe thead th {\n",
       "        text-align: right;\n",
       "    }\n",
       "</style>\n",
       "<table border=\"1\" class=\"dataframe\">\n",
       "  <thead>\n",
       "    <tr style=\"text-align: right;\">\n",
       "      <th></th>\n",
       "      <th>churn</th>\n",
       "      <th>age</th>\n",
       "      <th>gender_bool</th>\n",
       "      <th>objects</th>\n",
       "      <th>products</th>\n",
       "      <th>creditcard</th>\n",
       "      <th>loyalty</th>\n",
       "      <th>score</th>\n",
       "      <th>estimated_salary</th>\n",
       "      <th>balance</th>\n",
       "      <th>city_RV</th>\n",
       "      <th>city_R</th>\n",
       "      <th>city_Y</th>\n",
       "    </tr>\n",
       "  </thead>\n",
       "  <tbody>\n",
       "    <tr>\n",
       "      <th>0</th>\n",
       "      <td>1</td>\n",
       "      <td>42</td>\n",
       "      <td>0</td>\n",
       "      <td>2</td>\n",
       "      <td>1</td>\n",
       "      <td>1</td>\n",
       "      <td>1</td>\n",
       "      <td>619</td>\n",
       "      <td>101,348.88</td>\n",
       "      <td>NaN</td>\n",
       "      <td>0</td>\n",
       "      <td>0</td>\n",
       "      <td>1</td>\n",
       "    </tr>\n",
       "    <tr>\n",
       "      <th>1</th>\n",
       "      <td>0</td>\n",
       "      <td>41</td>\n",
       "      <td>0</td>\n",
       "      <td>1</td>\n",
       "      <td>1</td>\n",
       "      <td>0</td>\n",
       "      <td>1</td>\n",
       "      <td>608</td>\n",
       "      <td>112,542.58</td>\n",
       "      <td>83,807.86</td>\n",
       "      <td>0</td>\n",
       "      <td>1</td>\n",
       "      <td>0</td>\n",
       "    </tr>\n",
       "    <tr>\n",
       "      <th>2</th>\n",
       "      <td>1</td>\n",
       "      <td>42</td>\n",
       "      <td>0</td>\n",
       "      <td>8</td>\n",
       "      <td>3</td>\n",
       "      <td>1</td>\n",
       "      <td>0</td>\n",
       "      <td>502</td>\n",
       "      <td>113,931.57</td>\n",
       "      <td>159,660.80</td>\n",
       "      <td>0</td>\n",
       "      <td>0</td>\n",
       "      <td>1</td>\n",
       "    </tr>\n",
       "    <tr>\n",
       "      <th>3</th>\n",
       "      <td>0</td>\n",
       "      <td>39</td>\n",
       "      <td>0</td>\n",
       "      <td>1</td>\n",
       "      <td>2</td>\n",
       "      <td>0</td>\n",
       "      <td>0</td>\n",
       "      <td>699</td>\n",
       "      <td>93,826.63</td>\n",
       "      <td>NaN</td>\n",
       "      <td>0</td>\n",
       "      <td>0</td>\n",
       "      <td>1</td>\n",
       "    </tr>\n",
       "    <tr>\n",
       "      <th>4</th>\n",
       "      <td>0</td>\n",
       "      <td>43</td>\n",
       "      <td>0</td>\n",
       "      <td>2</td>\n",
       "      <td>1</td>\n",
       "      <td>1</td>\n",
       "      <td>1</td>\n",
       "      <td>850</td>\n",
       "      <td>79,084.10</td>\n",
       "      <td>125,510.82</td>\n",
       "      <td>0</td>\n",
       "      <td>1</td>\n",
       "      <td>0</td>\n",
       "    </tr>\n",
       "    <tr>\n",
       "      <th>5</th>\n",
       "      <td>1</td>\n",
       "      <td>44</td>\n",
       "      <td>1</td>\n",
       "      <td>8</td>\n",
       "      <td>2</td>\n",
       "      <td>1</td>\n",
       "      <td>0</td>\n",
       "      <td>645</td>\n",
       "      <td>149,756.71</td>\n",
       "      <td>113,755.78</td>\n",
       "      <td>0</td>\n",
       "      <td>1</td>\n",
       "      <td>0</td>\n",
       "    </tr>\n",
       "    <tr>\n",
       "      <th>6</th>\n",
       "      <td>0</td>\n",
       "      <td>50</td>\n",
       "      <td>1</td>\n",
       "      <td>7</td>\n",
       "      <td>2</td>\n",
       "      <td>1</td>\n",
       "      <td>1</td>\n",
       "      <td>822</td>\n",
       "      <td>10,062.80</td>\n",
       "      <td>NaN</td>\n",
       "      <td>0</td>\n",
       "      <td>0</td>\n",
       "      <td>1</td>\n",
       "    </tr>\n",
       "    <tr>\n",
       "      <th>7</th>\n",
       "      <td>1</td>\n",
       "      <td>29</td>\n",
       "      <td>0</td>\n",
       "      <td>4</td>\n",
       "      <td>4</td>\n",
       "      <td>1</td>\n",
       "      <td>0</td>\n",
       "      <td>376</td>\n",
       "      <td>119,346.88</td>\n",
       "      <td>115,046.74</td>\n",
       "      <td>1</td>\n",
       "      <td>0</td>\n",
       "      <td>0</td>\n",
       "    </tr>\n",
       "    <tr>\n",
       "      <th>8</th>\n",
       "      <td>0</td>\n",
       "      <td>44</td>\n",
       "      <td>1</td>\n",
       "      <td>4</td>\n",
       "      <td>2</td>\n",
       "      <td>0</td>\n",
       "      <td>1</td>\n",
       "      <td>501</td>\n",
       "      <td>74,940.50</td>\n",
       "      <td>142,051.07</td>\n",
       "      <td>0</td>\n",
       "      <td>0</td>\n",
       "      <td>1</td>\n",
       "    </tr>\n",
       "    <tr>\n",
       "      <th>9</th>\n",
       "      <td>0</td>\n",
       "      <td>27</td>\n",
       "      <td>1</td>\n",
       "      <td>2</td>\n",
       "      <td>1</td>\n",
       "      <td>1</td>\n",
       "      <td>1</td>\n",
       "      <td>684</td>\n",
       "      <td>71,725.73</td>\n",
       "      <td>134,603.88</td>\n",
       "      <td>0</td>\n",
       "      <td>0</td>\n",
       "      <td>1</td>\n",
       "    </tr>\n",
       "  </tbody>\n",
       "</table>\n",
       "</div>"
      ],
      "text/plain": [
       "   churn  age  gender_bool  objects  products  creditcard  loyalty  score  \\\n",
       "0      1   42            0        2         1           1        1    619   \n",
       "1      0   41            0        1         1           0        1    608   \n",
       "2      1   42            0        8         3           1        0    502   \n",
       "3      0   39            0        1         2           0        0    699   \n",
       "4      0   43            0        2         1           1        1    850   \n",
       "5      1   44            1        8         2           1        0    645   \n",
       "6      0   50            1        7         2           1        1    822   \n",
       "7      1   29            0        4         4           1        0    376   \n",
       "8      0   44            1        4         2           0        1    501   \n",
       "9      0   27            1        2         1           1        1    684   \n",
       "\n",
       "   estimated_salary    balance  city_RV  city_R  city_Y  \n",
       "0        101,348.88        NaN        0       0       1  \n",
       "1        112,542.58  83,807.86        0       1       0  \n",
       "2        113,931.57 159,660.80        0       0       1  \n",
       "3         93,826.63        NaN        0       0       1  \n",
       "4         79,084.10 125,510.82        0       1       0  \n",
       "5        149,756.71 113,755.78        0       1       0  \n",
       "6         10,062.80        NaN        0       0       1  \n",
       "7        119,346.88 115,046.74        1       0       0  \n",
       "8         74,940.50 142,051.07        0       0       1  \n",
       "9         71,725.73 134,603.88        0       0       1  "
      ]
     },
     "execution_count": 10,
     "metadata": {},
     "output_type": "execute_result"
    }
   ],
   "source": [
    "# Заменим значение столбца gender на бинарные\n",
    "df['gender_bool'] = (df['gender'] == 'М').astype(int)\n",
    "# Представим столбцы city в множество бинарных полей:\n",
    "df_new = df.loc[:,['churn', 'city', 'age', 'gender_bool','objects', 'products', \n",
    "               'creditcard', 'loyalty','score', 'estimated_salary', 'balance'\n",
    "              ]\n",
    "           ]\n",
    "df_new = (pd.get_dummies(df_new)\n",
    "          .rename(columns={'city_Ростов Великий': 'city_RV', \n",
    "                           'city_Рыбинск': 'city_R', \n",
    "                           'city_Ярославль': 'city_Y', \n",
    "                          }\n",
    "                 )\n",
    "         )\n",
    "df_new.head(10)"
   ]
  },
  {
   "cell_type": "markdown",
   "metadata": {},
   "source": [
    "### Вывод"
   ]
  },
  {
   "cell_type": "markdown",
   "metadata": {},
   "source": [
    "Произведена предобработка данных:\n",
    "1. Дубликаты не выявлены.\n",
    "3. Обнаружено 36% пропусков в столбце `Balance`. Наличие пропусков скорее всего связано с техническими проблемами в г. Ярославль и г. Рыбинск, также возможно проблема отображения баланса связана с багами при вводе 2-3 продуктов у клиентов. Следует довести данную информацию до технической службы. Принято решение не заполнять пропуски и не удалять строки с пропусками, так как потеряется слишком много информации."
   ]
  },
  {
   "cell_type": "markdown",
   "metadata": {},
   "source": [
    "## Исследовательский анализ данных"
   ]
  },
  {
   "cell_type": "code",
   "execution_count": 11,
   "metadata": {},
   "outputs": [
    {
     "data": {
      "text/html": [
       "<div>\n",
       "<style scoped>\n",
       "    .dataframe tbody tr th:only-of-type {\n",
       "        vertical-align: middle;\n",
       "    }\n",
       "\n",
       "    .dataframe tbody tr th {\n",
       "        vertical-align: top;\n",
       "    }\n",
       "\n",
       "    .dataframe thead th {\n",
       "        text-align: right;\n",
       "    }\n",
       "</style>\n",
       "<table border=\"1\" class=\"dataframe\">\n",
       "  <thead>\n",
       "    <tr style=\"text-align: right;\">\n",
       "      <th></th>\n",
       "      <th>count</th>\n",
       "      <th>mean</th>\n",
       "      <th>std</th>\n",
       "      <th>min</th>\n",
       "      <th>25%</th>\n",
       "      <th>50%</th>\n",
       "      <th>75%</th>\n",
       "      <th>max</th>\n",
       "    </tr>\n",
       "  </thead>\n",
       "  <tbody>\n",
       "    <tr>\n",
       "      <th>churn</th>\n",
       "      <td>10,000.00</td>\n",
       "      <td>0.20</td>\n",
       "      <td>0.40</td>\n",
       "      <td>0.00</td>\n",
       "      <td>0.00</td>\n",
       "      <td>0.00</td>\n",
       "      <td>0.00</td>\n",
       "      <td>1.00</td>\n",
       "    </tr>\n",
       "    <tr>\n",
       "      <th>age</th>\n",
       "      <td>10,000.00</td>\n",
       "      <td>38.92</td>\n",
       "      <td>10.49</td>\n",
       "      <td>18.00</td>\n",
       "      <td>32.00</td>\n",
       "      <td>37.00</td>\n",
       "      <td>44.00</td>\n",
       "      <td>92.00</td>\n",
       "    </tr>\n",
       "    <tr>\n",
       "      <th>gender_bool</th>\n",
       "      <td>10,000.00</td>\n",
       "      <td>0.55</td>\n",
       "      <td>0.50</td>\n",
       "      <td>0.00</td>\n",
       "      <td>0.00</td>\n",
       "      <td>1.00</td>\n",
       "      <td>1.00</td>\n",
       "      <td>1.00</td>\n",
       "    </tr>\n",
       "    <tr>\n",
       "      <th>objects</th>\n",
       "      <td>10,000.00</td>\n",
       "      <td>5.01</td>\n",
       "      <td>2.89</td>\n",
       "      <td>0.00</td>\n",
       "      <td>3.00</td>\n",
       "      <td>5.00</td>\n",
       "      <td>7.00</td>\n",
       "      <td>10.00</td>\n",
       "    </tr>\n",
       "    <tr>\n",
       "      <th>products</th>\n",
       "      <td>10,000.00</td>\n",
       "      <td>1.53</td>\n",
       "      <td>0.58</td>\n",
       "      <td>1.00</td>\n",
       "      <td>1.00</td>\n",
       "      <td>1.00</td>\n",
       "      <td>2.00</td>\n",
       "      <td>4.00</td>\n",
       "    </tr>\n",
       "    <tr>\n",
       "      <th>creditcard</th>\n",
       "      <td>10,000.00</td>\n",
       "      <td>0.71</td>\n",
       "      <td>0.46</td>\n",
       "      <td>0.00</td>\n",
       "      <td>0.00</td>\n",
       "      <td>1.00</td>\n",
       "      <td>1.00</td>\n",
       "      <td>1.00</td>\n",
       "    </tr>\n",
       "    <tr>\n",
       "      <th>loyalty</th>\n",
       "      <td>10,000.00</td>\n",
       "      <td>0.52</td>\n",
       "      <td>0.50</td>\n",
       "      <td>0.00</td>\n",
       "      <td>0.00</td>\n",
       "      <td>1.00</td>\n",
       "      <td>1.00</td>\n",
       "      <td>1.00</td>\n",
       "    </tr>\n",
       "    <tr>\n",
       "      <th>score</th>\n",
       "      <td>10,000.00</td>\n",
       "      <td>650.53</td>\n",
       "      <td>96.65</td>\n",
       "      <td>350.00</td>\n",
       "      <td>584.00</td>\n",
       "      <td>652.00</td>\n",
       "      <td>718.00</td>\n",
       "      <td>850.00</td>\n",
       "    </tr>\n",
       "    <tr>\n",
       "      <th>estimated_salary</th>\n",
       "      <td>10,000.00</td>\n",
       "      <td>100,090.24</td>\n",
       "      <td>57,510.49</td>\n",
       "      <td>11.58</td>\n",
       "      <td>51,002.11</td>\n",
       "      <td>100,193.91</td>\n",
       "      <td>149,388.25</td>\n",
       "      <td>199,992.48</td>\n",
       "    </tr>\n",
       "    <tr>\n",
       "      <th>balance</th>\n",
       "      <td>6,383.00</td>\n",
       "      <td>119,827.49</td>\n",
       "      <td>30,095.06</td>\n",
       "      <td>3,768.69</td>\n",
       "      <td>100,181.98</td>\n",
       "      <td>119,839.69</td>\n",
       "      <td>139,512.29</td>\n",
       "      <td>250,898.09</td>\n",
       "    </tr>\n",
       "    <tr>\n",
       "      <th>city_RV</th>\n",
       "      <td>10,000.00</td>\n",
       "      <td>0.25</td>\n",
       "      <td>0.43</td>\n",
       "      <td>0.00</td>\n",
       "      <td>0.00</td>\n",
       "      <td>0.00</td>\n",
       "      <td>1.00</td>\n",
       "      <td>1.00</td>\n",
       "    </tr>\n",
       "    <tr>\n",
       "      <th>city_R</th>\n",
       "      <td>10,000.00</td>\n",
       "      <td>0.25</td>\n",
       "      <td>0.43</td>\n",
       "      <td>0.00</td>\n",
       "      <td>0.00</td>\n",
       "      <td>0.00</td>\n",
       "      <td>0.00</td>\n",
       "      <td>1.00</td>\n",
       "    </tr>\n",
       "    <tr>\n",
       "      <th>city_Y</th>\n",
       "      <td>10,000.00</td>\n",
       "      <td>0.50</td>\n",
       "      <td>0.50</td>\n",
       "      <td>0.00</td>\n",
       "      <td>0.00</td>\n",
       "      <td>1.00</td>\n",
       "      <td>1.00</td>\n",
       "      <td>1.00</td>\n",
       "    </tr>\n",
       "  </tbody>\n",
       "</table>\n",
       "</div>"
      ],
      "text/plain": [
       "                     count       mean       std      min        25%  \\\n",
       "churn            10,000.00       0.20      0.40     0.00       0.00   \n",
       "age              10,000.00      38.92     10.49    18.00      32.00   \n",
       "gender_bool      10,000.00       0.55      0.50     0.00       0.00   \n",
       "objects          10,000.00       5.01      2.89     0.00       3.00   \n",
       "products         10,000.00       1.53      0.58     1.00       1.00   \n",
       "creditcard       10,000.00       0.71      0.46     0.00       0.00   \n",
       "loyalty          10,000.00       0.52      0.50     0.00       0.00   \n",
       "score            10,000.00     650.53     96.65   350.00     584.00   \n",
       "estimated_salary 10,000.00 100,090.24 57,510.49    11.58  51,002.11   \n",
       "balance           6,383.00 119,827.49 30,095.06 3,768.69 100,181.98   \n",
       "city_RV          10,000.00       0.25      0.43     0.00       0.00   \n",
       "city_R           10,000.00       0.25      0.43     0.00       0.00   \n",
       "city_Y           10,000.00       0.50      0.50     0.00       0.00   \n",
       "\n",
       "                        50%        75%        max  \n",
       "churn                  0.00       0.00       1.00  \n",
       "age                   37.00      44.00      92.00  \n",
       "gender_bool            1.00       1.00       1.00  \n",
       "objects                5.00       7.00      10.00  \n",
       "products               1.00       2.00       4.00  \n",
       "creditcard             1.00       1.00       1.00  \n",
       "loyalty                1.00       1.00       1.00  \n",
       "score                652.00     718.00     850.00  \n",
       "estimated_salary 100,193.91 149,388.25 199,992.48  \n",
       "balance          119,839.69 139,512.29 250,898.09  \n",
       "city_RV                0.00       1.00       1.00  \n",
       "city_R                 0.00       0.00       1.00  \n",
       "city_Y                 1.00       1.00       1.00  "
      ]
     },
     "execution_count": 11,
     "metadata": {},
     "output_type": "execute_result"
    }
   ],
   "source": [
    "df_new.describe().T"
   ]
  },
  {
   "cell_type": "markdown",
   "metadata": {},
   "source": [
    "1. `churn`: 20% клиентов из выборки ушло из банка.\n",
    "2. `age`: медианный возраст клиентов банка - 37 лет. Диапазон значений по выборке: от 18 до 92 лет.\n",
    "3. `gender`: Распределение по половому признаку: 55% - мужчины, 45% - женщины.\n",
    "4. `objects`: в среднем у клиентов банка в собственности 5 объектов.\n",
    "5. `products`: клиенты пользуются 1 продуктом банка (медианное значение).\n",
    "6. `creditcard`: 71% клиентов пользуются кредитными картами.\n",
    "7. `loyalty`: 52% считаются лояльными банку.\n",
    "8. `score`: cредний балл кредитного скоринга - 650. Диапазон значений скоринга по выборке: от 350 до 850 баллов.\n",
    "9. `estimated_salary`: Средняя заработная плата клиентов из выборки - 100 тыс. руб.\n",
    "10. `balance`: средний баланс счетов клиентов - 120 тыс. руб.\n",
    "11. `city`: В выборку попали 50% клиентов из г. Ярославль и по 25% - из областных городов Ростов Великий и Рыбинск."
   ]
  },
  {
   "cell_type": "markdown",
   "metadata": {},
   "source": [
    "Посмотрим на средние значения признаков в двух группах — тех, кто ушел в отток и тех, кто остался.\n",
    "По качественными признакам посчитаем среднее, а по количественным медиану:"
   ]
  },
  {
   "cell_type": "code",
   "execution_count": 12,
   "metadata": {},
   "outputs": [
    {
     "data": {
      "text/html": [
       "<style  type=\"text/css\" >\n",
       "</style><table id=\"T_26cec_\" ><thead>    <tr>        <th class=\"index_name level0\" >churn</th>        <th class=\"col_heading level0 col0\" >0</th>        <th class=\"col_heading level0 col1\" >1</th>    </tr></thead><tbody>\n",
       "                <tr>\n",
       "                        <th id=\"T_26cec_level0_row0\" class=\"row_heading level0 row0\" >creditcard</th>\n",
       "                        <td id=\"T_26cec_row0_col0\" class=\"data row0 col0\" >71%</td>\n",
       "                        <td id=\"T_26cec_row0_col1\" class=\"data row0 col1\" >70%</td>\n",
       "            </tr>\n",
       "            <tr>\n",
       "                        <th id=\"T_26cec_level0_row1\" class=\"row_heading level0 row1\" >loyalty</th>\n",
       "                        <td id=\"T_26cec_row1_col0\" class=\"data row1 col0\" >55%</td>\n",
       "                        <td id=\"T_26cec_row1_col1\" class=\"data row1 col1\" >36%</td>\n",
       "            </tr>\n",
       "            <tr>\n",
       "                        <th id=\"T_26cec_level0_row2\" class=\"row_heading level0 row2\" >city_RV</th>\n",
       "                        <td id=\"T_26cec_row2_col0\" class=\"data row2 col0\" >21%</td>\n",
       "                        <td id=\"T_26cec_row2_col1\" class=\"data row2 col1\" >40%</td>\n",
       "            </tr>\n",
       "            <tr>\n",
       "                        <th id=\"T_26cec_level0_row3\" class=\"row_heading level0 row3\" >city_R</th>\n",
       "                        <td id=\"T_26cec_row3_col0\" class=\"data row3 col0\" >26%</td>\n",
       "                        <td id=\"T_26cec_row3_col1\" class=\"data row3 col1\" >20%</td>\n",
       "            </tr>\n",
       "            <tr>\n",
       "                        <th id=\"T_26cec_level0_row4\" class=\"row_heading level0 row4\" >city_Y</th>\n",
       "                        <td id=\"T_26cec_row4_col0\" class=\"data row4 col0\" >53%</td>\n",
       "                        <td id=\"T_26cec_row4_col1\" class=\"data row4 col1\" >40%</td>\n",
       "            </tr>\n",
       "            <tr>\n",
       "                        <th id=\"T_26cec_level0_row5\" class=\"row_heading level0 row5\" >gender_bool</th>\n",
       "                        <td id=\"T_26cec_row5_col0\" class=\"data row5 col0\" >57%</td>\n",
       "                        <td id=\"T_26cec_row5_col1\" class=\"data row5 col1\" >44%</td>\n",
       "            </tr>\n",
       "    </tbody></table>"
      ],
      "text/plain": [
       "<pandas.io.formats.style.Styler at 0x1937f2fd610>"
      ]
     },
     "execution_count": 12,
     "metadata": {},
     "output_type": "execute_result"
    }
   ],
   "source": [
    "#качественные признаки + отток\n",
    "feature_bool = ['churn', 'creditcard', 'loyalty', 'city_RV', 'city_R', 'city_Y', 'gender_bool']\n",
    "#количественные признаки + отток\n",
    "feature_quantity = ['churn', 'score', 'age', 'objects', 'balance', 'products', 'estimated_salary']\n",
    "df_new[feature_bool].groupby('churn').mean().T.style.format('{:.0%}')"
   ]
  },
  {
   "cell_type": "code",
   "execution_count": 13,
   "metadata": {},
   "outputs": [
    {
     "data": {
      "text/html": [
       "<div>\n",
       "<style scoped>\n",
       "    .dataframe tbody tr th:only-of-type {\n",
       "        vertical-align: middle;\n",
       "    }\n",
       "\n",
       "    .dataframe tbody tr th {\n",
       "        vertical-align: top;\n",
       "    }\n",
       "\n",
       "    .dataframe thead th {\n",
       "        text-align: right;\n",
       "    }\n",
       "</style>\n",
       "<table border=\"1\" class=\"dataframe\">\n",
       "  <thead>\n",
       "    <tr style=\"text-align: right;\">\n",
       "      <th>churn</th>\n",
       "      <th>0</th>\n",
       "      <th>1</th>\n",
       "    </tr>\n",
       "  </thead>\n",
       "  <tbody>\n",
       "    <tr>\n",
       "      <th>score</th>\n",
       "      <td>653.00</td>\n",
       "      <td>646.00</td>\n",
       "    </tr>\n",
       "    <tr>\n",
       "      <th>age</th>\n",
       "      <td>36.00</td>\n",
       "      <td>45.00</td>\n",
       "    </tr>\n",
       "    <tr>\n",
       "      <th>objects</th>\n",
       "      <td>5.00</td>\n",
       "      <td>5.00</td>\n",
       "    </tr>\n",
       "    <tr>\n",
       "      <th>balance</th>\n",
       "      <td>119,791.21</td>\n",
       "      <td>119,948.09</td>\n",
       "    </tr>\n",
       "    <tr>\n",
       "      <th>products</th>\n",
       "      <td>2.00</td>\n",
       "      <td>1.00</td>\n",
       "    </tr>\n",
       "    <tr>\n",
       "      <th>estimated_salary</th>\n",
       "      <td>99,645.04</td>\n",
       "      <td>102,460.84</td>\n",
       "    </tr>\n",
       "  </tbody>\n",
       "</table>\n",
       "</div>"
      ],
      "text/plain": [
       "churn                     0          1\n",
       "score                653.00     646.00\n",
       "age                   36.00      45.00\n",
       "objects                5.00       5.00\n",
       "balance          119,791.21 119,948.09\n",
       "products               2.00       1.00\n",
       "estimated_salary  99,645.04 102,460.84"
      ]
     },
     "execution_count": 13,
     "metadata": {},
     "output_type": "execute_result"
    }
   ],
   "source": [
    "df_new[feature_quantity].groupby('churn').median().T"
   ]
  },
  {
   "cell_type": "markdown",
   "metadata": {},
   "source": [
    "В основном уходят:\n",
    "* нелояльные клиенты банка;\n",
    "* жители города Ростов Великий;\n",
    "* чаще женщины, чем мужчины;\n",
    "* клиенты, медианный возраст которых более 45 лет;\n",
    "* клиенты, которых только 1 продукт."
   ]
  },
  {
   "cell_type": "markdown",
   "metadata": {},
   "source": [
    "**Посмотрим распределения признаков для тех клиентов, кто ушёл (отток) и тех, кто остался.**\n",
    "\n",
    "Оценим качественные признаки:"
   ]
  },
  {
   "cell_type": "code",
   "execution_count": 14,
   "metadata": {},
   "outputs": [
    {
     "data": {
      "image/png": "[encoded data removed]",
      "text/plain": [
       "<Figure size 864x432 with 6 Axes>"
      ]
     },
     "metadata": {
      "needs_background": "light"
     },
     "output_type": "display_data"
    }
   ],
   "source": [
    "feature_bool_title = ['Пол','Наличие кредитной карты', 'Лояльность', 'Ярославль','Ростов Великий', 'Рыбинск']\n",
    "feature_bool = ['gender_bool','creditcard', 'loyalty', 'city_Y','city_RV', 'city_R']\n",
    "\n",
    "# графики качественных признаков\n",
    "fig, axes = plt.subplots(nrows=2, ncols=3, figsize=(12, 6), squeeze=False) \n",
    "axes = axes.ravel()  \n",
    "cols = feature_bool \n",
    "titels = feature_bool_title\n",
    "for col, ax, titel in zip(cols, axes, titels):\n",
    "    sns.countplot(data=df_new, x=col, hue='churn',ax=ax)\n",
    "    plt.setp(ax.patches, linewidth=0.8, edgecolor='black')\n",
    "    ax.grid(color='grey', alpha=0.5, linewidth=0.5)\n",
    "    sns.despine(left=True, right=True, top=True, ax=ax)\n",
    "    ax.set_title(titel)\n",
    "    ax.set_ylabel('количество')\n",
    "    ax.set_xlabel('')\n",
    "    ax.legend(title=\"Отток\", labels=['нет', 'да'], loc='upper right')\n",
    "fig.tight_layout()\n",
    "plt.show()"
   ]
  },
  {
   "cell_type": "markdown",
   "metadata": {},
   "source": [
    "**На основании графиков можно сделать вывод, что более склонны к оттоку:**\n",
    "* женщины;\n",
    "* клиенты, которые не пользуются кредитными картами;\n",
    "* не лояльные клиенты;\n",
    "* жители г. Ростов Великий. "
   ]
  },
  {
   "cell_type": "markdown",
   "metadata": {},
   "source": [
    "**Посмотрим на количественные признаки:**"
   ]
  },
  {
   "cell_type": "code",
   "execution_count": 15,
   "metadata": {},
   "outputs": [
    {
     "data": {
      "image/png": "[encoded data removed]",
      "text/plain": [
       "<Figure size 864x576 with 6 Axes>"
      ]
     },
     "metadata": {
      "needs_background": "light"
     },
     "output_type": "display_data"
    }
   ],
   "source": [
    "feature_quantity = ['age', 'objects', 'products', 'score', 'estimated_salary','balance']\n",
    "feature_quantity_title = ['возраст', 'количество объектов', 'количество продуктов',\n",
    "                         'скоринг', 'заработная плата', 'баланс']\n",
    "feature_quantity_col = ['лет', 'кол-во', 'кол-во', 'баллов', 'рублей', 'рублей']\n",
    "\n",
    "# графики количественных признаков\n",
    "fig, axes = plt.subplots(nrows=3, ncols=2, figsize=(12, 8), squeeze=False) \n",
    "axes = axes.ravel()  \n",
    "cols = feature_quantity \n",
    "titels = feature_quantity_title\n",
    "x_names = feature_quantity_col\n",
    "for col, ax, title, name in zip(cols, axes, titels, x_names):\n",
    "    sns.histplot(data=df, x=col, hue='churn', multiple=\"dodge\", shrink=.8, ax=ax, legend=False, bins=20, stat='probability')\n",
    "    ax.grid(color='grey', alpha=0.5, linewidth=0.5)\n",
    "    sns.despine(left=True, right=True, top=True, ax=ax)\n",
    "    ax.set_title(title)\n",
    "    ax.set_xlabel(name)\n",
    "    ax.set_ylabel('доля')\n",
    "    ax.legend(title=\"Отток\", labels=['да', 'нет'], loc='upper right')\n",
    "    \n",
    "fig.tight_layout()\n",
    "plt.show()"
   ]
  },
  {
   "cell_type": "markdown",
   "metadata": {},
   "source": [
    "**На основании графиков можно сделать вывод, что более склонны к оттоку:**\n",
    "* клиенты старше 44 лет и стоит предложить им какую-то программу;\n",
    "* клиенты с 3-4 продуктами, возможно проблема связана с обслуживанием нескольких продуктов. Также клиенты только с одним продуктом более склонны к оттоку, чем с двумя продуктами;\n",
    "* количество объектов в собственности, баллы скоринга, заработная плата и баланс практически не влияют на отток клиентов из банка."
   ]
  },
  {
   "cell_type": "markdown",
   "metadata": {},
   "source": [
    "**Посмотрим совместное распределение признаков отмеченных ранее, а именно:**\n",
    "* возраст;\n",
    "* пол;\n",
    "* город обслуживания;\n",
    "* наличие кредитных карт;\n",
    "* лояльность;\n",
    "* количество продуктов."
   ]
  },
  {
   "cell_type": "code",
   "execution_count": 16,
   "metadata": {},
   "outputs": [
    {
     "data": {
      "image/png": "[encoded data removed]",
      "text/plain": [
       "<Figure size 762.375x720 with 20 Axes>"
      ]
     },
     "metadata": {
      "needs_background": "light"
     },
     "output_type": "display_data"
    }
   ],
   "source": [
    "ax=sns.pairplot(df_new.loc[:,['churn', 'age', 'gender_bool', 'creditcard', 'loyalty']],\n",
    "                hue='churn', diag_kind=\"kde\")\n",
    "ax.fig.suptitle(\"Cовместное распределение возраста, пола, наличия кредитной карты и лояльности\", \n",
    "                y=1.1, fontsize = 14)\n",
    "plt.show()"
   ]
  },
  {
   "cell_type": "markdown",
   "metadata": {},
   "source": [
    "Из графика можно сделать вывод, что более склонны к оттоку:\n",
    "1. Клиенты, старше 44 лет.\n",
    "2. Женщины, у которых нет кредитной карты.\n",
    "3. Мужчины с кредитной картой.\n",
    "4. Лояльные женщины, чем нелояльные.\n",
    "5. Лояльные клиенты без кредитной карты."
   ]
  },
  {
   "cell_type": "code",
   "execution_count": 17,
   "metadata": {},
   "outputs": [
    {
     "data": {
      "image/png": "[encoded data removed]",
      "text/plain": [
       "<Figure size 762.375x180 with 4 Axes>"
      ]
     },
     "metadata": {
      "needs_background": "light"
     },
     "output_type": "display_data"
    }
   ],
   "source": [
    "ax=sns.pairplot(data=df_new, \n",
    "            y_vars=['products'],\n",
    "            x_vars=['age', 'gender_bool', 'creditcard', 'loyalty'],\n",
    "             hue='churn')\n",
    "ax.fig.suptitle(\"Cовместное распределение количества продуктов и других признаков\", y=1.1, fontsize = 14)\n",
    "plt.show()"
   ]
  },
  {
   "cell_type": "markdown",
   "metadata": {},
   "source": [
    "Из графика можно сделать вывод, что более склонны к оттоку:\n",
    "1. Клиенты, у котрых 3-4 продукта в банке.\n",
    "2. Клиенты, у котрых единственный продукт не кредитная карта. Скорее всего клиент пользуется срочным продуктом и по окончанию срока уходит из банка."
   ]
  },
  {
   "cell_type": "code",
   "execution_count": 18,
   "metadata": {},
   "outputs": [
    {
     "data": {
      "image/png": "[encoded data removed]",
      "text/plain": [
       "<Figure size 942.375x540 with 15 Axes>"
      ]
     },
     "metadata": {
      "needs_background": "light"
     },
     "output_type": "display_data"
    }
   ],
   "source": [
    "ax=sns.pairplot(data=df_new, \n",
    "            x_vars=['age', 'gender_bool', 'products', 'creditcard', 'loyalty'],\n",
    "            y_vars=['city_RV', 'city_R', 'city_Y'],\n",
    "             hue='churn')\n",
    "ax.fig.suptitle(\"Cовместное распределение города и других признаков\", y=1.1, fontsize = 14)\n",
    "plt.show()"
   ]
  },
  {
   "cell_type": "markdown",
   "metadata": {},
   "source": [
    "Из графика можно сделать вывод, что более склонны к оттоку:\n",
    "1. В Ростове Великом:\n",
    "    * и мужчины, и женщины;\n",
    "    * пользователи более 1-го продукта;\n",
    "    * пользователи кредитными картами;\n",
    "    * нелояльные клиенты.\n",
    "\n",
    "По городу можно сделать вывод, что есть проблема с обслуживанием клиентов. Новый клиент с одним продуктом уходит из банка. Скорее всего нужно решать проблему с персоналом банка в г. Ростов Великий.\n",
    "\n",
    "2. В Рыбинске:\n",
    "    * пользователи более 2-х продуктов;\n",
    "    * пенсионеры, старше 60 лет. Возможно, это также связано с качеством обслуживания в офисах города. Нужна дополнительная информация для исследования данного вопроса.\n",
    "\n",
    "\n",
    "3. В Ярославле:\n",
    "    * пользователи более 2-х продуктов;\n",
    "    * клиенты, старше 44 лет;\n",
    "    * клиенты, у которых нет кредитной карты;\n",
    "    * нелояльные клиенты."
   ]
  },
  {
   "cell_type": "code",
   "execution_count": 19,
   "metadata": {},
   "outputs": [
    {
     "data": {
      "image/png": "[encoded data removed]",
      "text/plain": [
       "<Figure size 864x504 with 2 Axes>"
      ]
     },
     "metadata": {
      "needs_background": "light"
     },
     "output_type": "display_data"
    }
   ],
   "source": [
    "corr = df_new.corr().round(2)\n",
    "# строим матрицу корреляций\n",
    "plt.figure(figsize = (12,7))\n",
    "sns.heatmap(corr, cmap=sns.color_palette(\"RdBu_r\", 1000), vmin=-1, center=0, annot=True)\n",
    "plt.xticks(rotation = 45)\n",
    "plt.tight_layout()\n",
    "plt.show()"
   ]
  },
  {
   "cell_type": "markdown",
   "metadata": {},
   "source": [
    "Из матрицы корреляции видим, что небольшую линейную взаимосвязи с оттоком имеют следующие признаки в порядке убывания:\n",
    "* возраст;\n",
    "* город Ростов Великий, как место обслуживания клиентов. Прочие города имеют значительно менее выраженную взаимосвязь с оттоком;\n",
    "* лояльность;\n",
    "* пол;\n",
    "* количество продуктов;\n",
    "* прочие признаки практически не имеют линейной взаимосвязи с оттоком."
   ]
  },
  {
   "cell_type": "markdown",
   "metadata": {},
   "source": [
    "### Вывод"
   ]
  },
  {
   "cell_type": "markdown",
   "metadata": {},
   "source": [
    "В результате исследовательского анализа данных можно взять следующие параметры для сегментации клиентов, для выявления более склонных к оттоку:\n",
    "1. `age`: более склонны к оттоку клиенты старше 44 полных лет.\n",
    "2. `city`: клиенты из г. Ростов Великий очень сильно склонны к оттоку, что скорее всего связано с качеством обслуживания в Банке. Клиенты г. Рыбинска более лояльно настроены к банку, чем в г. Ярославль, что также, возможно, связано с хорошим качеством обслуживания в банке.\n",
    "3. `loyalty`: лояльные клиенты менее склонны к оттоку.\n",
    "4. `gender`: более склонны к оттоку женщины.\n",
    "5. `products`: пользователи более 2-х продуктов более склонны к оттоку. Также выявлена проблема оттока клиентов с одним продуктом, скорее всего они уходят после того, как заканчивается срок действия продукта. \n",
    "6. `creditcard`: клиенты, у которых оформлена кредитная карта менее склонны к оттоку, особенно женщины. При этом мужчины старше 44 лет с кредитной картой более склонны к оттоку, чем мужчины того же возраста без данного продукта.\n",
    "7. Параметры `objects`, `score`, `estimated_salary`, `balance` не имеют сильно выраженного влияния на отток клиентов."
   ]
  },
  {
   "cell_type": "markdown",
   "metadata": {},
   "source": [
    "## Портрет клиента, склонного уходить из банка"
   ]
  },
  {
   "cell_type": "markdown",
   "metadata": {},
   "source": [
    "На основании предыдущего анализа выделим группы клиентов наиболее склонные к уходу из банка:\n",
    "1. Клиенты из Ростова Великого.\n",
    "2. Клиенты, использующие более 2-х продуктов.\n",
    "3. Мужчины старше 44 лет.\n",
    "4. Мужчины старше 44 лет с кредитными картами.\n",
    "5. Женщины старше 44 лет. \n",
    "6. Женщины старше 44 лет без кредитных карт.\n",
    "7. Женщины без кредитных карт.\n",
    "8. Пользователи одного продукта."
   ]
  },
  {
   "cell_type": "code",
   "execution_count": 20,
   "metadata": {},
   "outputs": [
    {
     "data": {
      "text/html": [
       "<style  type=\"text/css\" >\n",
       "</style><table id=\"T_b2c18_\" ><thead>    <tr>        <th class=\"blank level0\" ></th>        <th class=\"col_heading level0 col0\" >mean_churn</th>        <th class=\"col_heading level0 col1\" >count</th>        <th class=\"col_heading level0 col2\" >churn_suplus</th>        <th class=\"col_heading level0 col3\" >count_per_all</th>    </tr></thead><tbody>\n",
       "                <tr>\n",
       "                        <th id=\"T_b2c18_level0_row0\" class=\"row_heading level0 row0\" >пользователи одного продукта</th>\n",
       "                        <td id=\"T_b2c18_row0_col0\" class=\"data row0 col0\" >27.7%</td>\n",
       "                        <td id=\"T_b2c18_row0_col1\" class=\"data row0 col1\" > 5084</td>\n",
       "                        <td id=\"T_b2c18_row0_col2\" class=\"data row0 col2\" >7.3%</td>\n",
       "                        <td id=\"T_b2c18_row0_col3\" class=\"data row0 col3\" >50.8%</td>\n",
       "            </tr>\n",
       "            <tr>\n",
       "                        <th id=\"T_b2c18_level0_row1\" class=\"row_heading level0 row1\" >женщины старше 44 лет</th>\n",
       "                        <td id=\"T_b2c18_row1_col0\" class=\"data row1 col0\" >51.1%</td>\n",
       "                        <td id=\"T_b2c18_row1_col1\" class=\"data row1 col1\" > 1149</td>\n",
       "                        <td id=\"T_b2c18_row1_col2\" class=\"data row1 col2\" >30.7%</td>\n",
       "                        <td id=\"T_b2c18_row1_col3\" class=\"data row1 col3\" >11.5%</td>\n",
       "            </tr>\n",
       "            <tr>\n",
       "                        <th id=\"T_b2c18_level0_row2\" class=\"row_heading level0 row2\" >клиенты из Ростова Великого</th>\n",
       "                        <td id=\"T_b2c18_row2_col0\" class=\"data row2 col0\" >32.4%</td>\n",
       "                        <td id=\"T_b2c18_row2_col1\" class=\"data row2 col1\" > 2509</td>\n",
       "                        <td id=\"T_b2c18_row2_col2\" class=\"data row2 col2\" >12.1%</td>\n",
       "                        <td id=\"T_b2c18_row2_col3\" class=\"data row2 col3\" >25.1%</td>\n",
       "            </tr>\n",
       "            <tr>\n",
       "                        <th id=\"T_b2c18_level0_row3\" class=\"row_heading level0 row3\" >мужчины старше 44 лет</th>\n",
       "                        <td id=\"T_b2c18_row3_col0\" class=\"data row3 col0\" >38.4%</td>\n",
       "                        <td id=\"T_b2c18_row3_col1\" class=\"data row3 col1\" > 1191</td>\n",
       "                        <td id=\"T_b2c18_row3_col2\" class=\"data row3 col2\" >18.0%</td>\n",
       "                        <td id=\"T_b2c18_row3_col3\" class=\"data row3 col3\" >11.9%</td>\n",
       "            </tr>\n",
       "            <tr>\n",
       "                        <th id=\"T_b2c18_level0_row4\" class=\"row_heading level0 row4\" >пользователи 3 и 4 продуктов</th>\n",
       "                        <td id=\"T_b2c18_row4_col0\" class=\"data row4 col0\" >85.9%</td>\n",
       "                        <td id=\"T_b2c18_row4_col1\" class=\"data row4 col1\" > 326</td>\n",
       "                        <td id=\"T_b2c18_row4_col2\" class=\"data row4 col2\" >65.5%</td>\n",
       "                        <td id=\"T_b2c18_row4_col3\" class=\"data row4 col3\" >3.3%</td>\n",
       "            </tr>\n",
       "            <tr>\n",
       "                        <th id=\"T_b2c18_level0_row5\" class=\"row_heading level0 row5\" >мужчины старше 44 лет с кред картами</th>\n",
       "                        <td id=\"T_b2c18_row5_col0\" class=\"data row5 col0\" >38.7%</td>\n",
       "                        <td id=\"T_b2c18_row5_col1\" class=\"data row5 col1\" > 827</td>\n",
       "                        <td id=\"T_b2c18_row5_col2\" class=\"data row5 col2\" >18.3%</td>\n",
       "                        <td id=\"T_b2c18_row5_col3\" class=\"data row5 col3\" >8.3%</td>\n",
       "            </tr>\n",
       "            <tr>\n",
       "                        <th id=\"T_b2c18_level0_row6\" class=\"row_heading level0 row6\" >женщины старше 44 лет без кредитных карт</th>\n",
       "                        <td id=\"T_b2c18_row6_col0\" class=\"data row6 col0\" >55.1%</td>\n",
       "                        <td id=\"T_b2c18_row6_col1\" class=\"data row6 col1\" > 345</td>\n",
       "                        <td id=\"T_b2c18_row6_col2\" class=\"data row6 col2\" >34.7%</td>\n",
       "                        <td id=\"T_b2c18_row6_col3\" class=\"data row6 col3\" >3.5%</td>\n",
       "            </tr>\n",
       "            <tr>\n",
       "                        <th id=\"T_b2c18_level0_row7\" class=\"row_heading level0 row7\" >женщины без кредитных карт</th>\n",
       "                        <td id=\"T_b2c18_row7_col0\" class=\"data row7 col0\" >25.5%</td>\n",
       "                        <td id=\"T_b2c18_row7_col1\" class=\"data row7 col1\" > 1351</td>\n",
       "                        <td id=\"T_b2c18_row7_col2\" class=\"data row7 col2\" >5.1%</td>\n",
       "                        <td id=\"T_b2c18_row7_col3\" class=\"data row7 col3\" >13.5%</td>\n",
       "            </tr>\n",
       "    </tbody></table>"
      ],
      "text/plain": [
       "<pandas.io.formats.style.Styler at 0x1930c756a30>"
      ]
     },
     "execution_count": 20,
     "metadata": {},
     "output_type": "execute_result"
    }
   ],
   "source": [
    "examples = [ (\"пользователи одного продукта\", 'products == 1'),\n",
    "             (\"клиенты из Ростова Великого\", 'city == \"Ростов Великий\"'),\n",
    "             (\"пользователи 3 и 4 продуктов\",'products > 2'),\n",
    "             (\"мужчины старше 44 лет\", 'gender == \"М\" and age > 44'),\n",
    "             (\"мужчины старше 44 лет с кред картами\", 'gender == \"М\" and age > 44 and creditcard == 1'),\n",
    "             (\"женщины старше 44 лет без кредитных карт\", \n",
    "              'gender == \"Ж\" and age > 44 and creditcard == 0'),\n",
    "             (\"женщины старше 44 лет\", 'gender == \"Ж\" and age > 44'),\n",
    "             (\"женщины без кредитных карт\", 'gender == \"Ж\" and creditcard == 0'),   \n",
    "]\n",
    "\n",
    "# по заданным запросам делаем табличку с размерами разных групп и уровнем оттока\n",
    "dfs_temp = []\n",
    "for text, query in examples:\n",
    "    result = df.query(query)\\\n",
    "               .agg({'churn':['mean','count']}).T\n",
    "    result.index = [text]\n",
    "    dfs_temp.append(result)\n",
    "df_temp = pd.concat(dfs_temp)\n",
    "\n",
    "# считаем превышение оттока над средним\n",
    "df_temp = df_temp.rename(columns={'mean': 'mean_churn'})\n",
    "df_temp['churn_suplus'] = df_temp['mean_churn'] - df.churn.mean()\n",
    "\n",
    "# смотрим, сколько дополнительных уходящих клиентов мы можем обнаружить в этой группе\n",
    "df_temp['user_churn_suplus'] = df_temp['count'] * df_temp['churn_suplus']\n",
    "\n",
    "# считаем долю группы в общей выборке\n",
    "count_all = df.userid.count()\n",
    "df_temp['count_per_all'] = df_temp['count'] / count_all\n",
    "\n",
    "# ранжируем по количетву дополнительных уходящих клиентов в группе и оформляем вывод\n",
    "df_temp.sort_values('user_churn_suplus', ascending=False)\\\n",
    "       .drop(['user_churn_suplus'],axis=1)\\\n",
    "       .style.format('{:.1%}',subset=['count_per_all', 'mean_churn', 'churn_suplus'])\\\n",
    "       .format('{: .0f}',subset=['count'])"
   ]
  },
  {
   "cell_type": "markdown",
   "metadata": {},
   "source": [
    "### Вывод"
   ]
  },
  {
   "cell_type": "markdown",
   "metadata": {},
   "source": [
    "На основании выделенных групп можно сделать следующие выводы:\n",
    "1. Как правило, клиенты оформляют один продукт в банке, а по его окончанию уходят из банка. Стоит отслеживать таких клиентов и периодически предлагать им дополнительные релевантные продукты, которые есть на данный момент в Банке. А также, отслеживать окончание срока действия продукта и заблаговременно предлагать акции при оформление нового продукта:\n",
    "    * например, сниженная ставка на кредит, как постоянному клиенту;\n",
    "    * оформление дебетовой карты без комиссии на год;\n",
    "    * бесплатная подписка на дополнительные услуги партнеров банка на 1-6 месяцев (сайты с кино, сериалами);\n",
    "    * купоны на скидку у партнеров Банка.\n",
    "2. Более половины (51%) клиентов в группе \"Женщины старше 44 лет\" уходит из банка. Причем доля уходящих женщин старше 44 лет без кредитных карт больше на 4%. Так как, на текущий момент частично данная группа относится к пенсионному возрасту, то можно предложить им специальные \"пенсионные\" продукты. Также можно применить повышенные ставки при условии перевода получения пенсии/зарплаты в Банк:\n",
    "    * в первую очередь, стоит предложить им оформить кредитную карту в Банке;\n",
    "    * пенсионные дебетовые карты с дополнительным кэшбеком на покупки в аптеках и супермаркетах, АЗС;\n",
    "    * специальные накопительные счета;\n",
    "    * специальные \"пенсионные\" вклады с дополнительной повышенной ставков;\n",
    "    * страховые программы;\n",
    "    * кредиты на строительство и ремонт дачных домов.\n",
    "    \n",
    "3. Доля мужчин старше 44 лет склонных к уходу из Банка - 38%. Им можно предложить аналогичные продукты, как и женщинам этого возраста за исключением кредитных карт, так как мужчины с кредитными картами в отличии от женщин более склонны к оттоку из Банка.\n",
    "4. Уход клиентов из г. Ростов Великий скорее всего связано с качеством обслуживания, так как в других городах такая картина не наблюдается. Стоит организовать выездную проверку офисов с привлечением \"тайных покупателей\" в этом городе для выявления причин оттока клиентов.\n",
    "5. Достаточно много клиентов, у которых более 2-х продуктов, уходят из банка. Возможно, это связано с неудобным интерфейсом использования продуктов. В этом отношении, стоит проработать дополнительную информацию, чтобы выявить пользователи каких продуктов более склонны к уходу и доработать их."
   ]
  },
  {
   "cell_type": "markdown",
   "metadata": {},
   "source": [
    "## Проверка гипотез"
   ]
  },
  {
   "cell_type": "markdown",
   "metadata": {},
   "source": [
    "### Гипотеза различия дохода между теми клиентами, которые ушли, и теми, которые остались."
   ]
  },
  {
   "cell_type": "markdown",
   "metadata": {},
   "source": [
    "Проверим гипотезу различия дохода между теми клиентами, которые ушли, и теми, которые остались.\n",
    "\n",
    "Сформулируем гипотезы:\n",
    "\n",
    "𝐻0 : различий в доходе между клиентами, которые ушли, и теми, которые остались, нет.\n",
    "\n",
    "Альтернативная гипотеза  𝐻1 : различия в доходе между группами есть."
   ]
  },
  {
   "cell_type": "markdown",
   "metadata": {},
   "source": [
    "Перед этим проверим подчиняются ли данные закону нормального распределения с помощью критерия Шапиро-Уилка.\n",
    "\n",
    "Сформулируем гипотезы:\n",
    "\n",
    "𝐻0 : Данные распределены нормально.\n",
    "\n",
    "Альтернативная гипотеза  𝐻1 : Данные распределены не нормально."
   ]
  },
  {
   "cell_type": "code",
   "execution_count": 21,
   "metadata": {},
   "outputs": [
    {
     "name": "stdout",
     "output_type": "stream",
     "text": [
      "\u001b[1mПроверка на нормальность распределения выборок\u001b[0m\n",
      "\u001b[1mДанные о доходе клиентов, которые остались:\u001b[0m\n",
      "p-значение:  3.797518838320254e-43\n",
      "Отвергаем нулевую гипотезу: распределение не нормально\n",
      "\n",
      "\u001b[1mДанные о доходе клиентов, которые ушли:\u001b[0m\n",
      "p-значение:  4.594104044877579e-25\n",
      "Отвергаем нулевую гипотезу: распределение не нормально\n"
     ]
    }
   ],
   "source": [
    "sample_1 = df.query('churn == 0')['estimated_salary']\n",
    "\n",
    "sample_2 = df.query('churn == 1')['estimated_salary']\n",
    "\n",
    "alpha = 0.05 \n",
    "\n",
    "print ('\\033[1m'+'Проверка на нормальность распределения выборок'+'\\033[0m')\n",
    "print ('\\033[1m'+'Данные о доходе клиентов, которые остались:'+'\\033[0m')\n",
    "print('p-значение: ', st.shapiro(sample_1)[1])\n",
    "\n",
    "if st.shapiro(sample_1)[1] < alpha:\n",
    "    print('Отвергаем нулевую гипотезу: распределение не нормально')\n",
    "else:\n",
    "    print('Не получилось отвергнуть нулевую гипотезу, распределено нормально') \n",
    "\n",
    "print ('')    \n",
    "print ('\\033[1m'+'Данные о доходе клиентов, которые ушли:'+'\\033[0m')\n",
    "print('p-значение: ', st.shapiro(sample_2)[1])\n",
    "\n",
    "if st.shapiro(sample_2)[1] < alpha:\n",
    "    print('Отвергаем нулевую гипотезу: распределение не нормально')\n",
    "else:\n",
    "    print('Не получилось отвергнуть нулевую гипотезу, распределено нормально') "
   ]
  },
  {
   "cell_type": "markdown",
   "metadata": {},
   "source": [
    "Следовательно, применим непараметрический критерий Манна-Уитни, так как данные имеют не нормальное распределение."
   ]
  },
  {
   "cell_type": "code",
   "execution_count": 22,
   "metadata": {},
   "outputs": [
    {
     "name": "stdout",
     "output_type": "stream",
     "text": [
      "p-значение: 0.22705150930153783\n",
      "Не получилось отвергнуть нулевую гипотезу\n"
     ]
    }
   ],
   "source": [
    "# проверяем гипотезу критерием Манна-Уитни\n",
    "alpha = .05 \n",
    "\n",
    "results = st.mannwhitneyu(sample_1, sample_2)\n",
    "\n",
    "print('p-значение:', results.pvalue)\n",
    "\n",
    "if results.pvalue < alpha:\n",
    "    print(\"Отвергаем нулевую гипотезу\")\n",
    "else:\n",
    "    print(\"Не получилось отвергнуть нулевую гипотезу\") "
   ]
  },
  {
   "cell_type": "markdown",
   "metadata": {},
   "source": [
    "#### Вывод"
   ]
  },
  {
   "cell_type": "markdown",
   "metadata": {},
   "source": [
    "Нет статистиченски значимых оснований отвергнуть нулевую гипотезу об отсутствии разницы в доходе между клиентами, которые ушли и которые остались."
   ]
  },
  {
   "cell_type": "markdown",
   "metadata": {},
   "source": [
    "### Гипотеза различия между балансом клиентов, которые ушли, и которые остались."
   ]
  },
  {
   "cell_type": "markdown",
   "metadata": {},
   "source": [
    "Сформулируем гипотезы:\n",
    "\n",
    "𝐻0 : различий в балансе между клиентами, которые ушли, и теми, которые остались, нет.\n",
    "\n",
    "Альтернативная гипотеза  𝐻1 : различия в балансе между группами есть."
   ]
  },
  {
   "cell_type": "code",
   "execution_count": 23,
   "metadata": {},
   "outputs": [
    {
     "name": "stdout",
     "output_type": "stream",
     "text": [
      "\u001b[1mПроверка на нормальность распределение выборок\u001b[0m\n",
      "\u001b[1mДанные о балансе клиентов, которые остались:\u001b[0m\n",
      "p-значение:  0.8506813049316406\n",
      "Не получилось отвергнуть нулевую гипотезу, распределение нормально\n",
      "\n",
      "\u001b[1mДанные о балансе клиентов, которые ушли:\u001b[0m\n",
      "p-значение:  1.0646013848258917e-08\n",
      "Отвергаем нулевую гипотезу: распределение не нормально\n"
     ]
    }
   ],
   "source": [
    "# разделим данные на группы, при этом удалим пропуски данных\n",
    "sample_1 = df.query('churn == 0')['balance'].dropna().reset_index(drop=True)\n",
    "sample_2 = df.query('churn == 1')['balance'].dropna().reset_index(drop=True)\n",
    "\n",
    "alpha = 0.05\n",
    "\n",
    "print ('\\033[1m'+'Проверка на нормальность распределение выборок'+'\\033[0m')\n",
    "print ('\\033[1m'+'Данные о балансе клиентов, которые остались:'+'\\033[0m')\n",
    "print('p-значение: ', st.shapiro(sample_1)[1])\n",
    "\n",
    "if st.shapiro(sample_1)[1] < alpha:\n",
    "    print('Отвергаем нулевую гипотезу: распределение не нормально')\n",
    "else:\n",
    "    print('Не получилось отвергнуть нулевую гипотезу, распределение нормально') \n",
    "\n",
    "print ('')    \n",
    "print ('\\033[1m'+'Данные о балансе клиентов, которые ушли:'+'\\033[0m')\n",
    "print('p-значение: ', st.shapiro(sample_2)[1])\n",
    "\n",
    "if st.shapiro(sample_2)[1] < alpha:\n",
    "    print('Отвергаем нулевую гипотезу: распределение не нормально')\n",
    "else:\n",
    "    print('Не получилось отвергнуть нулевую гипотезу, распределение нормально') "
   ]
  },
  {
   "cell_type": "markdown",
   "metadata": {},
   "source": [
    "Одна из выборок имеет не нормальное распределение, поэтому применим тест Манна-Уитни:"
   ]
  },
  {
   "cell_type": "code",
   "execution_count": 24,
   "metadata": {},
   "outputs": [
    {
     "name": "stdout",
     "output_type": "stream",
     "text": [
      "p-значение: 0.22150885555919375\n",
      "Не получилось отвергнуть нулевую гипотезу\n"
     ]
    }
   ],
   "source": [
    "# проверяем гипотезу критерием Манна-Уитни\n",
    "alpha = .05 # критический уровень статистической значимости\n",
    "\n",
    "results = st.mannwhitneyu(sample_1, sample_2)\n",
    "\n",
    "print('p-значение:', results.pvalue)\n",
    "\n",
    "if results.pvalue < alpha:\n",
    "    print(\"Отвергаем нулевую гипотезу\")\n",
    "else:\n",
    "    print(\"Не получилось отвергнуть нулевую гипотезу\") "
   ]
  },
  {
   "cell_type": "markdown",
   "metadata": {},
   "source": [
    "#### Вывод"
   ]
  },
  {
   "cell_type": "raw",
   "metadata": {},
   "source": [
    "Также нет статистически значимых оснований отвергнуть нулевую гипотезу об отсутствии разницы в балансе клиентов, которые ушли и которые остались."
   ]
  },
  {
   "cell_type": "markdown",
   "metadata": {},
   "source": [
    "### Вывод"
   ]
  },
  {
   "cell_type": "markdown",
   "metadata": {},
   "source": [
    "В результате проверки гипотез о разнице в доходе и балансе клиентов, которые ушли и которые остались, получили, что статистически значимой разницы между группами нет."
   ]
  },
  {
   "cell_type": "markdown",
   "metadata": {},
   "source": [
    "## Общие выводы"
   ]
  },
  {
   "cell_type": "markdown",
   "metadata": {},
   "source": [
    "В результате анализа данных клиентов «Метанпром» можно сделать следующие выводы:\n",
    "\n",
    "1. Признаки влияющие на отток клиентов:\n",
    "    * `возраст`;\n",
    "    * `город обслуживания`;\n",
    "    * `лояльность`;\n",
    "    * `пол`;\n",
    "    * `количество используемых продуктов` в банке;\n",
    "    * наличие `кредитной карты`;\n",
    "2. Не имеют сильно выраженного влияния на отток клиентов:\n",
    "    * `количество объектов` в собственности;\n",
    "    * `скоринг`. Хотя при этом у ушедших клиентов ниже скоринговая оценка. И, возможно, прекращение обслуживания в банке связано с платежеспособностью таких клиентов;\n",
    "    * `зарплата`. В результате проверки гипотез о разнице в доходе клиентов, которые ушли и которые остались, получили, что статистически значимой разницы между группами нет.\n",
    "    * `баланс`. В результате проверки гипотез о разнице в балансе клиентов, которые ушли и которые остались, получили, что статистически значимой разницы между группами нет."
   ]
  },
  {
   "cell_type": "markdown",
   "metadata": {},
   "source": [
    "**Выделили следующие группы наиболее склонных к уходу клиентов:**\n",
    "1. Клиенты из Ростова Великого.\n",
    "2. Мужчины старше 44 лет.\n",
    "3. Мужчины старше 44 лет с кредитными картами.\n",
    "4. Женщины старше 44 лет. \n",
    "5. Женщины старше 44 лет без кредитных карт.\n",
    "6. Женщины без кредитных карт.\n",
    "7. Пользователи одного продукта.\n",
    "8. Клиенты, использующие более 2-х продуктов."
   ]
  },
  {
   "cell_type": "markdown",
   "metadata": {},
   "source": [
    "**На основании выделенных групп можно сделать следующие выводы и предложения**:\n",
    "1. Как правило, клиенты оформляют `один продукт` в Банке, а по его окончанию уходят. Стоит отслеживать таких клиентов и периодически предлагать им дополнительные релевантные продукты, которые есть на данный момент в Банке. А также, отслеживать окончание срока действия продукта и заблаговременно предлагать акции при оформление нового продукта:\n",
    "    * например, сниженная ставка на кредит, как постоянному клиенту;\n",
    "    * оформление дебетовой карты без комиссии на год;\n",
    "    * бесплатная подписка на дополнительные услуги партнеров банка на 1-6 месяцев (сайты с кино, сериалами);\n",
    "    * купоны на скидку у партнеров Банка.\n",
    "    \n",
    "    \n",
    "2. Более половины (51%) клиентов в группе `\"Женщины старше 44 лет\"` уходит из банка. Причем доля уходящих женщин старше 44 лет без кредитных карт больше на 4%. Так как, на текущий момент частично данная группа относится к пенсионному возрасту, то можно предложить им специальные \"пенсионные\" продукты. Также можно применить повышенные ставки при условии перевода получения пенсии/зарплаты в Банк:\n",
    "    * в первую очередь, стоит предложить им оформить кредитную карту в Банке;\n",
    "    * пенсионные дебетовые карты с дополнительным кэшбеком на покупки в аптеках и супермаркетах, АЗС;\n",
    "    * специальные накопительные счета;\n",
    "    * специальные \"пенсионные\" вклады с дополнительной повышенной ставков;\n",
    "    * страховые программы;\n",
    "    * кредиты на строительство и ремонт дачных домов.\n",
    "    \n",
    "    \n",
    "3. Доля `мужчин старше 44 лет`, склонных к уходу из Банка - 38%. Им можно предложить аналогичные продукты, как и женщинам этого возраста за исключением кредитных карт, так как мужчины с кредитными картами в отличии от женщин более склонны к оттоку из Банка.\n",
    "\n",
    "\n",
    "4. Уход `клиентов из г. Ростов Великий` скорее всего связано с качеством обслуживания, так как в других городах такая картина не наблюдается. Стоит организовать выездную проверку офисов с привлечением \"тайных покупателей\" в этом городе для выявления причин оттока клиентов.\n",
    "\n",
    "\n",
    "5. Достаточно много клиентов, у которых `более 2-х продуктов`, уходят из банка. Возможно, это связано с неудобным интерфейсом использования продуктов. В этом отношении, стоит проработать дополнительную информацию, чтобы выявить пользователи каких продуктов более склонны к уходу и доработать их."
   ]
  }
 ],
 "metadata": {
  "ExecuteTimeLog": [
   {
    "duration": 1364,
    "start_time": "2022-06-14T18:14:12.080Z"
   },
   {
    "duration": 5,
    "start_time": "2022-06-14T18:14:15.243Z"
   },
   {
    "duration": 76,
    "start_time": "2022-06-14T18:14:17.899Z"
   },
   {
    "duration": 84,
    "start_time": "2022-06-14T18:14:36.593Z"
   },
   {
    "duration": 43,
    "start_time": "2022-06-14T18:14:38.860Z"
   },
   {
    "duration": 4,
    "start_time": "2022-06-14T18:16:32.403Z"
   },
   {
    "duration": 19,
    "start_time": "2022-06-14T18:16:44.542Z"
   },
   {
    "duration": 94,
    "start_time": "2022-06-14T18:16:48.998Z"
   },
   {
    "duration": 3,
    "start_time": "2022-06-14T18:18:01.252Z"
   },
   {
    "duration": 6,
    "start_time": "2022-06-14T18:18:37.839Z"
   },
   {
    "duration": 17,
    "start_time": "2022-06-14T18:18:42.726Z"
   },
   {
    "duration": 82,
    "start_time": "2022-06-14T18:21:44.571Z"
   },
   {
    "duration": 114,
    "start_time": "2022-06-14T18:22:20.281Z"
   },
   {
    "duration": 103,
    "start_time": "2022-06-14T18:22:32.025Z"
   },
   {
    "duration": 61,
    "start_time": "2022-06-14T18:23:55.376Z"
   },
   {
    "duration": 48,
    "start_time": "2022-06-14T18:24:19.985Z"
   },
   {
    "duration": 4,
    "start_time": "2022-06-14T18:26:52.218Z"
   },
   {
    "duration": 47,
    "start_time": "2022-06-14T18:27:07.866Z"
   },
   {
    "duration": 4,
    "start_time": "2022-06-14T18:30:39.196Z"
   },
   {
    "duration": 58,
    "start_time": "2022-06-14T18:30:43.705Z"
   },
   {
    "duration": 45,
    "start_time": "2022-06-14T18:41:28.008Z"
   },
   {
    "duration": 5,
    "start_time": "2022-06-14T18:41:57.469Z"
   },
   {
    "duration": 47,
    "start_time": "2022-06-14T18:42:00.561Z"
   },
   {
    "duration": 1618,
    "start_time": "2022-06-14T18:42:03.965Z"
   },
   {
    "duration": 3,
    "start_time": "2022-06-14T18:47:31.031Z"
   },
   {
    "duration": 10,
    "start_time": "2022-06-14T18:47:41.210Z"
   },
   {
    "duration": 3,
    "start_time": "2022-06-14T18:47:48.062Z"
   },
   {
    "duration": 48,
    "start_time": "2022-06-14T18:47:48.615Z"
   },
   {
    "duration": 27,
    "start_time": "2022-06-14T19:06:21.373Z"
   },
   {
    "duration": 27,
    "start_time": "2022-06-14T19:11:49.110Z"
   },
   {
    "duration": 25,
    "start_time": "2022-06-14T19:12:03.468Z"
   },
   {
    "duration": 22,
    "start_time": "2022-06-14T19:13:35.551Z"
   },
   {
    "duration": 594,
    "start_time": "2022-06-14T19:20:33.713Z"
   },
   {
    "duration": 45,
    "start_time": "2022-06-14T19:22:13.794Z"
   },
   {
    "duration": 16,
    "start_time": "2022-06-14T19:39:28.873Z"
   },
   {
    "duration": 15,
    "start_time": "2022-06-14T19:40:30.923Z"
   },
   {
    "duration": 5,
    "start_time": "2022-06-14T19:42:16.620Z"
   },
   {
    "duration": 3,
    "start_time": "2022-06-14T19:43:16.546Z"
   },
   {
    "duration": 13,
    "start_time": "2022-06-14T19:43:17.358Z"
   },
   {
    "duration": 3,
    "start_time": "2022-06-14T19:44:10.085Z"
   },
   {
    "duration": 19,
    "start_time": "2022-06-14T19:44:31.940Z"
   },
   {
    "duration": 6,
    "start_time": "2022-06-14T19:44:51.923Z"
   },
   {
    "duration": 15,
    "start_time": "2022-06-14T19:44:52.681Z"
   },
   {
    "duration": 15,
    "start_time": "2022-06-14T19:44:53.866Z"
   },
   {
    "duration": 13,
    "start_time": "2022-06-14T19:47:10.595Z"
   },
   {
    "duration": 11,
    "start_time": "2022-06-14T19:47:25.892Z"
   },
   {
    "duration": 3,
    "start_time": "2022-06-14T19:55:58.407Z"
   },
   {
    "duration": 611,
    "start_time": "2022-06-14T19:56:04.449Z"
   },
   {
    "duration": 3,
    "start_time": "2022-06-14T19:57:31.550Z"
   },
   {
    "duration": 1031,
    "start_time": "2022-06-14T19:58:15.223Z"
   },
   {
    "duration": 831,
    "start_time": "2022-06-14T20:04:13.820Z"
   },
   {
    "duration": 728,
    "start_time": "2022-06-14T20:04:42.444Z"
   },
   {
    "duration": 1520,
    "start_time": "2022-06-14T20:05:26.188Z"
   },
   {
    "duration": 1091,
    "start_time": "2022-06-14T20:13:41.391Z"
   },
   {
    "duration": 1570,
    "start_time": "2022-06-14T20:14:07.537Z"
   },
   {
    "duration": 2077,
    "start_time": "2022-06-14T20:16:28.794Z"
   },
   {
    "duration": 1137,
    "start_time": "2022-06-15T19:09:17.863Z"
   },
   {
    "duration": 4,
    "start_time": "2022-06-15T19:09:19.002Z"
   },
   {
    "duration": 11,
    "start_time": "2022-06-15T19:09:19.008Z"
   },
   {
    "duration": 149,
    "start_time": "2022-06-15T19:09:19.021Z"
   },
   {
    "duration": 41,
    "start_time": "2022-06-15T19:09:19.172Z"
   },
   {
    "duration": 3,
    "start_time": "2022-06-15T19:09:19.215Z"
   },
   {
    "duration": 19,
    "start_time": "2022-06-15T19:09:19.220Z"
   },
   {
    "duration": 56,
    "start_time": "2022-06-15T19:09:19.240Z"
   },
   {
    "duration": 3,
    "start_time": "2022-06-15T19:09:19.297Z"
   },
   {
    "duration": 55,
    "start_time": "2022-06-15T19:09:19.302Z"
   },
   {
    "duration": 23,
    "start_time": "2022-06-15T19:13:14.749Z"
   },
   {
    "duration": 18,
    "start_time": "2022-06-15T19:13:28.323Z"
   },
   {
    "duration": 5,
    "start_time": "2022-06-15T19:13:47.811Z"
   },
   {
    "duration": 22,
    "start_time": "2022-06-15T19:14:12.507Z"
   },
   {
    "duration": 5,
    "start_time": "2022-06-15T19:15:31.747Z"
   },
   {
    "duration": 355,
    "start_time": "2022-06-15T19:18:11.109Z"
   },
   {
    "duration": 25,
    "start_time": "2022-06-15T19:18:31.392Z"
   },
   {
    "duration": 220,
    "start_time": "2022-06-15T19:18:43.657Z"
   },
   {
    "duration": 4,
    "start_time": "2022-06-15T19:18:54.842Z"
   },
   {
    "duration": 16,
    "start_time": "2022-06-15T19:19:01.570Z"
   },
   {
    "duration": 5,
    "start_time": "2022-06-15T19:20:32.707Z"
   },
   {
    "duration": 24,
    "start_time": "2022-06-15T19:27:26.547Z"
   },
   {
    "duration": 4,
    "start_time": "2022-06-15T19:30:17.443Z"
   },
   {
    "duration": 10,
    "start_time": "2022-06-15T19:30:21.117Z"
   },
   {
    "duration": 12,
    "start_time": "2022-06-15T19:30:30.864Z"
   },
   {
    "duration": 2,
    "start_time": "2022-06-15T19:33:42.263Z"
   },
   {
    "duration": 1068,
    "start_time": "2022-06-15T19:33:45.802Z"
   },
   {
    "duration": 1434,
    "start_time": "2022-06-15T19:34:14.913Z"
   },
   {
    "duration": 2,
    "start_time": "2022-06-15T19:36:27.709Z"
   },
   {
    "duration": 914,
    "start_time": "2022-06-15T19:36:31.639Z"
   },
   {
    "duration": 1370,
    "start_time": "2022-06-15T19:36:49.170Z"
   },
   {
    "duration": 3,
    "start_time": "2022-06-15T19:37:35.794Z"
   },
   {
    "duration": 881,
    "start_time": "2022-06-15T19:37:39.114Z"
   },
   {
    "duration": 1365,
    "start_time": "2022-06-15T19:38:02.864Z"
   },
   {
    "duration": 1184,
    "start_time": "2022-06-15T19:38:13.536Z"
   },
   {
    "duration": 1090,
    "start_time": "2022-06-15T19:38:22.304Z"
   },
   {
    "duration": 1283,
    "start_time": "2022-06-15T19:38:33.142Z"
   },
   {
    "duration": 1029,
    "start_time": "2022-06-15T19:38:47.616Z"
   },
   {
    "duration": 1128,
    "start_time": "2022-06-15T19:38:55.444Z"
   },
   {
    "duration": 1116,
    "start_time": "2022-06-15T19:39:12.743Z"
   },
   {
    "duration": 3,
    "start_time": "2022-06-15T19:43:02.739Z"
   },
   {
    "duration": 1045,
    "start_time": "2022-06-15T19:43:06.810Z"
   },
   {
    "duration": 1175,
    "start_time": "2022-06-15T19:44:46.683Z"
   },
   {
    "duration": 1151,
    "start_time": "2022-06-15T19:45:09.128Z"
   },
   {
    "duration": 4,
    "start_time": "2022-06-15T19:46:43.665Z"
   },
   {
    "duration": 5,
    "start_time": "2022-06-15T19:47:44.073Z"
   },
   {
    "duration": 910,
    "start_time": "2022-06-15T19:47:49.746Z"
   },
   {
    "duration": 803,
    "start_time": "2022-06-15T19:49:21.779Z"
   },
   {
    "duration": 945,
    "start_time": "2022-06-15T19:49:50.515Z"
   },
   {
    "duration": 852,
    "start_time": "2022-06-15T19:50:13.894Z"
   },
   {
    "duration": 47,
    "start_time": "2022-06-15T19:53:57.509Z"
   },
   {
    "duration": 4,
    "start_time": "2022-06-15T20:00:33.984Z"
   },
   {
    "duration": 1766,
    "start_time": "2022-06-15T20:00:36.749Z"
   },
   {
    "duration": 1666,
    "start_time": "2022-06-15T20:01:46.508Z"
   },
   {
    "duration": 1487,
    "start_time": "2022-06-15T20:02:00.440Z"
   },
   {
    "duration": 623,
    "start_time": "2022-06-15T20:02:37.712Z"
   },
   {
    "duration": 1487,
    "start_time": "2022-06-15T20:03:00.444Z"
   },
   {
    "duration": 1727,
    "start_time": "2022-06-15T20:03:57.421Z"
   },
   {
    "duration": 1731,
    "start_time": "2022-06-15T20:04:13.616Z"
   },
   {
    "duration": 1632,
    "start_time": "2022-06-15T20:06:03.311Z"
   },
   {
    "duration": 1783,
    "start_time": "2022-06-15T20:06:22.711Z"
   },
   {
    "duration": 1667,
    "start_time": "2022-06-15T20:06:31.561Z"
   },
   {
    "duration": 1793,
    "start_time": "2022-06-15T20:06:45.147Z"
   },
   {
    "duration": 1657,
    "start_time": "2022-06-15T20:07:02.561Z"
   },
   {
    "duration": 1833,
    "start_time": "2022-06-15T20:07:11.247Z"
   },
   {
    "duration": 1577,
    "start_time": "2022-06-15T20:07:21.687Z"
   },
   {
    "duration": 1613,
    "start_time": "2022-06-15T20:07:30.150Z"
   },
   {
    "duration": 1782,
    "start_time": "2022-06-15T20:07:42.286Z"
   },
   {
    "duration": 1725,
    "start_time": "2022-06-15T20:07:53.874Z"
   },
   {
    "duration": 4,
    "start_time": "2022-06-15T20:19:02.177Z"
   },
   {
    "duration": 1435,
    "start_time": "2022-06-15T20:23:27.163Z"
   },
   {
    "duration": 4,
    "start_time": "2022-06-15T20:35:14.170Z"
   },
   {
    "duration": 881,
    "start_time": "2022-06-15T20:36:01.392Z"
   },
   {
    "duration": 964,
    "start_time": "2022-06-15T20:36:20.690Z"
   },
   {
    "duration": 772,
    "start_time": "2022-06-15T20:37:01.956Z"
   },
   {
    "duration": 811,
    "start_time": "2022-06-15T20:37:34.178Z"
   },
   {
    "duration": 756,
    "start_time": "2022-06-15T20:38:29.271Z"
   },
   {
    "duration": 813,
    "start_time": "2022-06-15T20:39:24.657Z"
   },
   {
    "duration": 878,
    "start_time": "2022-06-15T20:39:32.401Z"
   },
   {
    "duration": 875,
    "start_time": "2022-06-15T20:40:02.667Z"
   },
   {
    "duration": 832,
    "start_time": "2022-06-15T20:40:14.646Z"
   },
   {
    "duration": 834,
    "start_time": "2022-06-15T20:40:46.729Z"
   },
   {
    "duration": 763,
    "start_time": "2022-06-15T20:41:02.138Z"
   },
   {
    "duration": 811,
    "start_time": "2022-06-15T20:41:33.478Z"
   },
   {
    "duration": 909,
    "start_time": "2022-06-15T20:42:11.920Z"
   },
   {
    "duration": 778,
    "start_time": "2022-06-15T20:43:23.279Z"
   },
   {
    "duration": 880,
    "start_time": "2022-06-15T20:43:57.624Z"
   },
   {
    "duration": 788,
    "start_time": "2022-06-15T20:45:02.211Z"
   },
   {
    "duration": 763,
    "start_time": "2022-06-15T20:45:45.220Z"
   },
   {
    "duration": 801,
    "start_time": "2022-06-15T20:46:06.775Z"
   },
   {
    "duration": 760,
    "start_time": "2022-06-15T20:47:53.760Z"
   },
   {
    "duration": 810,
    "start_time": "2022-06-15T20:48:09.967Z"
   },
   {
    "duration": 51186,
    "start_time": "2022-06-15T20:52:20.364Z"
   },
   {
    "duration": 5090,
    "start_time": "2022-06-15T20:55:35.891Z"
   },
   {
    "duration": 4470,
    "start_time": "2022-06-15T20:56:15.059Z"
   },
   {
    "duration": 35,
    "start_time": "2022-06-15T20:57:52.547Z"
   },
   {
    "duration": 5845,
    "start_time": "2022-06-15T20:58:00.044Z"
   },
   {
    "duration": 4451,
    "start_time": "2022-06-15T20:58:18.247Z"
   },
   {
    "duration": 4322,
    "start_time": "2022-06-15T20:58:45.211Z"
   },
   {
    "duration": 5948,
    "start_time": "2022-06-15T20:59:01.775Z"
   },
   {
    "duration": 4650,
    "start_time": "2022-06-15T21:01:37.162Z"
   },
   {
    "duration": 4706,
    "start_time": "2022-06-15T21:03:19.543Z"
   },
   {
    "duration": 3648,
    "start_time": "2022-06-15T21:05:11.741Z"
   },
   {
    "duration": 4344,
    "start_time": "2022-06-15T21:06:35.719Z"
   },
   {
    "duration": 2577,
    "start_time": "2022-06-15T21:07:22.325Z"
   },
   {
    "duration": 3530,
    "start_time": "2022-06-15T21:08:34.618Z"
   },
   {
    "duration": 1843,
    "start_time": "2022-06-15T21:08:59.038Z"
   },
   {
    "duration": 4807,
    "start_time": "2022-06-15T21:26:52.107Z"
   },
   {
    "duration": 3346,
    "start_time": "2022-06-15T21:30:15.629Z"
   },
   {
    "duration": 3301,
    "start_time": "2022-06-15T21:31:30.144Z"
   },
   {
    "duration": 9331,
    "start_time": "2022-06-15T21:33:24.502Z"
   },
   {
    "duration": 5040,
    "start_time": "2022-06-15T21:34:09.513Z"
   },
   {
    "duration": 3438,
    "start_time": "2022-06-15T21:35:26.333Z"
   },
   {
    "duration": 4703,
    "start_time": "2022-06-15T21:35:43.957Z"
   },
   {
    "duration": 2433,
    "start_time": "2022-06-15T21:36:50.937Z"
   },
   {
    "duration": 2025,
    "start_time": "2022-06-15T21:38:05.673Z"
   },
   {
    "duration": 1373,
    "start_time": "2022-06-15T21:38:50.612Z"
   },
   {
    "duration": 1199,
    "start_time": "2022-06-16T09:30:32.067Z"
   },
   {
    "duration": 3,
    "start_time": "2022-06-16T09:30:33.269Z"
   },
   {
    "duration": 12,
    "start_time": "2022-06-16T09:30:33.274Z"
   },
   {
    "duration": 147,
    "start_time": "2022-06-16T09:30:33.288Z"
   },
   {
    "duration": 35,
    "start_time": "2022-06-16T09:30:33.436Z"
   },
   {
    "duration": 3,
    "start_time": "2022-06-16T09:30:33.472Z"
   },
   {
    "duration": 18,
    "start_time": "2022-06-16T09:30:33.477Z"
   },
   {
    "duration": 61,
    "start_time": "2022-06-16T09:30:33.497Z"
   },
   {
    "duration": 3,
    "start_time": "2022-06-16T09:30:33.559Z"
   },
   {
    "duration": 60,
    "start_time": "2022-06-16T09:30:33.564Z"
   },
   {
    "duration": 4,
    "start_time": "2022-06-16T09:30:33.625Z"
   },
   {
    "duration": 22,
    "start_time": "2022-06-16T09:30:33.631Z"
   },
   {
    "duration": 66,
    "start_time": "2022-06-16T09:30:33.654Z"
   },
   {
    "duration": 4,
    "start_time": "2022-06-16T09:30:33.722Z"
   },
   {
    "duration": 12,
    "start_time": "2022-06-16T09:30:33.727Z"
   },
   {
    "duration": 15,
    "start_time": "2022-06-16T09:30:33.741Z"
   },
   {
    "duration": 12,
    "start_time": "2022-06-16T09:30:37.187Z"
   },
   {
    "duration": 11,
    "start_time": "2022-06-16T09:30:37.819Z"
   },
   {
    "duration": 94,
    "start_time": "2022-06-16T09:32:47.843Z"
   },
   {
    "duration": 16,
    "start_time": "2022-06-16T09:33:08.298Z"
   },
   {
    "duration": 12,
    "start_time": "2022-06-16T09:34:09.649Z"
   },
   {
    "duration": 11,
    "start_time": "2022-06-16T09:34:44.883Z"
   },
   {
    "duration": 2409,
    "start_time": "2022-06-16T09:42:30.250Z"
   },
   {
    "duration": 2367,
    "start_time": "2022-06-16T09:42:43.101Z"
   },
   {
    "duration": 2422,
    "start_time": "2022-06-16T09:45:37.679Z"
   },
   {
    "duration": 2520,
    "start_time": "2022-06-16T09:45:57.898Z"
   },
   {
    "duration": 2500,
    "start_time": "2022-06-16T09:46:09.822Z"
   },
   {
    "duration": 2494,
    "start_time": "2022-06-16T09:46:21.200Z"
   },
   {
    "duration": 2366,
    "start_time": "2022-06-16T09:46:33.872Z"
   },
   {
    "duration": 2410,
    "start_time": "2022-06-16T09:46:41.312Z"
   },
   {
    "duration": 2516,
    "start_time": "2022-06-16T09:46:49.119Z"
   },
   {
    "duration": 2408,
    "start_time": "2022-06-16T09:47:16.708Z"
   },
   {
    "duration": 2518,
    "start_time": "2022-06-16T09:47:25.769Z"
   },
   {
    "duration": 1383,
    "start_time": "2022-06-16T09:47:49.286Z"
   },
   {
    "duration": 429,
    "start_time": "2022-06-16T09:49:16.340Z"
   },
   {
    "duration": 11,
    "start_time": "2022-06-16T09:49:38.321Z"
   },
   {
    "duration": 5,
    "start_time": "2022-06-16T09:49:49.381Z"
   },
   {
    "duration": 13,
    "start_time": "2022-06-16T09:50:01.097Z"
   },
   {
    "duration": 3,
    "start_time": "2022-06-16T09:50:08.496Z"
   },
   {
    "duration": 37089,
    "start_time": "2022-06-16T09:53:06.119Z"
   },
   {
    "duration": 40421,
    "start_time": "2022-06-16T09:54:02.565Z"
   },
   {
    "duration": 4,
    "start_time": "2022-06-16T09:55:07.855Z"
   },
   {
    "duration": 18525,
    "start_time": "2022-06-16T09:55:09.070Z"
   },
   {
    "duration": 4,
    "start_time": "2022-06-16T09:56:23.792Z"
   },
   {
    "duration": 12416,
    "start_time": "2022-06-16T09:56:32.745Z"
   },
   {
    "duration": 12273,
    "start_time": "2022-06-16T10:01:19.669Z"
   },
   {
    "duration": 5,
    "start_time": "2022-06-16T10:01:31.944Z"
   },
   {
    "duration": 4,
    "start_time": "2022-06-16T10:01:41.674Z"
   },
   {
    "duration": 7820,
    "start_time": "2022-06-16T10:01:42.574Z"
   },
   {
    "duration": 8509,
    "start_time": "2022-06-16T10:03:50.557Z"
   },
   {
    "duration": 7571,
    "start_time": "2022-06-16T10:07:57.468Z"
   },
   {
    "duration": 2435,
    "start_time": "2022-06-16T10:10:13.287Z"
   },
   {
    "duration": 2785,
    "start_time": "2022-06-16T10:11:14.262Z"
   },
   {
    "duration": 2478,
    "start_time": "2022-06-16T10:11:26.553Z"
   },
   {
    "duration": 2388,
    "start_time": "2022-06-16T10:13:40.164Z"
   },
   {
    "duration": 2390,
    "start_time": "2022-06-16T10:14:44.422Z"
   },
   {
    "duration": 2436,
    "start_time": "2022-06-16T10:14:57.013Z"
   },
   {
    "duration": 2415,
    "start_time": "2022-06-16T10:15:46.806Z"
   },
   {
    "duration": 2398,
    "start_time": "2022-06-16T10:15:55.480Z"
   },
   {
    "duration": 7500,
    "start_time": "2022-06-16T10:17:09.183Z"
   },
   {
    "duration": 8201,
    "start_time": "2022-06-16T10:18:13.230Z"
   },
   {
    "duration": 8007,
    "start_time": "2022-06-16T10:18:32.768Z"
   },
   {
    "duration": 7574,
    "start_time": "2022-06-16T10:21:13.103Z"
   },
   {
    "duration": 33,
    "start_time": "2022-06-16T11:09:22.797Z"
   },
   {
    "duration": 33,
    "start_time": "2022-06-16T11:09:40.707Z"
   },
   {
    "duration": 34,
    "start_time": "2022-06-16T11:10:40.696Z"
   },
   {
    "duration": 33,
    "start_time": "2022-06-16T11:11:04.232Z"
   },
   {
    "duration": 38,
    "start_time": "2022-06-16T11:11:23.415Z"
   },
   {
    "duration": 33,
    "start_time": "2022-06-16T11:12:39.090Z"
   },
   {
    "duration": 45,
    "start_time": "2022-06-16T11:13:02.316Z"
   },
   {
    "duration": 51,
    "start_time": "2022-06-16T11:14:09.660Z"
   },
   {
    "duration": 42,
    "start_time": "2022-06-16T11:14:33.410Z"
   },
   {
    "duration": 35,
    "start_time": "2022-06-16T11:14:42.477Z"
   },
   {
    "duration": 40,
    "start_time": "2022-06-16T11:15:08.886Z"
   },
   {
    "duration": 47,
    "start_time": "2022-06-16T11:15:50.518Z"
   },
   {
    "duration": 1445,
    "start_time": "2022-06-17T07:20:20.806Z"
   },
   {
    "duration": 4,
    "start_time": "2022-06-17T07:20:22.253Z"
   },
   {
    "duration": 10,
    "start_time": "2022-06-17T07:20:22.259Z"
   },
   {
    "duration": 100,
    "start_time": "2022-06-17T07:20:22.271Z"
   },
   {
    "duration": 44,
    "start_time": "2022-06-17T07:20:22.373Z"
   },
   {
    "duration": 3,
    "start_time": "2022-06-17T07:20:22.418Z"
   },
   {
    "duration": 23,
    "start_time": "2022-06-17T07:20:22.423Z"
   },
   {
    "duration": 66,
    "start_time": "2022-06-17T07:20:22.447Z"
   },
   {
    "duration": 3,
    "start_time": "2022-06-17T07:20:22.515Z"
   },
   {
    "duration": 62,
    "start_time": "2022-06-17T07:20:22.519Z"
   },
   {
    "duration": 4,
    "start_time": "2022-06-17T07:20:22.583Z"
   },
   {
    "duration": 49,
    "start_time": "2022-06-17T07:20:22.589Z"
   },
   {
    "duration": 43,
    "start_time": "2022-06-17T07:20:22.639Z"
   },
   {
    "duration": 3,
    "start_time": "2022-06-17T07:20:22.685Z"
   },
   {
    "duration": 14,
    "start_time": "2022-06-17T07:20:22.689Z"
   },
   {
    "duration": 32,
    "start_time": "2022-06-17T07:20:22.705Z"
   },
   {
    "duration": 13,
    "start_time": "2022-06-17T07:20:22.739Z"
   },
   {
    "duration": 3,
    "start_time": "2022-06-17T07:20:22.754Z"
   },
   {
    "duration": 827,
    "start_time": "2022-06-17T07:20:22.758Z"
   },
   {
    "duration": 4,
    "start_time": "2022-06-17T07:20:23.586Z"
   },
   {
    "duration": 1732,
    "start_time": "2022-06-17T07:20:23.591Z"
   },
   {
    "duration": 8405,
    "start_time": "2022-06-17T07:20:25.325Z"
   },
   {
    "duration": 2873,
    "start_time": "2022-06-17T07:20:33.733Z"
   },
   {
    "duration": 8849,
    "start_time": "2022-06-17T07:20:36.609Z"
   },
   {
    "duration": 1674,
    "start_time": "2022-06-17T07:20:45.460Z"
   },
   {
    "duration": 159,
    "start_time": "2022-06-17T07:20:47.137Z"
   },
   {
    "duration": 59,
    "start_time": "2022-06-17T07:21:00.541Z"
   },
   {
    "duration": 54,
    "start_time": "2022-06-17T07:21:57.419Z"
   },
   {
    "duration": 50,
    "start_time": "2022-06-17T07:23:15.220Z"
   },
   {
    "duration": 4,
    "start_time": "2022-06-17T07:23:42.625Z"
   },
   {
    "duration": 5,
    "start_time": "2022-06-17T07:23:49.301Z"
   },
   {
    "duration": 60,
    "start_time": "2022-06-17T07:24:21.181Z"
   },
   {
    "duration": 46,
    "start_time": "2022-06-17T07:25:49.247Z"
   },
   {
    "duration": 40,
    "start_time": "2022-06-17T07:25:57.563Z"
   },
   {
    "duration": 9,
    "start_time": "2022-06-17T07:26:17.494Z"
   },
   {
    "duration": 6,
    "start_time": "2022-06-17T07:26:39.463Z"
   },
   {
    "duration": 14,
    "start_time": "2022-06-17T07:27:06.645Z"
   },
   {
    "duration": 50,
    "start_time": "2022-06-17T07:30:24.932Z"
   },
   {
    "duration": 45,
    "start_time": "2022-06-17T07:30:41.082Z"
   },
   {
    "duration": 54,
    "start_time": "2022-06-17T07:31:33.130Z"
   },
   {
    "duration": 50,
    "start_time": "2022-06-17T07:31:53.886Z"
   },
   {
    "duration": 48,
    "start_time": "2022-06-17T07:34:15.050Z"
   },
   {
    "duration": 42,
    "start_time": "2022-06-17T07:34:33.548Z"
   },
   {
    "duration": 48,
    "start_time": "2022-06-17T07:37:39.262Z"
   },
   {
    "duration": 47,
    "start_time": "2022-06-17T07:38:57.495Z"
   },
   {
    "duration": 54,
    "start_time": "2022-06-17T07:39:51.885Z"
   },
   {
    "duration": 48,
    "start_time": "2022-06-17T07:40:08.211Z"
   },
   {
    "duration": 65,
    "start_time": "2022-06-17T07:41:24.686Z"
   },
   {
    "duration": 55,
    "start_time": "2022-06-17T07:41:32.155Z"
   },
   {
    "duration": 51,
    "start_time": "2022-06-17T07:41:56.783Z"
   },
   {
    "duration": 50,
    "start_time": "2022-06-17T07:42:09.152Z"
   },
   {
    "duration": 64,
    "start_time": "2022-06-17T07:42:14.793Z"
   },
   {
    "duration": 389,
    "start_time": "2022-06-17T07:47:45.993Z"
   },
   {
    "duration": 9,
    "start_time": "2022-06-17T07:48:28.599Z"
   },
   {
    "duration": 5,
    "start_time": "2022-06-17T07:48:44.557Z"
   },
   {
    "duration": 64,
    "start_time": "2022-06-17T07:48:53.780Z"
   },
   {
    "duration": 4,
    "start_time": "2022-06-17T07:49:39.717Z"
   },
   {
    "duration": 55,
    "start_time": "2022-06-17T07:49:46.683Z"
   },
   {
    "duration": 54,
    "start_time": "2022-06-17T07:50:13.642Z"
   },
   {
    "duration": 46,
    "start_time": "2022-06-17T07:51:06.181Z"
   },
   {
    "duration": 54,
    "start_time": "2022-06-17T07:52:01.255Z"
   },
   {
    "duration": 50,
    "start_time": "2022-06-17T07:53:31.586Z"
   },
   {
    "duration": 392,
    "start_time": "2022-06-17T07:58:40.463Z"
   },
   {
    "duration": 478,
    "start_time": "2022-06-17T07:59:24.832Z"
   },
   {
    "duration": 37,
    "start_time": "2022-06-17T08:03:51.100Z"
   },
   {
    "duration": 38,
    "start_time": "2022-06-17T08:04:37.809Z"
   },
   {
    "duration": 42,
    "start_time": "2022-06-17T08:04:57.817Z"
   },
   {
    "duration": 47,
    "start_time": "2022-06-17T08:10:40.390Z"
   },
   {
    "duration": 44,
    "start_time": "2022-06-17T08:17:47.282Z"
   },
   {
    "duration": 46,
    "start_time": "2022-06-17T08:18:00.732Z"
   },
   {
    "duration": 45,
    "start_time": "2022-06-17T08:18:08.367Z"
   },
   {
    "duration": 47,
    "start_time": "2022-06-17T08:18:43.632Z"
   },
   {
    "duration": 59,
    "start_time": "2022-06-17T08:28:31.957Z"
   },
   {
    "duration": 49,
    "start_time": "2022-06-17T08:29:11.347Z"
   },
   {
    "duration": 53,
    "start_time": "2022-06-17T08:29:25.968Z"
   },
   {
    "duration": 52,
    "start_time": "2022-06-17T08:29:39.439Z"
   },
   {
    "duration": 49,
    "start_time": "2022-06-17T08:29:49.143Z"
   },
   {
    "duration": 5,
    "start_time": "2022-06-17T08:46:10.217Z"
   },
   {
    "duration": 141,
    "start_time": "2022-06-17T08:54:55.705Z"
   },
   {
    "duration": 280,
    "start_time": "2022-06-17T08:55:05.020Z"
   },
   {
    "duration": 129,
    "start_time": "2022-06-17T08:55:26.716Z"
   },
   {
    "duration": 27,
    "start_time": "2022-06-17T08:56:11.534Z"
   },
   {
    "duration": 0,
    "start_time": "2022-06-17T08:58:37.400Z"
   },
   {
    "duration": 107,
    "start_time": "2022-06-17T08:58:59.407Z"
   },
   {
    "duration": 109,
    "start_time": "2022-06-17T09:00:23.368Z"
   },
   {
    "duration": 143,
    "start_time": "2022-06-17T09:00:33.638Z"
   },
   {
    "duration": 236398,
    "start_time": "2022-06-17T09:03:36.522Z"
   },
   {
    "duration": 1288,
    "start_time": "2022-06-17T19:39:00.844Z"
   },
   {
    "duration": 3,
    "start_time": "2022-06-17T19:39:02.134Z"
   },
   {
    "duration": 29,
    "start_time": "2022-06-17T19:39:02.139Z"
   },
   {
    "duration": 103,
    "start_time": "2022-06-17T19:39:02.170Z"
   },
   {
    "duration": 42,
    "start_time": "2022-06-17T19:39:02.275Z"
   },
   {
    "duration": 2,
    "start_time": "2022-06-17T19:39:02.319Z"
   },
   {
    "duration": 23,
    "start_time": "2022-06-17T19:39:02.322Z"
   },
   {
    "duration": 86,
    "start_time": "2022-06-17T19:39:02.347Z"
   },
   {
    "duration": 3,
    "start_time": "2022-06-17T19:39:02.435Z"
   },
   {
    "duration": 78,
    "start_time": "2022-06-17T19:39:02.441Z"
   },
   {
    "duration": 4,
    "start_time": "2022-06-17T19:39:02.520Z"
   },
   {
    "duration": 24,
    "start_time": "2022-06-17T19:39:02.526Z"
   },
   {
    "duration": 67,
    "start_time": "2022-06-17T19:39:02.551Z"
   },
   {
    "duration": 4,
    "start_time": "2022-06-17T19:39:02.620Z"
   },
   {
    "duration": 16,
    "start_time": "2022-06-17T19:39:02.625Z"
   },
   {
    "duration": 16,
    "start_time": "2022-06-17T19:39:02.643Z"
   },
   {
    "duration": 36,
    "start_time": "2022-06-17T19:39:02.661Z"
   },
   {
    "duration": 2,
    "start_time": "2022-06-17T19:39:02.699Z"
   },
   {
    "duration": 808,
    "start_time": "2022-06-17T19:39:02.703Z"
   },
   {
    "duration": 3,
    "start_time": "2022-06-17T19:39:03.513Z"
   },
   {
    "duration": 1677,
    "start_time": "2022-06-17T19:39:03.518Z"
   },
   {
    "duration": 7796,
    "start_time": "2022-06-17T19:39:05.197Z"
   },
   {
    "duration": 2558,
    "start_time": "2022-06-17T19:39:12.995Z"
   },
   {
    "duration": 8318,
    "start_time": "2022-06-17T19:39:15.555Z"
   },
   {
    "duration": 1463,
    "start_time": "2022-06-17T19:39:23.875Z"
   },
   {
    "duration": 55,
    "start_time": "2022-06-17T19:39:25.339Z"
   },
   {
    "duration": 355,
    "start_time": "2022-06-17T19:39:25.396Z"
   },
   {
    "duration": 115,
    "start_time": "2022-06-17T19:39:29.724Z"
   },
   {
    "duration": 100,
    "start_time": "2022-06-17T19:39:41.538Z"
   },
   {
    "duration": 98,
    "start_time": "2022-06-17T19:40:15.304Z"
   },
   {
    "duration": 136,
    "start_time": "2022-06-17T19:40:28.951Z"
   },
   {
    "duration": 5,
    "start_time": "2022-06-17T19:48:44.935Z"
   },
   {
    "duration": 17,
    "start_time": "2022-06-17T19:49:53.640Z"
   },
   {
    "duration": 8,
    "start_time": "2022-06-17T19:50:07.044Z"
   },
   {
    "duration": 8,
    "start_time": "2022-06-17T19:50:32.574Z"
   },
   {
    "duration": 9,
    "start_time": "2022-06-17T19:50:43.200Z"
   },
   {
    "duration": 19,
    "start_time": "2022-06-17T19:54:27.937Z"
   },
   {
    "duration": 134,
    "start_time": "2022-06-17T19:57:37.828Z"
   },
   {
    "duration": 10,
    "start_time": "2022-06-17T20:02:23.080Z"
   },
   {
    "duration": 20,
    "start_time": "2022-06-17T20:18:16.789Z"
   },
   {
    "duration": 99,
    "start_time": "2022-06-17T20:18:28.704Z"
   },
   {
    "duration": 12,
    "start_time": "2022-06-17T20:18:38.186Z"
   },
   {
    "duration": 13,
    "start_time": "2022-06-17T20:20:24.592Z"
   },
   {
    "duration": 13,
    "start_time": "2022-06-17T20:20:55.827Z"
   },
   {
    "duration": 13,
    "start_time": "2022-06-17T20:22:46.978Z"
   },
   {
    "duration": 5,
    "start_time": "2022-06-17T20:25:03.837Z"
   },
   {
    "duration": 17,
    "start_time": "2022-06-17T20:44:18.859Z"
   },
   {
    "duration": 11,
    "start_time": "2022-06-17T20:46:10.700Z"
   },
   {
    "duration": 14,
    "start_time": "2022-06-17T20:46:24.929Z"
   },
   {
    "duration": 12,
    "start_time": "2022-06-17T20:46:29.004Z"
   },
   {
    "duration": 16,
    "start_time": "2022-06-17T20:47:03.921Z"
   },
   {
    "duration": 7,
    "start_time": "2022-06-17T20:47:06.824Z"
   },
   {
    "duration": 11,
    "start_time": "2022-06-17T20:47:10.963Z"
   },
   {
    "duration": 167,
    "start_time": "2022-06-17T20:47:57.353Z"
   },
   {
    "duration": 125,
    "start_time": "2022-06-17T20:50:17.305Z"
   },
   {
    "duration": 5,
    "start_time": "2022-06-17T20:58:33.288Z"
   },
   {
    "duration": 6,
    "start_time": "2022-06-17T20:58:45.537Z"
   },
   {
    "duration": 5,
    "start_time": "2022-06-17T21:01:37.865Z"
   },
   {
    "duration": 5,
    "start_time": "2022-06-17T21:02:18.789Z"
   },
   {
    "duration": 4,
    "start_time": "2022-06-17T21:02:32.523Z"
   },
   {
    "duration": 4,
    "start_time": "2022-06-17T21:03:12.918Z"
   },
   {
    "duration": 6,
    "start_time": "2022-06-17T21:03:28.904Z"
   },
   {
    "duration": 10,
    "start_time": "2022-06-17T21:05:20.033Z"
   },
   {
    "duration": 12,
    "start_time": "2022-06-17T21:05:36.209Z"
   },
   {
    "duration": 11,
    "start_time": "2022-06-17T21:05:54.318Z"
   },
   {
    "duration": 10,
    "start_time": "2022-06-17T21:06:06.331Z"
   },
   {
    "duration": 12,
    "start_time": "2022-06-17T21:06:16.558Z"
   },
   {
    "duration": 13,
    "start_time": "2022-06-17T21:11:55.559Z"
   },
   {
    "duration": 5,
    "start_time": "2022-06-17T21:12:09.123Z"
   },
   {
    "duration": 11,
    "start_time": "2022-06-17T21:12:11.968Z"
   },
   {
    "duration": 13,
    "start_time": "2022-06-17T21:12:36.717Z"
   },
   {
    "duration": 11,
    "start_time": "2022-06-17T21:12:40.576Z"
   },
   {
    "duration": 5,
    "start_time": "2022-06-17T21:12:42.116Z"
   },
   {
    "duration": 7,
    "start_time": "2022-06-17T21:16:06.497Z"
   },
   {
    "duration": 11,
    "start_time": "2022-06-17T21:24:37.157Z"
   },
   {
    "duration": 13,
    "start_time": "2022-06-17T21:25:00.753Z"
   },
   {
    "duration": 10,
    "start_time": "2022-06-17T21:25:04.540Z"
   },
   {
    "duration": 13,
    "start_time": "2022-06-17T21:26:55.277Z"
   },
   {
    "duration": 216,
    "start_time": "2022-06-17T21:27:08.151Z"
   },
   {
    "duration": 142,
    "start_time": "2022-06-17T21:27:14.260Z"
   },
   {
    "duration": 4,
    "start_time": "2022-06-17T21:27:19.113Z"
   },
   {
    "duration": 5,
    "start_time": "2022-06-17T21:27:25.885Z"
   },
   {
    "duration": 10,
    "start_time": "2022-06-17T21:27:30.799Z"
   },
   {
    "duration": 11,
    "start_time": "2022-06-17T21:29:43.163Z"
   },
   {
    "duration": 14,
    "start_time": "2022-06-17T21:29:49.585Z"
   },
   {
    "duration": 199,
    "start_time": "2022-06-17T21:30:00.080Z"
   },
   {
    "duration": 126,
    "start_time": "2022-06-17T21:30:06.404Z"
   },
   {
    "duration": 5,
    "start_time": "2022-06-17T21:30:12.075Z"
   },
   {
    "duration": 5,
    "start_time": "2022-06-17T21:30:16.430Z"
   },
   {
    "duration": 9,
    "start_time": "2022-06-17T21:31:13.203Z"
   },
   {
    "duration": 9,
    "start_time": "2022-06-17T21:31:25.526Z"
   },
   {
    "duration": 17,
    "start_time": "2022-06-17T21:31:38.012Z"
   },
   {
    "duration": 9,
    "start_time": "2022-06-17T21:32:01.251Z"
   },
   {
    "duration": 14,
    "start_time": "2022-06-17T21:32:17.614Z"
   },
   {
    "duration": 5,
    "start_time": "2022-06-17T21:32:40.983Z"
   },
   {
    "duration": 9,
    "start_time": "2022-06-17T21:32:43.699Z"
   },
   {
    "duration": 12,
    "start_time": "2022-06-17T21:34:22.735Z"
   },
   {
    "duration": 13,
    "start_time": "2022-06-17T21:36:10.710Z"
   },
   {
    "duration": 14,
    "start_time": "2022-06-17T21:36:44.096Z"
   },
   {
    "duration": 64,
    "start_time": "2022-06-18T19:58:45.282Z"
   },
   {
    "duration": 1283,
    "start_time": "2022-06-18T19:58:51.667Z"
   },
   {
    "duration": 4,
    "start_time": "2022-06-18T19:58:52.952Z"
   },
   {
    "duration": 8,
    "start_time": "2022-06-18T19:58:52.957Z"
   },
   {
    "duration": 81,
    "start_time": "2022-06-18T19:58:52.967Z"
   },
   {
    "duration": 42,
    "start_time": "2022-06-18T19:58:53.049Z"
   },
   {
    "duration": 4,
    "start_time": "2022-06-18T19:58:53.093Z"
   },
   {
    "duration": 14,
    "start_time": "2022-06-18T19:58:53.099Z"
   },
   {
    "duration": 64,
    "start_time": "2022-06-18T19:58:53.115Z"
   },
   {
    "duration": 2,
    "start_time": "2022-06-18T19:58:53.195Z"
   },
   {
    "duration": 53,
    "start_time": "2022-06-18T19:58:53.199Z"
   },
   {
    "duration": 4,
    "start_time": "2022-06-18T19:58:53.254Z"
   },
   {
    "duration": 51,
    "start_time": "2022-06-18T19:58:53.260Z"
   },
   {
    "duration": 39,
    "start_time": "2022-06-18T19:58:53.313Z"
   },
   {
    "duration": 3,
    "start_time": "2022-06-18T19:58:53.353Z"
   },
   {
    "duration": 13,
    "start_time": "2022-06-18T19:58:53.357Z"
   },
   {
    "duration": 11,
    "start_time": "2022-06-18T19:58:53.394Z"
   },
   {
    "duration": 16,
    "start_time": "2022-06-18T19:58:53.406Z"
   },
   {
    "duration": 2,
    "start_time": "2022-06-18T19:58:53.424Z"
   },
   {
    "duration": 786,
    "start_time": "2022-06-18T19:58:53.428Z"
   },
   {
    "duration": 3,
    "start_time": "2022-06-18T19:58:54.216Z"
   },
   {
    "duration": 1604,
    "start_time": "2022-06-18T19:58:54.220Z"
   },
   {
    "duration": 7707,
    "start_time": "2022-06-18T19:58:55.826Z"
   },
   {
    "duration": 2545,
    "start_time": "2022-06-18T19:59:03.535Z"
   },
   {
    "duration": 8641,
    "start_time": "2022-06-18T19:59:06.082Z"
   },
   {
    "duration": 1537,
    "start_time": "2022-06-18T19:59:14.724Z"
   },
   {
    "duration": 54,
    "start_time": "2022-06-18T19:59:22.152Z"
   },
   {
    "duration": 30,
    "start_time": "2022-06-18T20:04:22.791Z"
   },
   {
    "duration": 224,
    "start_time": "2022-06-18T20:04:39.799Z"
   },
   {
    "duration": 82,
    "start_time": "2022-06-18T20:07:27.675Z"
   },
   {
    "duration": 15,
    "start_time": "2022-06-18T20:09:28.588Z"
   },
   {
    "duration": 14,
    "start_time": "2022-06-18T20:10:02.340Z"
   },
   {
    "duration": 10,
    "start_time": "2022-06-18T20:11:38.430Z"
   },
   {
    "duration": 44,
    "start_time": "2022-06-18T20:12:06.851Z"
   },
   {
    "duration": 10,
    "start_time": "2022-06-18T20:12:19.730Z"
   },
   {
    "duration": 45,
    "start_time": "2022-06-18T20:12:30.928Z"
   },
   {
    "duration": 349,
    "start_time": "2022-06-18T20:12:33.669Z"
   },
   {
    "duration": 51,
    "start_time": "2022-06-18T20:13:40.517Z"
   },
   {
    "duration": 47,
    "start_time": "2022-06-18T20:13:54.133Z"
   },
   {
    "duration": 47,
    "start_time": "2022-06-18T20:15:01.423Z"
   },
   {
    "duration": 37,
    "start_time": "2022-06-18T20:19:07.861Z"
   },
   {
    "duration": 187,
    "start_time": "2022-06-18T20:19:22.733Z"
   },
   {
    "duration": 144,
    "start_time": "2022-06-18T20:20:50.067Z"
   },
   {
    "duration": 177,
    "start_time": "2022-06-18T20:21:25.517Z"
   },
   {
    "duration": 181,
    "start_time": "2022-06-18T20:21:36.845Z"
   },
   {
    "duration": 347,
    "start_time": "2022-06-18T20:37:58.781Z"
   },
   {
    "duration": 152,
    "start_time": "2022-06-18T20:38:16.772Z"
   },
   {
    "duration": 165,
    "start_time": "2022-06-18T20:40:33.972Z"
   },
   {
    "duration": 190,
    "start_time": "2022-06-18T20:40:57.006Z"
   },
   {
    "duration": 63,
    "start_time": "2022-06-18T20:44:05.925Z"
   },
   {
    "duration": 50,
    "start_time": "2022-06-18T20:45:57.459Z"
   },
   {
    "duration": 55,
    "start_time": "2022-06-18T20:48:18.984Z"
   },
   {
    "duration": 51,
    "start_time": "2022-06-18T20:49:15.044Z"
   },
   {
    "duration": 51,
    "start_time": "2022-06-18T20:49:57.507Z"
   },
   {
    "duration": 110,
    "start_time": "2022-06-18T20:50:19.345Z"
   },
   {
    "duration": 53,
    "start_time": "2022-06-18T20:51:01.245Z"
   },
   {
    "duration": 49,
    "start_time": "2022-06-18T20:51:12.149Z"
   },
   {
    "duration": 47,
    "start_time": "2022-06-18T20:51:58.562Z"
   },
   {
    "duration": 48,
    "start_time": "2022-06-18T20:52:06.061Z"
   },
   {
    "duration": 65,
    "start_time": "2022-06-18T20:52:27.372Z"
   },
   {
    "duration": 59,
    "start_time": "2022-06-18T20:53:05.935Z"
   },
   {
    "duration": 49,
    "start_time": "2022-06-18T20:53:15.141Z"
   },
   {
    "duration": 53,
    "start_time": "2022-06-18T20:54:31.627Z"
   },
   {
    "duration": 52,
    "start_time": "2022-06-18T20:55:00.060Z"
   },
   {
    "duration": 31,
    "start_time": "2022-06-18T20:56:21.879Z"
   },
   {
    "duration": 22,
    "start_time": "2022-06-18T20:56:51.876Z"
   },
   {
    "duration": 20,
    "start_time": "2022-06-18T20:56:58.034Z"
   },
   {
    "duration": 66,
    "start_time": "2022-06-18T20:57:20.667Z"
   },
   {
    "duration": 50,
    "start_time": "2022-06-18T20:57:31.224Z"
   },
   {
    "duration": 63,
    "start_time": "2022-06-18T20:58:10.202Z"
   },
   {
    "duration": 34,
    "start_time": "2022-06-18T20:58:31.187Z"
   },
   {
    "duration": 49,
    "start_time": "2022-06-18T20:58:49.058Z"
   },
   {
    "duration": 47,
    "start_time": "2022-06-18T20:59:11.594Z"
   },
   {
    "duration": 57,
    "start_time": "2022-06-18T21:07:29.160Z"
   },
   {
    "duration": 51,
    "start_time": "2022-06-18T21:07:55.266Z"
   },
   {
    "duration": 46,
    "start_time": "2022-06-18T21:09:43.641Z"
   },
   {
    "duration": 54,
    "start_time": "2022-06-18T21:12:58.000Z"
   },
   {
    "duration": 51,
    "start_time": "2022-06-18T21:17:26.845Z"
   },
   {
    "duration": 49,
    "start_time": "2022-06-18T21:18:04.768Z"
   },
   {
    "duration": 51,
    "start_time": "2022-06-18T21:18:54.763Z"
   },
   {
    "duration": 47,
    "start_time": "2022-06-18T21:19:28.544Z"
   },
   {
    "duration": 50,
    "start_time": "2022-06-18T21:19:58.701Z"
   },
   {
    "duration": 50,
    "start_time": "2022-06-18T21:20:09.301Z"
   },
   {
    "duration": 50,
    "start_time": "2022-06-18T21:20:33.516Z"
   },
   {
    "duration": 49,
    "start_time": "2022-06-18T21:20:43.296Z"
   },
   {
    "duration": 51,
    "start_time": "2022-06-18T21:21:20.312Z"
   },
   {
    "duration": 49,
    "start_time": "2022-06-18T21:22:56.299Z"
   },
   {
    "duration": 50,
    "start_time": "2022-06-18T21:23:10.410Z"
   },
   {
    "duration": 62,
    "start_time": "2022-06-18T21:26:25.440Z"
   },
   {
    "duration": 55,
    "start_time": "2022-06-18T21:30:28.432Z"
   },
   {
    "duration": 63,
    "start_time": "2022-06-18T21:30:44.021Z"
   },
   {
    "duration": 69,
    "start_time": "2022-06-18T21:30:52.940Z"
   },
   {
    "duration": 174,
    "start_time": "2022-06-18T21:30:57.757Z"
   },
   {
    "duration": 51,
    "start_time": "2022-06-18T21:31:09.337Z"
   },
   {
    "duration": 58,
    "start_time": "2022-06-18T21:31:18.520Z"
   },
   {
    "duration": 53,
    "start_time": "2022-06-18T21:31:51.168Z"
   },
   {
    "duration": 50,
    "start_time": "2022-06-18T21:32:05.540Z"
   },
   {
    "duration": 27,
    "start_time": "2022-06-18T21:34:18.060Z"
   },
   {
    "duration": 54,
    "start_time": "2022-06-18T21:34:38.160Z"
   },
   {
    "duration": 56,
    "start_time": "2022-06-18T21:37:27.330Z"
   },
   {
    "duration": 58,
    "start_time": "2022-06-18T21:38:01.488Z"
   },
   {
    "duration": 58,
    "start_time": "2022-06-18T21:38:56.995Z"
   },
   {
    "duration": 57,
    "start_time": "2022-06-18T21:39:55.611Z"
   },
   {
    "duration": 57,
    "start_time": "2022-06-18T21:40:05.255Z"
   },
   {
    "duration": 63,
    "start_time": "2022-06-18T21:44:22.117Z"
   },
   {
    "duration": 54,
    "start_time": "2022-06-18T21:44:54.270Z"
   },
   {
    "duration": 29,
    "start_time": "2022-06-18T21:45:35.447Z"
   },
   {
    "duration": 63,
    "start_time": "2022-06-18T21:46:04.737Z"
   },
   {
    "duration": 52,
    "start_time": "2022-06-18T21:49:47.275Z"
   },
   {
    "duration": 55,
    "start_time": "2022-06-18T21:50:02.128Z"
   },
   {
    "duration": 56,
    "start_time": "2022-06-18T21:50:19.281Z"
   },
   {
    "duration": 61,
    "start_time": "2022-06-18T21:50:43.757Z"
   },
   {
    "duration": 55,
    "start_time": "2022-06-18T21:50:53.601Z"
   },
   {
    "duration": 50,
    "start_time": "2022-06-18T21:53:41.467Z"
   },
   {
    "duration": 53,
    "start_time": "2022-06-18T21:53:47.187Z"
   },
   {
    "duration": 46,
    "start_time": "2022-06-18T21:53:55.419Z"
   },
   {
    "duration": 54,
    "start_time": "2022-06-18T21:56:42.427Z"
   },
   {
    "duration": 50,
    "start_time": "2022-06-18T21:57:19.536Z"
   },
   {
    "duration": 1415,
    "start_time": "2022-06-19T09:00:56.598Z"
   },
   {
    "duration": 4,
    "start_time": "2022-06-19T09:00:58.015Z"
   },
   {
    "duration": 9,
    "start_time": "2022-06-19T09:00:58.020Z"
   },
   {
    "duration": 165,
    "start_time": "2022-06-19T09:00:58.031Z"
   },
   {
    "duration": 38,
    "start_time": "2022-06-19T09:00:58.198Z"
   },
   {
    "duration": 3,
    "start_time": "2022-06-19T09:00:58.238Z"
   },
   {
    "duration": 18,
    "start_time": "2022-06-19T09:00:58.242Z"
   },
   {
    "duration": 64,
    "start_time": "2022-06-19T09:00:58.261Z"
   },
   {
    "duration": 16,
    "start_time": "2022-06-19T09:00:58.327Z"
   },
   {
    "duration": 54,
    "start_time": "2022-06-19T09:00:58.345Z"
   },
   {
    "duration": 5,
    "start_time": "2022-06-19T09:00:58.400Z"
   },
   {
    "duration": 52,
    "start_time": "2022-06-19T09:00:58.407Z"
   },
   {
    "duration": 39,
    "start_time": "2022-06-19T09:00:58.461Z"
   },
   {
    "duration": 3,
    "start_time": "2022-06-19T09:00:58.502Z"
   },
   {
    "duration": 35,
    "start_time": "2022-06-19T09:00:58.507Z"
   },
   {
    "duration": 14,
    "start_time": "2022-06-19T09:00:58.545Z"
   },
   {
    "duration": 12,
    "start_time": "2022-06-19T09:00:58.560Z"
   },
   {
    "duration": 4,
    "start_time": "2022-06-19T09:00:58.574Z"
   },
   {
    "duration": 785,
    "start_time": "2022-06-19T09:00:58.579Z"
   },
   {
    "duration": 3,
    "start_time": "2022-06-19T09:00:59.365Z"
   },
   {
    "duration": 1691,
    "start_time": "2022-06-19T09:00:59.370Z"
   },
   {
    "duration": 7979,
    "start_time": "2022-06-19T09:01:01.063Z"
   },
   {
    "duration": 2646,
    "start_time": "2022-06-19T09:01:09.044Z"
   },
   {
    "duration": 8574,
    "start_time": "2022-06-19T09:01:11.692Z"
   },
   {
    "duration": 1431,
    "start_time": "2022-06-19T09:01:20.268Z"
   },
   {
    "duration": 180,
    "start_time": "2022-06-19T09:01:21.700Z"
   },
   {
    "duration": 109,
    "start_time": "2022-06-19T09:01:21.882Z"
   },
   {
    "duration": 0,
    "start_time": "2022-06-19T09:01:21.993Z"
   },
   {
    "duration": 0,
    "start_time": "2022-06-19T09:01:21.994Z"
   },
   {
    "duration": 0,
    "start_time": "2022-06-19T09:01:21.995Z"
   },
   {
    "duration": 0,
    "start_time": "2022-06-19T09:01:21.996Z"
   },
   {
    "duration": 0,
    "start_time": "2022-06-19T09:01:21.997Z"
   },
   {
    "duration": 0,
    "start_time": "2022-06-19T09:01:21.998Z"
   },
   {
    "duration": 5,
    "start_time": "2022-06-19T09:03:13.758Z"
   },
   {
    "duration": 17,
    "start_time": "2022-06-19T09:03:13.765Z"
   },
   {
    "duration": 11,
    "start_time": "2022-06-19T09:03:13.783Z"
   },
   {
    "duration": 71,
    "start_time": "2022-06-19T09:03:13.796Z"
   },
   {
    "duration": 35,
    "start_time": "2022-06-19T09:03:13.869Z"
   },
   {
    "duration": 3,
    "start_time": "2022-06-19T09:03:13.906Z"
   },
   {
    "duration": 37,
    "start_time": "2022-06-19T09:03:13.910Z"
   },
   {
    "duration": 25,
    "start_time": "2022-06-19T09:03:13.949Z"
   },
   {
    "duration": 3,
    "start_time": "2022-06-19T09:03:13.976Z"
   },
   {
    "duration": 80,
    "start_time": "2022-06-19T09:03:13.980Z"
   },
   {
    "duration": 6,
    "start_time": "2022-06-19T09:03:14.061Z"
   },
   {
    "duration": 24,
    "start_time": "2022-06-19T09:03:14.069Z"
   },
   {
    "duration": 62,
    "start_time": "2022-06-19T09:03:14.095Z"
   },
   {
    "duration": 2,
    "start_time": "2022-06-19T09:03:14.161Z"
   },
   {
    "duration": 18,
    "start_time": "2022-06-19T09:03:14.165Z"
   },
   {
    "duration": 17,
    "start_time": "2022-06-19T09:03:14.185Z"
   },
   {
    "duration": 11,
    "start_time": "2022-06-19T09:03:14.203Z"
   },
   {
    "duration": 3,
    "start_time": "2022-06-19T09:03:14.216Z"
   },
   {
    "duration": 740,
    "start_time": "2022-06-19T09:03:14.220Z"
   },
   {
    "duration": 3,
    "start_time": "2022-06-19T09:03:14.962Z"
   },
   {
    "duration": 1609,
    "start_time": "2022-06-19T09:03:14.966Z"
   },
   {
    "duration": 8746,
    "start_time": "2022-06-19T09:03:16.577Z"
   },
   {
    "duration": 2571,
    "start_time": "2022-06-19T09:03:25.325Z"
   },
   {
    "duration": 8611,
    "start_time": "2022-06-19T09:03:27.898Z"
   },
   {
    "duration": 1528,
    "start_time": "2022-06-19T09:03:36.510Z"
   },
   {
    "duration": 54,
    "start_time": "2022-06-19T09:03:38.039Z"
   },
   {
    "duration": 11,
    "start_time": "2022-06-19T09:03:38.095Z"
   },
   {
    "duration": 0,
    "start_time": "2022-06-19T09:03:38.107Z"
   },
   {
    "duration": 0,
    "start_time": "2022-06-19T09:03:38.108Z"
   },
   {
    "duration": 0,
    "start_time": "2022-06-19T09:03:38.109Z"
   },
   {
    "duration": 1,
    "start_time": "2022-06-19T09:03:38.110Z"
   },
   {
    "duration": 0,
    "start_time": "2022-06-19T09:03:38.112Z"
   },
   {
    "duration": 0,
    "start_time": "2022-06-19T09:03:38.113Z"
   },
   {
    "duration": 817,
    "start_time": "2022-06-19T09:09:05.451Z"
   },
   {
    "duration": 1826,
    "start_time": "2022-06-19T09:09:23.840Z"
   },
   {
    "duration": 2586,
    "start_time": "2022-06-19T09:10:47.056Z"
   },
   {
    "duration": 9070,
    "start_time": "2022-06-19T09:10:59.156Z"
   },
   {
    "duration": 1659,
    "start_time": "2022-06-19T09:14:59.153Z"
   },
   {
    "duration": 503,
    "start_time": "2022-06-19T09:25:50.795Z"
   },
   {
    "duration": 53,
    "start_time": "2022-06-19T09:29:33.873Z"
   },
   {
    "duration": 86,
    "start_time": "2022-06-19T09:29:56.685Z"
   },
   {
    "duration": 53,
    "start_time": "2022-06-19T09:33:00.260Z"
   },
   {
    "duration": 14,
    "start_time": "2022-06-19T09:35:26.542Z"
   },
   {
    "duration": 11,
    "start_time": "2022-06-19T09:35:35.787Z"
   },
   {
    "duration": 15,
    "start_time": "2022-06-19T09:36:52.208Z"
   },
   {
    "duration": 9,
    "start_time": "2022-06-19T09:37:00.863Z"
   },
   {
    "duration": 7,
    "start_time": "2022-06-19T09:55:09.517Z"
   },
   {
    "duration": 8,
    "start_time": "2022-06-19T09:55:54.780Z"
   },
   {
    "duration": 1367,
    "start_time": "2022-06-19T11:42:33.458Z"
   },
   {
    "duration": 4,
    "start_time": "2022-06-19T11:42:34.830Z"
   },
   {
    "duration": 3,
    "start_time": "2022-06-19T11:42:34.846Z"
   },
   {
    "duration": 170,
    "start_time": "2022-06-19T11:42:34.855Z"
   },
   {
    "duration": 57,
    "start_time": "2022-06-19T11:42:35.027Z"
   },
   {
    "duration": 3,
    "start_time": "2022-06-19T11:42:35.086Z"
   },
   {
    "duration": 35,
    "start_time": "2022-06-19T11:42:35.091Z"
   },
   {
    "duration": 128,
    "start_time": "2022-06-19T11:42:35.128Z"
   },
   {
    "duration": 3,
    "start_time": "2022-06-19T11:42:35.258Z"
   },
   {
    "duration": 80,
    "start_time": "2022-06-19T11:42:35.264Z"
   },
   {
    "duration": 8,
    "start_time": "2022-06-19T11:42:35.346Z"
   },
   {
    "duration": 22,
    "start_time": "2022-06-19T11:42:35.357Z"
   },
   {
    "duration": 83,
    "start_time": "2022-06-19T11:42:35.381Z"
   },
   {
    "duration": 4,
    "start_time": "2022-06-19T11:42:35.466Z"
   },
   {
    "duration": 24,
    "start_time": "2022-06-19T11:42:35.472Z"
   },
   {
    "duration": 30,
    "start_time": "2022-06-19T11:42:35.498Z"
   },
   {
    "duration": 919,
    "start_time": "2022-06-19T11:42:35.533Z"
   },
   {
    "duration": 2439,
    "start_time": "2022-06-19T11:42:36.454Z"
   },
   {
    "duration": 10475,
    "start_time": "2022-06-19T11:42:38.895Z"
   },
   {
    "duration": 3344,
    "start_time": "2022-06-19T11:42:49.372Z"
   },
   {
    "duration": 13199,
    "start_time": "2022-06-19T11:42:52.726Z"
   },
   {
    "duration": 1853,
    "start_time": "2022-06-19T11:43:05.939Z"
   },
   {
    "duration": 188,
    "start_time": "2022-06-19T11:43:07.794Z"
   },
   {
    "duration": 524,
    "start_time": "2022-06-19T11:43:07.984Z"
   },
   {
    "duration": 74,
    "start_time": "2022-06-19T11:43:08.510Z"
   },
   {
    "duration": 168,
    "start_time": "2022-06-19T11:43:08.586Z"
   },
   {
    "duration": 25,
    "start_time": "2022-06-19T11:43:08.756Z"
   },
   {
    "duration": 43,
    "start_time": "2022-06-19T11:43:08.787Z"
   },
   {
    "duration": 57,
    "start_time": "2022-06-19T11:43:08.837Z"
   },
   {
    "duration": 23,
    "start_time": "2022-06-19T11:43:08.899Z"
   },
   {
    "duration": 1565,
    "start_time": "2022-06-19T21:03:48.888Z"
   },
   {
    "duration": 9,
    "start_time": "2022-06-19T21:03:50.455Z"
   },
   {
    "duration": 43,
    "start_time": "2022-06-19T21:03:50.473Z"
   },
   {
    "duration": 237,
    "start_time": "2022-06-19T21:04:02.188Z"
   },
   {
    "duration": 39,
    "start_time": "2022-06-19T21:05:13.108Z"
   },
   {
    "duration": 82,
    "start_time": "2022-06-19T21:06:05.544Z"
   },
   {
    "duration": 79,
    "start_time": "2022-06-19T21:06:44.655Z"
   },
   {
    "duration": 29,
    "start_time": "2022-06-19T21:06:47.322Z"
   },
   {
    "duration": 26,
    "start_time": "2022-06-19T21:07:10.009Z"
   }
  ],
  "kernelspec": {
   "display_name": "Python 3 (ipykernel)",
   "language": "python",
   "name": "python3"
  },
  "language_info": {
   "codemirror_mode": {
    "name": "ipython",
    "version": 3
   },
   "file_extension": ".py",
   "mimetype": "text/x-python",
   "name": "python",
   "nbconvert_exporter": "python",
   "pygments_lexer": "ipython3",
   "version": "3.9.7"
  },
  "toc": {
   "base_numbering": 1,
   "nav_menu": {},
   "number_sections": true,
   "sideBar": true,
   "skip_h1_title": true,
   "title_cell": "Table of Contents",
   "title_sidebar": "Contents",
   "toc_cell": false,
   "toc_position": {},
   "toc_section_display": true,
   "toc_window_display": true
  }
 },
 "nbformat": 4,
 "nbformat_minor": 2
}
